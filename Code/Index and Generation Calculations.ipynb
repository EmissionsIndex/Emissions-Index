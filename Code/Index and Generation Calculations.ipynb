{
 "cells": [
  {
   "cell_type": "markdown",
   "metadata": {
    "deletable": true,
    "editable": true
   },
   "source": [
    "# Import cleaned EIA/EPA data and calculate final Emissions Index/Generation by Fuel data\n",
    "\n",
    "This notebook makes use of data created in the notebooks (nested levels indicate a chain of calculations):\n",
    "- EIA Bulk Download - extract facility generation\n",
    "    - Emission factors\n",
    "- EIA bulk download - non-facility (distributed PV & state-level)\n",
    "    - Emission factors\n",
    "- Group EPA emissions data by month and quarter\n",
    "    - Load EPA Emissions Data\n",
    "    \n"
   ]
  },
  {
   "cell_type": "code",
   "execution_count": 1,
   "metadata": {
    "ExecuteTime": {
     "end_time": "2017-03-23T15:41:16.419000",
     "start_time": "2017-03-23T15:41:02.116000"
    },
    "collapsed": false,
    "deletable": true,
    "editable": true
   },
   "outputs": [],
   "source": [
    "%matplotlib inline\n",
    "from __future__ import division\n",
    "import matplotlib.pyplot as plt\n",
    "import seaborn as sns\n",
    "# import plotly.plotly as py\n",
    "# import plotly.graph_objs as go\n",
    "# from plotly.offline import download_plotlyjs, init_notebook_mode, plot, iplot\n",
    "import pandas as pd\n",
    "import os\n",
    "import numpy as np\n",
    "# init_notebook_mode(connected=True)\n",
    "import datetime as dt"
   ]
  },
  {
   "cell_type": "markdown",
   "metadata": {
    "deletable": true,
    "editable": true
   },
   "source": [
    "## Contents\n",
    "- [Import data](#Import-cleaned-data)\n",
    "    - [EIA facility data](#Facility-generation-and-CO2-emissions)\n",
    "    - [Total EIA gen & emissions](#Total-EIA-generation-and-CO2-emissions)\n",
    "    - [EPA emissions data](#Load-EPA-data)\n",
    "- [Check EIA facility against EIA total](#Check-EIA-facility-data-against-EIA-total-data-(gen-&-CO2))\n",
    "- [Adjust EPA facility emissions](#Correct-EPA-facility-emissions)\n",
    "- [Difference between EIA facility and total](#Emissions-and-gen-not-captured-by-facilities)\n",
    "- [Combine all data (monthly)](#Add-EPA-emissions-back-to-the-EIA-df,-use-EIA-emissions-where-EPA-don't-exist,-add-extra-EIA-emissions-for-state-level-data)\n",
    "- [Create plots](#Plots)\n",
    "    - [Monthly Index](#Monthly-Index)\n",
    "    - [Quarterly Index](#Quarterly-Index)\n",
    "    - [Annual Index](#Annual-Index)\n",
    "    "
   ]
  },
  {
   "cell_type": "markdown",
   "metadata": {
    "deletable": true,
    "editable": true
   },
   "source": [
    "## Import cleaned data\n",
    "1. Facility generation and CO2 emissions\n",
    "2. Total generation and CO2 emissions by fuel\n",
    "3. EPA CO2 emissions"
   ]
  },
  {
   "cell_type": "markdown",
   "metadata": {},
   "source": [
    "Create some helper functions to add datetime and quarter columns"
   ]
  },
  {
   "cell_type": "code",
   "execution_count": 2,
   "metadata": {
    "ExecuteTime": {
     "end_time": "2017-03-23T15:41:20.024000",
     "start_time": "2017-03-23T15:41:20.017000"
    },
    "collapsed": true,
    "deletable": true,
    "editable": true
   },
   "outputs": [],
   "source": [
    "def add_datetime(df, year='year', month='month'):\n",
    "    df['datetime'] = pd.to_datetime(df[year].astype(str) + '-' + df[month].astype(str),\n",
    "                                    format='%Y-%m')\n",
    "\n",
    "def add_quarter(df, year='year', month='month'):\n",
    "    add_datetime(df, year, month)\n",
    "    df['quarter'] = df['datetime'].dt.quarter"
   ]
  },
  {
   "cell_type": "markdown",
   "metadata": {
    "deletable": true,
    "editable": true
   },
   "source": [
    "### Facility generation and CO2 emissions"
   ]
  },
  {
   "cell_type": "code",
   "execution_count": 3,
   "metadata": {
    "ExecuteTime": {
     "end_time": "2017-03-23T15:41:38.423000",
     "start_time": "2017-03-23T15:41:22.242000"
    },
    "collapsed": false,
    "deletable": true,
    "editable": true
   },
   "outputs": [],
   "source": [
    "path = os.path.join('Facility gen fuels and CO2.csv')\n",
    "eia_facility = pd.read_csv(path, parse_dates=['datetime'], low_memory=False)"
   ]
  },
  {
   "cell_type": "markdown",
   "metadata": {
    "deletable": true,
    "editable": true
   },
   "source": [
    "### EIA Facility level emissions (consolidate fuels/prime movers)\n",
    "Because EIA tracks all fuel consumption at facilities that might produce both electricity and useful thermal output (CHP), CO<sub>2</sub> emissions can be from one 4 categories:\n",
    "1. Total fuel consumption for all uses (fossil & non-fossil, electricity & thermal output)\n",
    "2. Fossil fuel consumption for all uses (electricity only or CHP)\n",
    "3. Total fuel consumption for electricity only\n",
    "4. Fossil fuel consumption for electricity only\n",
    "\n",
    "We are interested in Category 4. EPA reports total emissions (Category 1), which need to be adjusted. To do this, we calculate a ratio\n",
    "\n",
    "$$CO_2 \\ Ratio = \\frac{Category \\ 4}{Category \\ 1}$$\n",
    "\n",
    "Will will apply the CO<sub>2</sub> ratio factors to EPA data [later in this notebook](#Correct-EPA-facility-emissions)."
   ]
  },
  {
   "cell_type": "code",
   "execution_count": 4,
   "metadata": {
    "ExecuteTime": {
     "end_time": "2017-03-23T15:41:42.625000",
     "start_time": "2017-03-23T15:41:40.795000"
    },
    "collapsed": false,
    "deletable": true,
    "editable": true
   },
   "outputs": [
    {
     "data": {
      "text/html": [
       "<div>\n",
       "<table border=\"1\" class=\"dataframe\">\n",
       "  <thead>\n",
       "    <tr style=\"text-align: right;\">\n",
       "      <th></th>\n",
       "      <th>year</th>\n",
       "      <th>month</th>\n",
       "      <th>plant id</th>\n",
       "      <th>all fuel fossil CO2 (kg)</th>\n",
       "      <th>elec fuel fossil CO2 (kg)</th>\n",
       "      <th>all fuel total CO2 (kg)</th>\n",
       "      <th>elec fuel total CO2 (kg)</th>\n",
       "      <th>generation (MWh)</th>\n",
       "      <th>CO2 ratio</th>\n",
       "    </tr>\n",
       "  </thead>\n",
       "  <tbody>\n",
       "    <tr>\n",
       "      <th>0</th>\n",
       "      <td>2001</td>\n",
       "      <td>1</td>\n",
       "      <td>2</td>\n",
       "      <td>0.000000e+00</td>\n",
       "      <td>0.000000e+00</td>\n",
       "      <td>0.000000e+00</td>\n",
       "      <td>0.000000e+00</td>\n",
       "      <td>18918.0</td>\n",
       "      <td>0.0</td>\n",
       "    </tr>\n",
       "    <tr>\n",
       "      <th>1</th>\n",
       "      <td>2001</td>\n",
       "      <td>1</td>\n",
       "      <td>3</td>\n",
       "      <td>8.905017e+08</td>\n",
       "      <td>8.905017e+08</td>\n",
       "      <td>8.905017e+08</td>\n",
       "      <td>8.905017e+08</td>\n",
       "      <td>1158644.0</td>\n",
       "      <td>1.0</td>\n",
       "    </tr>\n",
       "    <tr>\n",
       "      <th>2</th>\n",
       "      <td>2001</td>\n",
       "      <td>1</td>\n",
       "      <td>4</td>\n",
       "      <td>0.000000e+00</td>\n",
       "      <td>0.000000e+00</td>\n",
       "      <td>0.000000e+00</td>\n",
       "      <td>0.000000e+00</td>\n",
       "      <td>51843.0</td>\n",
       "      <td>0.0</td>\n",
       "    </tr>\n",
       "    <tr>\n",
       "      <th>3</th>\n",
       "      <td>2001</td>\n",
       "      <td>1</td>\n",
       "      <td>7</td>\n",
       "      <td>5.501578e+07</td>\n",
       "      <td>5.501578e+07</td>\n",
       "      <td>5.501578e+07</td>\n",
       "      <td>5.501578e+07</td>\n",
       "      <td>46411.0</td>\n",
       "      <td>1.0</td>\n",
       "    </tr>\n",
       "    <tr>\n",
       "      <th>4</th>\n",
       "      <td>2001</td>\n",
       "      <td>1</td>\n",
       "      <td>8</td>\n",
       "      <td>6.457039e+08</td>\n",
       "      <td>6.457039e+08</td>\n",
       "      <td>6.457039e+08</td>\n",
       "      <td>6.457039e+08</td>\n",
       "      <td>707902.0</td>\n",
       "      <td>1.0</td>\n",
       "    </tr>\n",
       "  </tbody>\n",
       "</table>\n",
       "</div>"
      ],
      "text/plain": [
       "   year  month  plant id  all fuel fossil CO2 (kg)  elec fuel fossil CO2 (kg)  \\\n",
       "0  2001      1         2              0.000000e+00               0.000000e+00   \n",
       "1  2001      1         3              8.905017e+08               8.905017e+08   \n",
       "2  2001      1         4              0.000000e+00               0.000000e+00   \n",
       "3  2001      1         7              5.501578e+07               5.501578e+07   \n",
       "4  2001      1         8              6.457039e+08               6.457039e+08   \n",
       "\n",
       "   all fuel total CO2 (kg)  elec fuel total CO2 (kg)  generation (MWh)  \\\n",
       "0             0.000000e+00              0.000000e+00           18918.0   \n",
       "1             8.905017e+08              8.905017e+08         1158644.0   \n",
       "2             0.000000e+00              0.000000e+00           51843.0   \n",
       "3             5.501578e+07              5.501578e+07           46411.0   \n",
       "4             6.457039e+08              6.457039e+08          707902.0   \n",
       "\n",
       "   CO2 ratio  \n",
       "0        0.0  \n",
       "1        1.0  \n",
       "2        0.0  \n",
       "3        1.0  \n",
       "4        1.0  "
      ]
     },
     "execution_count": 4,
     "metadata": {},
     "output_type": "execute_result"
    }
   ],
   "source": [
    "cols = ['all fuel fossil CO2 (kg)','elec fuel fossil CO2 (kg)',\n",
    "        'all fuel total CO2 (kg)','elec fuel total CO2 (kg)', 'generation (MWh)']\n",
    "eia_facility_grouped = eia_facility.groupby(['year', 'month', 'plant id'])[cols].sum()\n",
    "eia_facility_grouped.reset_index(inplace=True)\n",
    "eia_facility_grouped['CO2 ratio'] = eia_facility_grouped['elec fuel fossil CO2 (kg)'] / eia_facility_grouped['all fuel total CO2 (kg)']\n",
    "eia_facility_grouped['CO2 ratio'].fillna(0, inplace=True)\n",
    "eia_facility_grouped.head()"
   ]
  },
  {
   "cell_type": "markdown",
   "metadata": {
    "deletable": true,
    "editable": true
   },
   "source": [
    "### Total EIA generation and CO2 emissions"
   ]
  },
  {
   "cell_type": "code",
   "execution_count": 5,
   "metadata": {
    "ExecuteTime": {
     "end_time": "2017-03-23T15:41:42.756000",
     "start_time": "2017-03-23T15:41:42.628000"
    },
    "collapsed": true,
    "deletable": true,
    "editable": true
   },
   "outputs": [],
   "source": [
    "path = os.path.join('EIA country-wide gen fuel CO2.csv')\n",
    "eia_total = pd.read_csv(path, parse_dates=['datetime'], low_memory=False)"
   ]
  },
  {
   "cell_type": "code",
   "execution_count": 6,
   "metadata": {
    "ExecuteTime": {
     "end_time": "2017-03-23T15:41:43.037000",
     "start_time": "2017-03-23T15:41:43.031000"
    },
    "collapsed": false,
    "deletable": true,
    "editable": true
   },
   "outputs": [
    {
     "data": {
      "text/plain": [
       "array(['AOR', 'DPV', 'GEO', 'HPS', 'HYC', 'PC', 'COW', 'OOG', 'OTH', 'NUC',\n",
       "       'NG', 'WAS', 'STH', 'SPV', 'PEL', 'TSN', 'SUN', 'WWW', 'WND'], dtype=object)"
      ]
     },
     "execution_count": 6,
     "metadata": {},
     "output_type": "execute_result"
    }
   ],
   "source": [
    "eia_total['type'].unique()"
   ]
  },
  {
   "cell_type": "markdown",
   "metadata": {
    "deletable": true,
    "editable": true
   },
   "source": [
    "#### Consolidate total EIA to monthly gen and emissions\n",
    "Only keep non-overlapping fuel categories so that my totals are correct (e.g. don't keep utility-scale photovoltaic, because it's already counted in utility-scale solar [SUN])."
   ]
  },
  {
   "cell_type": "code",
   "execution_count": 7,
   "metadata": {
    "ExecuteTime": {
     "end_time": "2017-03-23T15:41:44.478000",
     "start_time": "2017-03-23T15:41:44.467000"
    },
    "collapsed": false,
    "deletable": true,
    "editable": true
   },
   "outputs": [],
   "source": [
    "keep_types = [u'WWW', u'WND', u'WAS', u'SUN', 'DPV', u'NUC', u'NG',\n",
    "       u'PEL', u'PC', u'OTH', u'COW', u'OOG', u'HPS', u'HYC', u'GEO']\n",
    "keep_cols = ['generation (MWh)', 'total fuel (mmbtu)', 'elec fuel (mmbtu)',\n",
    "             'all fuel CO2 (kg)', 'elec fuel CO2 (kg)']\n",
    "eia_total_monthly = eia_total.loc[(eia_total['type'].isin(keep_types))].groupby(['type', 'year', 'month'])[keep_cols].sum()"
   ]
  },
  {
   "cell_type": "code",
   "execution_count": 8,
   "metadata": {
    "ExecuteTime": {
     "end_time": "2017-03-23T15:41:45.245000",
     "start_time": "2017-03-23T15:41:45.220000"
    },
    "collapsed": false,
    "deletable": true,
    "editable": true
   },
   "outputs": [
    {
     "data": {
      "text/html": [
       "<div>\n",
       "<table border=\"1\" class=\"dataframe\">\n",
       "  <thead>\n",
       "    <tr style=\"text-align: right;\">\n",
       "      <th></th>\n",
       "      <th></th>\n",
       "      <th></th>\n",
       "      <th>generation (MWh)</th>\n",
       "      <th>total fuel (mmbtu)</th>\n",
       "      <th>elec fuel (mmbtu)</th>\n",
       "      <th>all fuel CO2 (kg)</th>\n",
       "      <th>elec fuel CO2 (kg)</th>\n",
       "    </tr>\n",
       "    <tr>\n",
       "      <th>type</th>\n",
       "      <th>year</th>\n",
       "      <th>month</th>\n",
       "      <th></th>\n",
       "      <th></th>\n",
       "      <th></th>\n",
       "      <th></th>\n",
       "      <th></th>\n",
       "    </tr>\n",
       "  </thead>\n",
       "  <tbody>\n",
       "    <tr>\n",
       "      <th rowspan=\"5\" valign=\"top\">COW</th>\n",
       "      <th rowspan=\"5\" valign=\"top\">2001</th>\n",
       "      <th>1</th>\n",
       "      <td>177287111.0</td>\n",
       "      <td>1.865793e+09</td>\n",
       "      <td>1.823462e+09</td>\n",
       "      <td>1.777168e+11</td>\n",
       "      <td>1.736848e+11</td>\n",
       "    </tr>\n",
       "    <tr>\n",
       "      <th>2</th>\n",
       "      <td>149735484.0</td>\n",
       "      <td>1.583640e+09</td>\n",
       "      <td>1.547591e+09</td>\n",
       "      <td>1.508417e+11</td>\n",
       "      <td>1.474080e+11</td>\n",
       "    </tr>\n",
       "    <tr>\n",
       "      <th>3</th>\n",
       "      <td>155269011.0</td>\n",
       "      <td>1.644568e+09</td>\n",
       "      <td>1.605916e+09</td>\n",
       "      <td>1.566451e+11</td>\n",
       "      <td>1.529635e+11</td>\n",
       "    </tr>\n",
       "    <tr>\n",
       "      <th>4</th>\n",
       "      <td>140670654.0</td>\n",
       "      <td>1.485098e+09</td>\n",
       "      <td>1.449735e+09</td>\n",
       "      <td>1.414556e+11</td>\n",
       "      <td>1.380873e+11</td>\n",
       "    </tr>\n",
       "    <tr>\n",
       "      <th>5</th>\n",
       "      <td>151592914.0</td>\n",
       "      <td>1.609281e+09</td>\n",
       "      <td>1.574618e+09</td>\n",
       "      <td>1.532840e+11</td>\n",
       "      <td>1.499824e+11</td>\n",
       "    </tr>\n",
       "  </tbody>\n",
       "</table>\n",
       "</div>"
      ],
      "text/plain": [
       "                 generation (MWh)  total fuel (mmbtu)  elec fuel (mmbtu)  \\\n",
       "type year month                                                            \n",
       "COW  2001 1           177287111.0        1.865793e+09       1.823462e+09   \n",
       "          2           149735484.0        1.583640e+09       1.547591e+09   \n",
       "          3           155269011.0        1.644568e+09       1.605916e+09   \n",
       "          4           140670654.0        1.485098e+09       1.449735e+09   \n",
       "          5           151592914.0        1.609281e+09       1.574618e+09   \n",
       "\n",
       "                 all fuel CO2 (kg)  elec fuel CO2 (kg)  \n",
       "type year month                                         \n",
       "COW  2001 1           1.777168e+11        1.736848e+11  \n",
       "          2           1.508417e+11        1.474080e+11  \n",
       "          3           1.566451e+11        1.529635e+11  \n",
       "          4           1.414556e+11        1.380873e+11  \n",
       "          5           1.532840e+11        1.499824e+11  "
      ]
     },
     "execution_count": 8,
     "metadata": {},
     "output_type": "execute_result"
    }
   ],
   "source": [
    "eia_total_monthly.head()"
   ]
  },
  {
   "cell_type": "markdown",
   "metadata": {},
   "source": [
    "Pretty sure that I don't need to keep `eia_total_annual`"
   ]
  },
  {
   "cell_type": "code",
   "execution_count": 9,
   "metadata": {
    "ExecuteTime": {
     "end_time": "2017-03-23T15:41:47.141000",
     "start_time": "2017-03-23T15:41:47.130000"
    },
    "collapsed": false,
    "deletable": true,
    "editable": true
   },
   "outputs": [],
   "source": [
    "keep_types = [u'WWW', u'WND', u'WAS', u'TSN', u'NUC', u'NG',\n",
    "       u'PEL', u'PC', u'OTH', u'COW', u'OOG', u'HPS', u'HYC', u'GEO']\n",
    "\n",
    "eia_total_annual = eia_total_monthly.reset_index().groupby('year').sum()\n",
    "eia_total_annual['index (g/kWh)'] = eia_total_annual['elec fuel CO2 (kg)'] / eia_total_annual['generation (MWh)']"
   ]
  },
  {
   "cell_type": "markdown",
   "metadata": {
    "deletable": true,
    "editable": true
   },
   "source": [
    "### Load EPA data\n",
    "Check to see if there are multiple rows per facility for a single month"
   ]
  },
  {
   "cell_type": "code",
   "execution_count": 10,
   "metadata": {
    "ExecuteTime": {
     "end_time": "2017-03-23T15:41:49.033000",
     "start_time": "2017-03-23T15:41:48.282000"
    },
    "collapsed": true,
    "deletable": true,
    "editable": true
   },
   "outputs": [],
   "source": [
    "path = os.path.join('Monthly EPA emissions.csv')\n",
    "epa = pd.read_csv(path)"
   ]
  },
  {
   "cell_type": "code",
   "execution_count": 11,
   "metadata": {
    "ExecuteTime": {
     "end_time": "2017-03-23T15:41:51.689000",
     "start_time": "2017-03-23T15:41:49.933000"
    },
    "collapsed": false,
    "deletable": true,
    "editable": true
   },
   "outputs": [
    {
     "data": {
      "text/html": [
       "<div>\n",
       "<table border=\"1\" class=\"dataframe\">\n",
       "  <thead>\n",
       "    <tr style=\"text-align: right;\">\n",
       "      <th></th>\n",
       "      <th>CO2_MASS (kg)</th>\n",
       "      <th>GLOAD (MW)</th>\n",
       "      <th>HEAT_INPUT (mmBtu)</th>\n",
       "      <th>MONTH</th>\n",
       "      <th>OP_TIME</th>\n",
       "      <th>ORISPL_CODE</th>\n",
       "      <th>SLOAD (1000lb/hr)</th>\n",
       "      <th>YEAR</th>\n",
       "      <th>datetime</th>\n",
       "      <th>quarter</th>\n",
       "    </tr>\n",
       "  </thead>\n",
       "  <tbody>\n",
       "    <tr>\n",
       "      <th>0</th>\n",
       "      <td>9.625411e+08</td>\n",
       "      <td>1167596.0</td>\n",
       "      <td>1.113000e+07</td>\n",
       "      <td>1</td>\n",
       "      <td>4348.25</td>\n",
       "      <td>3</td>\n",
       "      <td>NaN</td>\n",
       "      <td>2001</td>\n",
       "      <td>2001-01-01</td>\n",
       "      <td>1</td>\n",
       "    </tr>\n",
       "    <tr>\n",
       "      <th>1</th>\n",
       "      <td>8.208495e+08</td>\n",
       "      <td>880517.0</td>\n",
       "      <td>8.951275e+06</td>\n",
       "      <td>2</td>\n",
       "      <td>3391.00</td>\n",
       "      <td>3</td>\n",
       "      <td>NaN</td>\n",
       "      <td>2001</td>\n",
       "      <td>2001-02-01</td>\n",
       "      <td>1</td>\n",
       "    </tr>\n",
       "    <tr>\n",
       "      <th>2</th>\n",
       "      <td>6.402928e+08</td>\n",
       "      <td>735523.0</td>\n",
       "      <td>7.175850e+06</td>\n",
       "      <td>3</td>\n",
       "      <td>3846.50</td>\n",
       "      <td>3</td>\n",
       "      <td>NaN</td>\n",
       "      <td>2001</td>\n",
       "      <td>2001-03-01</td>\n",
       "      <td>1</td>\n",
       "    </tr>\n",
       "    <tr>\n",
       "      <th>3</th>\n",
       "      <td>7.417879e+08</td>\n",
       "      <td>898023.0</td>\n",
       "      <td>8.519262e+06</td>\n",
       "      <td>4</td>\n",
       "      <td>4292.75</td>\n",
       "      <td>3</td>\n",
       "      <td>NaN</td>\n",
       "      <td>2001</td>\n",
       "      <td>2001-04-01</td>\n",
       "      <td>2</td>\n",
       "    </tr>\n",
       "    <tr>\n",
       "      <th>4</th>\n",
       "      <td>9.767243e+08</td>\n",
       "      <td>1230441.0</td>\n",
       "      <td>1.138663e+07</td>\n",
       "      <td>5</td>\n",
       "      <td>5029.75</td>\n",
       "      <td>3</td>\n",
       "      <td>NaN</td>\n",
       "      <td>2001</td>\n",
       "      <td>2001-05-01</td>\n",
       "      <td>2</td>\n",
       "    </tr>\n",
       "  </tbody>\n",
       "</table>\n",
       "</div>"
      ],
      "text/plain": [
       "   CO2_MASS (kg)  GLOAD (MW)  HEAT_INPUT (mmBtu)  MONTH  OP_TIME  ORISPL_CODE  \\\n",
       "0   9.625411e+08   1167596.0        1.113000e+07      1  4348.25            3   \n",
       "1   8.208495e+08    880517.0        8.951275e+06      2  3391.00            3   \n",
       "2   6.402928e+08    735523.0        7.175850e+06      3  3846.50            3   \n",
       "3   7.417879e+08    898023.0        8.519262e+06      4  4292.75            3   \n",
       "4   9.767243e+08   1230441.0        1.138663e+07      5  5029.75            3   \n",
       "\n",
       "   SLOAD (1000lb/hr)  YEAR   datetime  quarter  \n",
       "0                NaN  2001 2001-01-01        1  \n",
       "1                NaN  2001 2001-02-01        1  \n",
       "2                NaN  2001 2001-03-01        1  \n",
       "3                NaN  2001 2001-04-01        2  \n",
       "4                NaN  2001 2001-05-01        2  "
      ]
     },
     "execution_count": 11,
     "metadata": {},
     "output_type": "execute_result"
    }
   ],
   "source": [
    "add_quarter(epa, year='YEAR', month='MONTH')\n",
    "epa.head()"
   ]
  },
  {
   "cell_type": "markdown",
   "metadata": {},
   "source": [
    "Fill nan's with 0"
   ]
  },
  {
   "cell_type": "code",
   "execution_count": 12,
   "metadata": {
    "ExecuteTime": {
     "end_time": "2017-03-23T15:41:51.696000",
     "start_time": "2017-03-23T15:41:51.691000"
    },
    "collapsed": false,
    "deletable": true,
    "editable": true
   },
   "outputs": [],
   "source": [
    "epa.loc[:,'CO2_MASS (kg)'].fillna(0, inplace=True)"
   ]
  },
  {
   "cell_type": "markdown",
   "metadata": {
    "deletable": true,
    "editable": true
   },
   "source": [
    "## Correct EPA facility emissions\n",
    "Use the EIA facility adjustment factors to correct for CHP and biomass emissions"
   ]
  },
  {
   "cell_type": "markdown",
   "metadata": {
    "deletable": true,
    "editable": true
   },
   "source": [
    "**Use an inner merge rather than left**  \n",
    "Justification: a left merge will retain CO2 emissions from facilities that aren't included in 923. But the generation and emissions for those facilities *are* included in the state-level estimates. "
   ]
  },
  {
   "cell_type": "code",
   "execution_count": 13,
   "metadata": {
    "ExecuteTime": {
     "end_time": "2017-03-23T15:41:58.660000",
     "start_time": "2017-03-23T15:41:57.869000"
    },
    "collapsed": false,
    "deletable": true,
    "editable": true
   },
   "outputs": [
    {
     "data": {
      "text/html": [
       "<div>\n",
       "<table border=\"1\" class=\"dataframe\">\n",
       "  <thead>\n",
       "    <tr style=\"text-align: right;\">\n",
       "      <th></th>\n",
       "      <th>CO2_MASS (kg)</th>\n",
       "      <th>GLOAD (MW)</th>\n",
       "      <th>HEAT_INPUT (mmBtu)</th>\n",
       "      <th>MONTH</th>\n",
       "      <th>OP_TIME</th>\n",
       "      <th>ORISPL_CODE</th>\n",
       "      <th>SLOAD (1000lb/hr)</th>\n",
       "      <th>YEAR</th>\n",
       "      <th>datetime</th>\n",
       "      <th>quarter</th>\n",
       "      <th>all fuel total CO2 (kg)</th>\n",
       "      <th>CO2 ratio</th>\n",
       "      <th>epa index</th>\n",
       "    </tr>\n",
       "  </thead>\n",
       "  <tbody>\n",
       "    <tr>\n",
       "      <th>0</th>\n",
       "      <td>9.625411e+08</td>\n",
       "      <td>1167596.0</td>\n",
       "      <td>1.113000e+07</td>\n",
       "      <td>1</td>\n",
       "      <td>4348.25</td>\n",
       "      <td>3</td>\n",
       "      <td>NaN</td>\n",
       "      <td>2001</td>\n",
       "      <td>2001-01-01</td>\n",
       "      <td>1</td>\n",
       "      <td>8.905017e+08</td>\n",
       "      <td>1.0</td>\n",
       "      <td>824.378547</td>\n",
       "    </tr>\n",
       "    <tr>\n",
       "      <th>1</th>\n",
       "      <td>8.208495e+08</td>\n",
       "      <td>880517.0</td>\n",
       "      <td>8.951275e+06</td>\n",
       "      <td>2</td>\n",
       "      <td>3391.00</td>\n",
       "      <td>3</td>\n",
       "      <td>NaN</td>\n",
       "      <td>2001</td>\n",
       "      <td>2001-02-01</td>\n",
       "      <td>1</td>\n",
       "      <td>7.570004e+08</td>\n",
       "      <td>1.0</td>\n",
       "      <td>932.235860</td>\n",
       "    </tr>\n",
       "    <tr>\n",
       "      <th>2</th>\n",
       "      <td>6.402928e+08</td>\n",
       "      <td>735523.0</td>\n",
       "      <td>7.175850e+06</td>\n",
       "      <td>3</td>\n",
       "      <td>3846.50</td>\n",
       "      <td>3</td>\n",
       "      <td>NaN</td>\n",
       "      <td>2001</td>\n",
       "      <td>2001-03-01</td>\n",
       "      <td>1</td>\n",
       "      <td>6.887598e+08</td>\n",
       "      <td>1.0</td>\n",
       "      <td>870.527287</td>\n",
       "    </tr>\n",
       "    <tr>\n",
       "      <th>3</th>\n",
       "      <td>7.417879e+08</td>\n",
       "      <td>898023.0</td>\n",
       "      <td>8.519262e+06</td>\n",
       "      <td>4</td>\n",
       "      <td>4292.75</td>\n",
       "      <td>3</td>\n",
       "      <td>NaN</td>\n",
       "      <td>2001</td>\n",
       "      <td>2001-04-01</td>\n",
       "      <td>2</td>\n",
       "      <td>6.762997e+08</td>\n",
       "      <td>1.0</td>\n",
       "      <td>826.023305</td>\n",
       "    </tr>\n",
       "    <tr>\n",
       "      <th>4</th>\n",
       "      <td>9.767243e+08</td>\n",
       "      <td>1230441.0</td>\n",
       "      <td>1.138663e+07</td>\n",
       "      <td>5</td>\n",
       "      <td>5029.75</td>\n",
       "      <td>3</td>\n",
       "      <td>NaN</td>\n",
       "      <td>2001</td>\n",
       "      <td>2001-05-01</td>\n",
       "      <td>2</td>\n",
       "      <td>9.163768e+08</td>\n",
       "      <td>1.0</td>\n",
       "      <td>793.800198</td>\n",
       "    </tr>\n",
       "  </tbody>\n",
       "</table>\n",
       "</div>"
      ],
      "text/plain": [
       "   CO2_MASS (kg)  GLOAD (MW)  HEAT_INPUT (mmBtu)  MONTH  OP_TIME  ORISPL_CODE  \\\n",
       "0   9.625411e+08   1167596.0        1.113000e+07      1  4348.25            3   \n",
       "1   8.208495e+08    880517.0        8.951275e+06      2  3391.00            3   \n",
       "2   6.402928e+08    735523.0        7.175850e+06      3  3846.50            3   \n",
       "3   7.417879e+08    898023.0        8.519262e+06      4  4292.75            3   \n",
       "4   9.767243e+08   1230441.0        1.138663e+07      5  5029.75            3   \n",
       "\n",
       "   SLOAD (1000lb/hr)  YEAR   datetime  quarter  all fuel total CO2 (kg)  \\\n",
       "0                NaN  2001 2001-01-01        1             8.905017e+08   \n",
       "1                NaN  2001 2001-02-01        1             7.570004e+08   \n",
       "2                NaN  2001 2001-03-01        1             6.887598e+08   \n",
       "3                NaN  2001 2001-04-01        2             6.762997e+08   \n",
       "4                NaN  2001 2001-05-01        2             9.163768e+08   \n",
       "\n",
       "   CO2 ratio   epa index  \n",
       "0        1.0  824.378547  \n",
       "1        1.0  932.235860  \n",
       "2        1.0  870.527287  \n",
       "3        1.0  826.023305  \n",
       "4        1.0  793.800198  "
      ]
     },
     "execution_count": 13,
     "metadata": {},
     "output_type": "execute_result"
    }
   ],
   "source": [
    "eia_keep = ['month', 'year', 'all fuel total CO2 (kg)', 'CO2 ratio', 'plant id']\n",
    "\n",
    "epa_adj = epa.merge(eia_facility_grouped[eia_keep], left_on=['ORISPL_CODE', 'YEAR', 'MONTH'],\n",
    "                right_on=['plant id', 'year', 'month'], how='inner') # how='left\n",
    "\n",
    "epa_adj.drop(['month', 'year', 'plant id'], axis=1, inplace=True)\n",
    "epa_adj['epa index'] = epa_adj.loc[:,'CO2_MASS (kg)'] / epa_adj.loc[:,'GLOAD (MW)']\n",
    "epa_adj.head()"
   ]
  },
  {
   "cell_type": "code",
   "execution_count": 14,
   "metadata": {
    "ExecuteTime": {
     "end_time": "2017-03-23T15:42:04.678000",
     "start_time": "2017-03-23T15:41:58.662000"
    },
    "collapsed": false,
    "deletable": true,
    "editable": true
   },
   "outputs": [
    {
     "data": {
      "text/plain": [
       "<seaborn.axisgrid.JointGrid at 0x2aa060f0>"
      ]
     },
     "execution_count": 14,
     "metadata": {},
     "output_type": "execute_result"
    },
    {
     "data": {
      "image/png": "[encoded data removed]",
      "text/plain": [
       "<matplotlib.figure.Figure at 0x2aa06c18>"
      ]
     },
     "metadata": {},
     "output_type": "display_data"
    }
   ],
   "source": [
    "sns.jointplot('CO2_MASS (kg)', 'all fuel total CO2 (kg)', epa_adj, marker='.')"
   ]
  },
  {
   "cell_type": "markdown",
   "metadata": {
    "deletable": true,
    "editable": true
   },
   "source": [
    "### Adjust CO2 emissions where we have a `CO2 ratio` value\n",
    "Because of the inner merge above, all rows should have a valid CO2 ratio"
   ]
  },
  {
   "cell_type": "code",
   "execution_count": 28,
   "metadata": {
    "ExecuteTime": {
     "end_time": "2017-03-14T11:14:29.844000",
     "start_time": "2017-03-14T11:14:29.775000"
    },
    "collapsed": false,
    "deletable": true,
    "editable": true
   },
   "outputs": [
    {
     "name": "stdout",
     "output_type": "stream",
     "text": [
      "2001 100.000% accounted for 0.0 metric tons missing\n",
      "2002 100.000% accounted for 0.0 metric tons missing\n",
      "2003 100.000% accounted for 0.0 metric tons missing\n",
      "2004 100.000% accounted for 0.0 metric tons missing\n",
      "2005 100.000% accounted for 0.0 metric tons missing\n",
      "2006 100.000% accounted for 0.0 metric tons missing\n",
      "2007 100.000% accounted for 0.0 metric tons missing\n",
      "2008 100.000% accounted for 0.0 metric tons missing\n",
      "2009 100.000% accounted for 0.0 metric tons missing\n",
      "2010 100.000% accounted for 0.0 metric tons missing\n",
      "2011 100.000% accounted for 0.0 metric tons missing\n",
      "2012 100.000% accounted for 0.0 metric tons missing\n",
      "2013 100.000% accounted for 0.0 metric tons missing\n",
      "2014 100.000% accounted for 0.0 metric tons missing\n",
      "2015 100.000% accounted for 0.0 metric tons missing\n",
      "2016 100.000% accounted for 0.0 metric tons missing\n"
     ]
    }
   ],
   "source": [
    "# Calaculated with an \"inner\" merge of the dataframes\n",
    "for year in range(2001, 2017):\n",
    "    total_co2 = epa_adj.loc[epa_adj['YEAR']==year, 'CO2_MASS (kg)'].sum()\n",
    "    union_co2 = epa_adj.loc[(epa_adj['YEAR']==year) & \n",
    "                            ~(epa_adj['CO2 ratio'].isnull()), 'CO2_MASS (kg)'].sum()\n",
    "    missing = total_co2 - union_co2\n",
    "    \n",
    "    print year, '{:.3%}'.format(union_co2/total_co2), 'accounted for', \\\n",
    "           missing/1000, 'metric tons missing'"
   ]
  },
  {
   "cell_type": "markdown",
   "metadata": {
    "deletable": true,
    "editable": true
   },
   "source": [
    "**Look back at this to ensure that I'm correctly accounting for edge cases**\n",
    "- Emissions reported to CEMS under a different code than EIA\n",
    "- Emissions reported to CEMS but not EIA monthly\n",
    "- Incorrect 0 value reported to CEMS"
   ]
  },
  {
   "cell_type": "markdown",
   "metadata": {
    "deletable": true,
    "editable": true
   },
   "source": [
    "Start by setting all adjusted CO2 (`adj CO2 (kg)`) values to the reported CO2 value"
   ]
  },
  {
   "cell_type": "code",
   "execution_count": 15,
   "metadata": {
    "ExecuteTime": {
     "end_time": "2017-03-23T15:42:06.408000",
     "start_time": "2017-03-23T15:42:06.403000"
    },
    "collapsed": true,
    "deletable": true,
    "editable": true
   },
   "outputs": [],
   "source": [
    "epa_adj['adj CO2 (kg)'] = epa_adj.loc[:,'CO2_MASS (kg)']"
   ]
  },
  {
   "cell_type": "markdown",
   "metadata": {
    "deletable": true,
    "editable": true
   },
   "source": [
    "If CEMS reported CO2 emissions are 0 but heat inputs are >0 and calculated CO2 emissions are >0, change the adjusted CO2 to NaN. These NaN values will be replaced by the calculated value later. Do the same for low index records (<300 g/kWh). If there is a valid CO2 ratio, multiply the adjusted CO2 column by the CO2 ratio."
   ]
  },
  {
   "cell_type": "code",
   "execution_count": 16,
   "metadata": {
    "ExecuteTime": {
     "end_time": "2017-03-23T15:42:07.531000",
     "start_time": "2017-03-23T15:42:07.436000"
    },
    "collapsed": false,
    "deletable": true,
    "editable": true
   },
   "outputs": [],
   "source": [
    "epa_adj.loc[~(epa_adj['CO2_MASS (kg)']>0) &\n",
    "            (epa_adj['HEAT_INPUT (mmBtu)']>0) &\n",
    "            (epa_adj['all fuel total CO2 (kg)']>0), 'adj CO2 (kg)'] = np.nan\n",
    "epa_adj.loc[(epa_adj['epa index']<300) &\n",
    "            (epa_adj['HEAT_INPUT (mmBtu)']>0) &\n",
    "            (epa_adj['all fuel total CO2 (kg)']>0), 'adj CO2 (kg)'] = np.nan\n",
    "\n",
    "epa_adj.loc[epa_adj['CO2 ratio'].notnull(), 'adj CO2 (kg)'] *= epa_adj.loc[epa_adj['CO2 ratio'].notnull(), 'CO2 ratio']"
   ]
  },
  {
   "cell_type": "code",
   "execution_count": 17,
   "metadata": {
    "ExecuteTime": {
     "end_time": "2017-03-23T15:42:10.953000",
     "start_time": "2017-03-23T15:42:10.868000"
    },
    "collapsed": false,
    "deletable": true,
    "editable": true
   },
   "outputs": [
    {
     "name": "stdout",
     "output_type": "stream",
     "text": [
      "In 2001, 141 plants missing some data out of 1013\n",
      "In 2002, 169 plants missing some data out of 1159\n",
      "In 2003, 219 plants missing some data out of 1302\n",
      "In 2004, 231 plants missing some data out of 1356\n",
      "In 2005, 239 plants missing some data out of 1357\n",
      "In 2006, 231 plants missing some data out of 1370\n",
      "In 2007, 223 plants missing some data out of 1379\n",
      "In 2008, 280 plants missing some data out of 1437\n",
      "In 2009, 229 plants missing some data out of 1439\n",
      "In 2010, 196 plants missing some data out of 1440\n",
      "In 2011, 191 plants missing some data out of 1436\n",
      "In 2012, 195 plants missing some data out of 1442\n",
      "In 2013, 178 plants missing some data out of 1433\n",
      "In 2014, 171 plants missing some data out of 1420\n",
      "In 2015, 205 plants missing some data out of 1427\n",
      "In 2016, 103 plants missing some data out of 1393\n"
     ]
    }
   ],
   "source": [
    "for year in range(2001,2017):\n",
    "    num_missing = len(epa_adj.loc[(epa_adj['adj CO2 (kg)'].isnull()) & \n",
    "                                  (epa_adj['YEAR']==year), 'ORISPL_CODE'].unique())\n",
    "    total = len(epa_adj.loc[epa_adj['YEAR']==year, 'ORISPL_CODE'].unique())\n",
    "    \n",
    "    print 'In', str(year) + ',', num_missing, 'plants missing some data out of', total"
   ]
  },
  {
   "cell_type": "markdown",
   "metadata": {
    "deletable": true,
    "editable": true
   },
   "source": [
    "## Emissions and gen not captured by facilities\n",
    "Subtract these from the top-line EIA values to get the amount not captured at facilities in each month. EIA natural gas fuel consumption does not include BFG or OG."
   ]
  },
  {
   "cell_type": "markdown",
   "metadata": {
    "deletable": true,
    "editable": true
   },
   "source": [
    "### Consolidate facility generation, fuel use, and CO2 emissions "
   ]
  },
  {
   "cell_type": "code",
   "execution_count": 18,
   "metadata": {
    "ExecuteTime": {
     "end_time": "2017-03-23T15:42:14.865000",
     "start_time": "2017-03-23T15:42:14.792000"
    },
    "collapsed": false,
    "deletable": true,
    "editable": true
   },
   "outputs": [
    {
     "data": {
      "text/plain": [
       "array(['WAT', 'SLW', 'NG', 'BIT', 'MSB', 'SUB', 'DFO', 'KER', 'MSN', 'JF',\n",
       "       'RFO', 'WO', 'OBG', 'WC', 'OBL', 'WDS', 'PG', 'OG', 'PC', 'SGC',\n",
       "       'LFG', 'GEO', 'BLQ', 'WH', 'WND', 'OBS', 'TDF', 'OTH', 'BFG', 'PUR',\n",
       "       'AB', 'NUC', 'SUN', 'LIG', 'WDL', 'SC', 'RC', 'SGP', 'MSW'], dtype=object)"
      ]
     },
     "execution_count": 18,
     "metadata": {},
     "output_type": "execute_result"
    }
   ],
   "source": [
    "eia_facility['fuel'].unique()"
   ]
  },
  {
   "cell_type": "code",
   "execution_count": 19,
   "metadata": {
    "ExecuteTime": {
     "end_time": "2017-03-23T15:42:15.618000",
     "start_time": "2017-03-23T15:42:15.603000"
    },
    "collapsed": false,
    "deletable": true,
    "editable": true
   },
   "outputs": [],
   "source": [
    "# OG and BFG are included in Other because I've included OOG in Other below\n",
    "# Pet liquids and pet coke are included here because they line up with how the state-level\n",
    "# EIA data are reported\n",
    "facility_fuel_cats = {'COW' : ['SUB','BIT','LIG', 'WC','SC','RC','SGC'], \n",
    "                      'NG' : ['NG'],\n",
    "                      'PEL' : ['DFO', 'RFO', 'KER', 'JF', 'PG', 'WO', 'SGP'],\n",
    "                      'PC' : ['PC'],\n",
    "                      'HYC' : ['WAT'],\n",
    "                      'HPS' : [],\n",
    "                      'GEO' : ['GEO'],\n",
    "                      'NUC' : ['NUC'],\n",
    "                      'OOG' : ['BFG', 'OG', 'LFG'],\n",
    "                      'OTH' : ['OTH', 'MSN', 'MSW', 'PUR', 'TDF', 'WH'],\n",
    "                      'SUN' : ['SUN'],\n",
    "                      'DPV' : [],\n",
    "                      'WAS' : ['OBL', 'OBS', 'OBG', 'MSB', 'SLW'],\n",
    "                      'WND' : ['WND'],\n",
    "                      'WWW' : ['WDL', 'WDS', 'AB', 'BLQ']\n",
    "                     }"
   ]
  },
  {
   "cell_type": "markdown",
   "metadata": {
    "deletable": true,
    "editable": true
   },
   "source": [
    "Create a new df that groups the facility data into more general fuel types that match up with the EIA generation and fuel use totals."
   ]
  },
  {
   "cell_type": "code",
   "execution_count": 20,
   "metadata": {
    "ExecuteTime": {
     "end_time": "2017-03-23T15:42:25.640000",
     "start_time": "2017-03-23T15:42:21.461000"
    },
    "collapsed": false,
    "deletable": true,
    "editable": true,
    "scrolled": false
   },
   "outputs": [
    {
     "data": {
      "text/html": [
       "<div>\n",
       "<table border=\"1\" class=\"dataframe\">\n",
       "  <thead>\n",
       "    <tr style=\"text-align: right;\">\n",
       "      <th></th>\n",
       "      <th></th>\n",
       "      <th></th>\n",
       "      <th>plant id</th>\n",
       "      <th>total fuel (mmbtu)</th>\n",
       "      <th>generation (MWh)</th>\n",
       "      <th>elec fuel (mmbtu)</th>\n",
       "      <th>lat</th>\n",
       "      <th>lon</th>\n",
       "      <th>quarter</th>\n",
       "      <th>all fuel fossil CO2 (kg)</th>\n",
       "      <th>elec fuel fossil CO2 (kg)</th>\n",
       "      <th>all fuel total CO2 (kg)</th>\n",
       "      <th>elec fuel total CO2 (kg)</th>\n",
       "    </tr>\n",
       "    <tr>\n",
       "      <th>type</th>\n",
       "      <th>year</th>\n",
       "      <th>month</th>\n",
       "      <th></th>\n",
       "      <th></th>\n",
       "      <th></th>\n",
       "      <th></th>\n",
       "      <th></th>\n",
       "      <th></th>\n",
       "      <th></th>\n",
       "      <th></th>\n",
       "      <th></th>\n",
       "      <th></th>\n",
       "      <th></th>\n",
       "    </tr>\n",
       "  </thead>\n",
       "  <tbody>\n",
       "    <tr>\n",
       "      <th rowspan=\"5\" valign=\"top\">COW</th>\n",
       "      <th rowspan=\"5\" valign=\"top\">2001</th>\n",
       "      <th>1</th>\n",
       "      <td>9260856</td>\n",
       "      <td>1.848875e+09</td>\n",
       "      <td>1.762754e+08</td>\n",
       "      <td>1.810304e+09</td>\n",
       "      <td>25877.386892</td>\n",
       "      <td>-58610.907488</td>\n",
       "      <td>662</td>\n",
       "      <td>1.755757e+11</td>\n",
       "      <td>1.719629e+11</td>\n",
       "      <td>1.755757e+11</td>\n",
       "      <td>1.719629e+11</td>\n",
       "    </tr>\n",
       "    <tr>\n",
       "      <th>2</th>\n",
       "      <td>9260856</td>\n",
       "      <td>1.568672e+09</td>\n",
       "      <td>1.488241e+08</td>\n",
       "      <td>1.536017e+09</td>\n",
       "      <td>25877.386892</td>\n",
       "      <td>-58610.907488</td>\n",
       "      <td>662</td>\n",
       "      <td>1.490065e+11</td>\n",
       "      <td>1.459476e+11</td>\n",
       "      <td>1.490065e+11</td>\n",
       "      <td>1.459476e+11</td>\n",
       "    </tr>\n",
       "    <tr>\n",
       "      <th>3</th>\n",
       "      <td>9260856</td>\n",
       "      <td>1.626246e+09</td>\n",
       "      <td>1.541157e+08</td>\n",
       "      <td>1.591151e+09</td>\n",
       "      <td>25877.386892</td>\n",
       "      <td>-58610.907488</td>\n",
       "      <td>662</td>\n",
       "      <td>1.544286e+11</td>\n",
       "      <td>1.511424e+11</td>\n",
       "      <td>1.544286e+11</td>\n",
       "      <td>1.511424e+11</td>\n",
       "    </tr>\n",
       "    <tr>\n",
       "      <th>4</th>\n",
       "      <td>9260856</td>\n",
       "      <td>1.471568e+09</td>\n",
       "      <td>1.398943e+08</td>\n",
       "      <td>1.439361e+09</td>\n",
       "      <td>25877.386892</td>\n",
       "      <td>-58610.907488</td>\n",
       "      <td>1324</td>\n",
       "      <td>1.397181e+11</td>\n",
       "      <td>1.367018e+11</td>\n",
       "      <td>1.397181e+11</td>\n",
       "      <td>1.367018e+11</td>\n",
       "    </tr>\n",
       "    <tr>\n",
       "      <th>5</th>\n",
       "      <td>9208831</td>\n",
       "      <td>1.595267e+09</td>\n",
       "      <td>1.507916e+08</td>\n",
       "      <td>1.563698e+09</td>\n",
       "      <td>25882.875792</td>\n",
       "      <td>-58611.276988</td>\n",
       "      <td>1324</td>\n",
       "      <td>1.515424e+11</td>\n",
       "      <td>1.485856e+11</td>\n",
       "      <td>1.515424e+11</td>\n",
       "      <td>1.485856e+11</td>\n",
       "    </tr>\n",
       "  </tbody>\n",
       "</table>\n",
       "</div>"
      ],
      "text/plain": [
       "                 plant id  total fuel (mmbtu)  generation (MWh)  \\\n",
       "type year month                                                   \n",
       "COW  2001 1       9260856        1.848875e+09      1.762754e+08   \n",
       "          2       9260856        1.568672e+09      1.488241e+08   \n",
       "          3       9260856        1.626246e+09      1.541157e+08   \n",
       "          4       9260856        1.471568e+09      1.398943e+08   \n",
       "          5       9208831        1.595267e+09      1.507916e+08   \n",
       "\n",
       "                 elec fuel (mmbtu)           lat           lon  quarter  \\\n",
       "type year month                                                           \n",
       "COW  2001 1           1.810304e+09  25877.386892 -58610.907488      662   \n",
       "          2           1.536017e+09  25877.386892 -58610.907488      662   \n",
       "          3           1.591151e+09  25877.386892 -58610.907488      662   \n",
       "          4           1.439361e+09  25877.386892 -58610.907488     1324   \n",
       "          5           1.563698e+09  25882.875792 -58611.276988     1324   \n",
       "\n",
       "                 all fuel fossil CO2 (kg)  elec fuel fossil CO2 (kg)  \\\n",
       "type year month                                                        \n",
       "COW  2001 1                  1.755757e+11               1.719629e+11   \n",
       "          2                  1.490065e+11               1.459476e+11   \n",
       "          3                  1.544286e+11               1.511424e+11   \n",
       "          4                  1.397181e+11               1.367018e+11   \n",
       "          5                  1.515424e+11               1.485856e+11   \n",
       "\n",
       "                 all fuel total CO2 (kg)  elec fuel total CO2 (kg)  \n",
       "type year month                                                     \n",
       "COW  2001 1                 1.755757e+11              1.719629e+11  \n",
       "          2                 1.490065e+11              1.459476e+11  \n",
       "          3                 1.544286e+11              1.511424e+11  \n",
       "          4                 1.397181e+11              1.367018e+11  \n",
       "          5                 1.515424e+11              1.485856e+11  "
      ]
     },
     "execution_count": 20,
     "metadata": {},
     "output_type": "execute_result"
    }
   ],
   "source": [
    "eia_facility_fuel = eia_facility.copy()\n",
    "for key in facility_fuel_cats.keys():\n",
    "    eia_facility_fuel.loc[eia_facility_fuel['fuel'].isin(facility_fuel_cats[key]),'type'] = key\n",
    "eia_facility_fuel = eia_facility_fuel.groupby(['type', 'year', 'month']).sum()\n",
    "# eia_facility_fuel.reset_index(inplace=True)\n",
    "\n",
    "eia_facility_fuel.head()"
   ]
  },
  {
   "cell_type": "markdown",
   "metadata": {
    "deletable": true,
    "editable": true
   },
   "source": [
    "### Extra generation and fuel use"
   ]
  },
  {
   "cell_type": "code",
   "execution_count": 21,
   "metadata": {
    "ExecuteTime": {
     "end_time": "2017-03-23T15:42:28.771000",
     "start_time": "2017-03-23T15:42:28.751000"
    },
    "collapsed": false,
    "deletable": true,
    "editable": true
   },
   "outputs": [
    {
     "data": {
      "text/html": [
       "<div>\n",
       "<table border=\"1\" class=\"dataframe\">\n",
       "  <thead>\n",
       "    <tr style=\"text-align: right;\">\n",
       "      <th></th>\n",
       "      <th></th>\n",
       "      <th></th>\n",
       "      <th>generation (MWh)</th>\n",
       "      <th>total fuel (mmbtu)</th>\n",
       "      <th>elec fuel (mmbtu)</th>\n",
       "      <th>all fuel CO2 (kg)</th>\n",
       "      <th>elec fuel CO2 (kg)</th>\n",
       "    </tr>\n",
       "    <tr>\n",
       "      <th>type</th>\n",
       "      <th>year</th>\n",
       "      <th>month</th>\n",
       "      <th></th>\n",
       "      <th></th>\n",
       "      <th></th>\n",
       "      <th></th>\n",
       "      <th></th>\n",
       "    </tr>\n",
       "  </thead>\n",
       "  <tbody>\n",
       "    <tr>\n",
       "      <th rowspan=\"5\" valign=\"top\">COW</th>\n",
       "      <th rowspan=\"5\" valign=\"top\">2001</th>\n",
       "      <th>1</th>\n",
       "      <td>177287111.0</td>\n",
       "      <td>1.865793e+09</td>\n",
       "      <td>1.823462e+09</td>\n",
       "      <td>1.777168e+11</td>\n",
       "      <td>1.736848e+11</td>\n",
       "    </tr>\n",
       "    <tr>\n",
       "      <th>2</th>\n",
       "      <td>149735484.0</td>\n",
       "      <td>1.583640e+09</td>\n",
       "      <td>1.547591e+09</td>\n",
       "      <td>1.508417e+11</td>\n",
       "      <td>1.474080e+11</td>\n",
       "    </tr>\n",
       "    <tr>\n",
       "      <th>3</th>\n",
       "      <td>155269011.0</td>\n",
       "      <td>1.644568e+09</td>\n",
       "      <td>1.605916e+09</td>\n",
       "      <td>1.566451e+11</td>\n",
       "      <td>1.529635e+11</td>\n",
       "    </tr>\n",
       "    <tr>\n",
       "      <th>4</th>\n",
       "      <td>140670654.0</td>\n",
       "      <td>1.485098e+09</td>\n",
       "      <td>1.449735e+09</td>\n",
       "      <td>1.414556e+11</td>\n",
       "      <td>1.380873e+11</td>\n",
       "    </tr>\n",
       "    <tr>\n",
       "      <th>5</th>\n",
       "      <td>151592914.0</td>\n",
       "      <td>1.609281e+09</td>\n",
       "      <td>1.574618e+09</td>\n",
       "      <td>1.532840e+11</td>\n",
       "      <td>1.499824e+11</td>\n",
       "    </tr>\n",
       "  </tbody>\n",
       "</table>\n",
       "</div>"
      ],
      "text/plain": [
       "                 generation (MWh)  total fuel (mmbtu)  elec fuel (mmbtu)  \\\n",
       "type year month                                                            \n",
       "COW  2001 1           177287111.0        1.865793e+09       1.823462e+09   \n",
       "          2           149735484.0        1.583640e+09       1.547591e+09   \n",
       "          3           155269011.0        1.644568e+09       1.605916e+09   \n",
       "          4           140670654.0        1.485098e+09       1.449735e+09   \n",
       "          5           151592914.0        1.609281e+09       1.574618e+09   \n",
       "\n",
       "                 all fuel CO2 (kg)  elec fuel CO2 (kg)  \n",
       "type year month                                         \n",
       "COW  2001 1           1.777168e+11        1.736848e+11  \n",
       "          2           1.508417e+11        1.474080e+11  \n",
       "          3           1.566451e+11        1.529635e+11  \n",
       "          4           1.414556e+11        1.380873e+11  \n",
       "          5           1.532840e+11        1.499824e+11  "
      ]
     },
     "execution_count": 21,
     "metadata": {},
     "output_type": "execute_result"
    }
   ],
   "source": [
    "eia_total_monthly.head()"
   ]
  },
  {
   "cell_type": "code",
   "execution_count": 22,
   "metadata": {
    "ExecuteTime": {
     "end_time": "2017-03-23T15:42:32.015000",
     "start_time": "2017-03-23T15:42:32.007000"
    },
    "collapsed": true,
    "deletable": true,
    "editable": true
   },
   "outputs": [],
   "source": [
    "iterables = [eia_total_monthly.index.levels[0], range(2001, 2017), range(1, 13)]\n",
    "index = pd.MultiIndex.from_product(iterables=iterables, names=['type', 'year', 'month'])\n",
    "eia_extra = pd.DataFrame(index=index, columns=['total fuel (mmbtu)', 'generation (MWh)',\n",
    "                                               'elec fuel (mmbtu)'])"
   ]
  },
  {
   "cell_type": "code",
   "execution_count": 23,
   "metadata": {
    "ExecuteTime": {
     "end_time": "2017-03-23T15:42:32.683000",
     "start_time": "2017-03-23T15:42:32.679000"
    },
    "collapsed": false,
    "deletable": true,
    "editable": true
   },
   "outputs": [],
   "source": [
    "idx = pd.IndexSlice"
   ]
  },
  {
   "cell_type": "code",
   "execution_count": 24,
   "metadata": {
    "ExecuteTime": {
     "end_time": "2017-03-23T15:42:33.439000",
     "start_time": "2017-03-23T15:42:33.357000"
    },
    "collapsed": false,
    "deletable": true,
    "editable": true
   },
   "outputs": [],
   "source": [
    "use_columns=['total fuel (mmbtu)', 'generation (MWh)',\n",
    "                                               'elec fuel (mmbtu)']\n",
    "eia_extra = (eia_total_monthly.loc[idx[:,:,:], use_columns] - \n",
    "             eia_facility_fuel.loc[idx[:,:,:], use_columns])\n",
    "\n",
    "# I have lumped hydro pumped storage in with conventional hydro in the facility data.\n",
    "# Because of this, I need to add HPS rows so that the totals will add up correctly.\n",
    "# Also need to add DPV because it won't show up otherwise\n",
    "eia_extra.loc[idx[['HPS', 'DPV'],:,:], use_columns] = eia_total_monthly.loc[idx[['HPS', 'DPV'],:,:], use_columns]\n",
    "# eia_extra = eia_extra.loc[idx[:, 2003:, :],:]"
   ]
  },
  {
   "cell_type": "code",
   "execution_count": 25,
   "metadata": {
    "ExecuteTime": {
     "end_time": "2017-03-23T15:42:36.918000",
     "start_time": "2017-03-23T15:42:36.901000"
    },
    "collapsed": false,
    "deletable": true,
    "editable": true,
    "scrolled": true
   },
   "outputs": [
    {
     "data": {
      "text/html": [
       "<div>\n",
       "<table border=\"1\" class=\"dataframe\">\n",
       "  <thead>\n",
       "    <tr style=\"text-align: right;\">\n",
       "      <th></th>\n",
       "      <th></th>\n",
       "      <th></th>\n",
       "      <th>total fuel (mmbtu)</th>\n",
       "      <th>generation (MWh)</th>\n",
       "      <th>elec fuel (mmbtu)</th>\n",
       "    </tr>\n",
       "    <tr>\n",
       "      <th>type</th>\n",
       "      <th>year</th>\n",
       "      <th>month</th>\n",
       "      <th></th>\n",
       "      <th></th>\n",
       "      <th></th>\n",
       "    </tr>\n",
       "  </thead>\n",
       "  <tbody>\n",
       "    <tr>\n",
       "      <th rowspan=\"5\" valign=\"top\">COW</th>\n",
       "      <th rowspan=\"5\" valign=\"top\">2001</th>\n",
       "      <th>1</th>\n",
       "      <td>16918390.0</td>\n",
       "      <td>1011665.061</td>\n",
       "      <td>13157576.0</td>\n",
       "    </tr>\n",
       "    <tr>\n",
       "      <th>2</th>\n",
       "      <td>14968346.0</td>\n",
       "      <td>911346.865</td>\n",
       "      <td>11574491.0</td>\n",
       "    </tr>\n",
       "    <tr>\n",
       "      <th>3</th>\n",
       "      <td>18321543.0</td>\n",
       "      <td>1153328.913</td>\n",
       "      <td>14765162.0</td>\n",
       "    </tr>\n",
       "    <tr>\n",
       "      <th>4</th>\n",
       "      <td>13530117.0</td>\n",
       "      <td>776341.623</td>\n",
       "      <td>10374008.0</td>\n",
       "    </tr>\n",
       "    <tr>\n",
       "      <th>5</th>\n",
       "      <td>14014024.0</td>\n",
       "      <td>801266.923</td>\n",
       "      <td>10920463.0</td>\n",
       "    </tr>\n",
       "  </tbody>\n",
       "</table>\n",
       "</div>"
      ],
      "text/plain": [
       "                 total fuel (mmbtu)  generation (MWh)  elec fuel (mmbtu)\n",
       "type year month                                                         \n",
       "COW  2001 1              16918390.0       1011665.061         13157576.0\n",
       "          2              14968346.0        911346.865         11574491.0\n",
       "          3              18321543.0       1153328.913         14765162.0\n",
       "          4              13530117.0        776341.623         10374008.0\n",
       "          5              14014024.0        801266.923         10920463.0"
      ]
     },
     "execution_count": 25,
     "metadata": {},
     "output_type": "execute_result"
    }
   ],
   "source": [
    "eia_extra.head()"
   ]
  },
  {
   "cell_type": "code",
   "execution_count": 26,
   "metadata": {
    "ExecuteTime": {
     "end_time": "2017-03-23T15:42:37.606000",
     "start_time": "2017-03-23T15:42:37.570000"
    },
    "collapsed": false,
    "deletable": true,
    "editable": true,
    "scrolled": true
   },
   "outputs": [
    {
     "data": {
      "text/html": [
       "<div>\n",
       "<table border=\"1\" class=\"dataframe\">\n",
       "  <thead>\n",
       "    <tr style=\"text-align: right;\">\n",
       "      <th></th>\n",
       "      <th></th>\n",
       "      <th></th>\n",
       "      <th>total fuel (mmbtu)</th>\n",
       "      <th>generation (MWh)</th>\n",
       "      <th>elec fuel (mmbtu)</th>\n",
       "    </tr>\n",
       "    <tr>\n",
       "      <th>type</th>\n",
       "      <th>year</th>\n",
       "      <th>month</th>\n",
       "      <th></th>\n",
       "      <th></th>\n",
       "      <th></th>\n",
       "    </tr>\n",
       "  </thead>\n",
       "  <tbody>\n",
       "    <tr>\n",
       "      <th rowspan=\"36\" valign=\"top\">DPV</th>\n",
       "      <th rowspan=\"12\" valign=\"top\">2014</th>\n",
       "      <th>1</th>\n",
       "      <td>NaN</td>\n",
       "      <td>624032.82</td>\n",
       "      <td>NaN</td>\n",
       "    </tr>\n",
       "    <tr>\n",
       "      <th>2</th>\n",
       "      <td>NaN</td>\n",
       "      <td>663828.73</td>\n",
       "      <td>NaN</td>\n",
       "    </tr>\n",
       "    <tr>\n",
       "      <th>3</th>\n",
       "      <td>NaN</td>\n",
       "      <td>907029.95</td>\n",
       "      <td>NaN</td>\n",
       "    </tr>\n",
       "    <tr>\n",
       "      <th>4</th>\n",
       "      <td>NaN</td>\n",
       "      <td>988423.77</td>\n",
       "      <td>NaN</td>\n",
       "    </tr>\n",
       "    <tr>\n",
       "      <th>5</th>\n",
       "      <td>NaN</td>\n",
       "      <td>1092011.80</td>\n",
       "      <td>NaN</td>\n",
       "    </tr>\n",
       "    <tr>\n",
       "      <th>6</th>\n",
       "      <td>NaN</td>\n",
       "      <td>1100560.82</td>\n",
       "      <td>NaN</td>\n",
       "    </tr>\n",
       "    <tr>\n",
       "      <th>7</th>\n",
       "      <td>NaN</td>\n",
       "      <td>1148527.79</td>\n",
       "      <td>NaN</td>\n",
       "    </tr>\n",
       "    <tr>\n",
       "      <th>8</th>\n",
       "      <td>NaN</td>\n",
       "      <td>1139134.66</td>\n",
       "      <td>NaN</td>\n",
       "    </tr>\n",
       "    <tr>\n",
       "      <th>9</th>\n",
       "      <td>NaN</td>\n",
       "      <td>1046360.70</td>\n",
       "      <td>NaN</td>\n",
       "    </tr>\n",
       "    <tr>\n",
       "      <th>10</th>\n",
       "      <td>NaN</td>\n",
       "      <td>964877.96</td>\n",
       "      <td>NaN</td>\n",
       "    </tr>\n",
       "    <tr>\n",
       "      <th>11</th>\n",
       "      <td>NaN</td>\n",
       "      <td>791801.55</td>\n",
       "      <td>NaN</td>\n",
       "    </tr>\n",
       "    <tr>\n",
       "      <th>12</th>\n",
       "      <td>NaN</td>\n",
       "      <td>766068.15</td>\n",
       "      <td>NaN</td>\n",
       "    </tr>\n",
       "    <tr>\n",
       "      <th rowspan=\"12\" valign=\"top\">2015</th>\n",
       "      <th>1</th>\n",
       "      <td>NaN</td>\n",
       "      <td>746445.84</td>\n",
       "      <td>NaN</td>\n",
       "    </tr>\n",
       "    <tr>\n",
       "      <th>2</th>\n",
       "      <td>NaN</td>\n",
       "      <td>815764.50</td>\n",
       "      <td>NaN</td>\n",
       "    </tr>\n",
       "    <tr>\n",
       "      <th>3</th>\n",
       "      <td>NaN</td>\n",
       "      <td>1133577.23</td>\n",
       "      <td>NaN</td>\n",
       "    </tr>\n",
       "    <tr>\n",
       "      <th>4</th>\n",
       "      <td>NaN</td>\n",
       "      <td>1263528.30</td>\n",
       "      <td>NaN</td>\n",
       "    </tr>\n",
       "    <tr>\n",
       "      <th>5</th>\n",
       "      <td>NaN</td>\n",
       "      <td>1393836.75</td>\n",
       "      <td>NaN</td>\n",
       "    </tr>\n",
       "    <tr>\n",
       "      <th>6</th>\n",
       "      <td>NaN</td>\n",
       "      <td>1408013.52</td>\n",
       "      <td>NaN</td>\n",
       "    </tr>\n",
       "    <tr>\n",
       "      <th>7</th>\n",
       "      <td>NaN</td>\n",
       "      <td>1486681.59</td>\n",
       "      <td>NaN</td>\n",
       "    </tr>\n",
       "    <tr>\n",
       "      <th>8</th>\n",
       "      <td>NaN</td>\n",
       "      <td>1468048.33</td>\n",
       "      <td>NaN</td>\n",
       "    </tr>\n",
       "    <tr>\n",
       "      <th>9</th>\n",
       "      <td>NaN</td>\n",
       "      <td>1329651.46</td>\n",
       "      <td>NaN</td>\n",
       "    </tr>\n",
       "    <tr>\n",
       "      <th>10</th>\n",
       "      <td>NaN</td>\n",
       "      <td>1197707.54</td>\n",
       "      <td>NaN</td>\n",
       "    </tr>\n",
       "    <tr>\n",
       "      <th>11</th>\n",
       "      <td>NaN</td>\n",
       "      <td>982048.27</td>\n",
       "      <td>NaN</td>\n",
       "    </tr>\n",
       "    <tr>\n",
       "      <th>12</th>\n",
       "      <td>NaN</td>\n",
       "      <td>913963.95</td>\n",
       "      <td>NaN</td>\n",
       "    </tr>\n",
       "    <tr>\n",
       "      <th rowspan=\"12\" valign=\"top\">2016</th>\n",
       "      <th>1</th>\n",
       "      <td>NaN</td>\n",
       "      <td>1020588.78</td>\n",
       "      <td>NaN</td>\n",
       "    </tr>\n",
       "    <tr>\n",
       "      <th>2</th>\n",
       "      <td>NaN</td>\n",
       "      <td>1189469.53</td>\n",
       "      <td>NaN</td>\n",
       "    </tr>\n",
       "    <tr>\n",
       "      <th>3</th>\n",
       "      <td>NaN</td>\n",
       "      <td>1582361.09</td>\n",
       "      <td>NaN</td>\n",
       "    </tr>\n",
       "    <tr>\n",
       "      <th>4</th>\n",
       "      <td>NaN</td>\n",
       "      <td>1763404.74</td>\n",
       "      <td>NaN</td>\n",
       "    </tr>\n",
       "    <tr>\n",
       "      <th>5</th>\n",
       "      <td>NaN</td>\n",
       "      <td>1944571.47</td>\n",
       "      <td>NaN</td>\n",
       "    </tr>\n",
       "    <tr>\n",
       "      <th>6</th>\n",
       "      <td>NaN</td>\n",
       "      <td>1991456.73</td>\n",
       "      <td>NaN</td>\n",
       "    </tr>\n",
       "    <tr>\n",
       "      <th>7</th>\n",
       "      <td>NaN</td>\n",
       "      <td>2065890.59</td>\n",
       "      <td>NaN</td>\n",
       "    </tr>\n",
       "    <tr>\n",
       "      <th>8</th>\n",
       "      <td>NaN</td>\n",
       "      <td>2003636.20</td>\n",
       "      <td>NaN</td>\n",
       "    </tr>\n",
       "    <tr>\n",
       "      <th>9</th>\n",
       "      <td>NaN</td>\n",
       "      <td>1789836.27</td>\n",
       "      <td>NaN</td>\n",
       "    </tr>\n",
       "    <tr>\n",
       "      <th>10</th>\n",
       "      <td>NaN</td>\n",
       "      <td>1607185.85</td>\n",
       "      <td>NaN</td>\n",
       "    </tr>\n",
       "    <tr>\n",
       "      <th>11</th>\n",
       "      <td>NaN</td>\n",
       "      <td>1306748.99</td>\n",
       "      <td>NaN</td>\n",
       "    </tr>\n",
       "    <tr>\n",
       "      <th>12</th>\n",
       "      <td>NaN</td>\n",
       "      <td>1201677.95</td>\n",
       "      <td>NaN</td>\n",
       "    </tr>\n",
       "  </tbody>\n",
       "</table>\n",
       "</div>"
      ],
      "text/plain": [
       "                 total fuel (mmbtu)  generation (MWh)  elec fuel (mmbtu)\n",
       "type year month                                                         \n",
       "DPV  2014 1                     NaN         624032.82                NaN\n",
       "          2                     NaN         663828.73                NaN\n",
       "          3                     NaN         907029.95                NaN\n",
       "          4                     NaN         988423.77                NaN\n",
       "          5                     NaN        1092011.80                NaN\n",
       "          6                     NaN        1100560.82                NaN\n",
       "          7                     NaN        1148527.79                NaN\n",
       "          8                     NaN        1139134.66                NaN\n",
       "          9                     NaN        1046360.70                NaN\n",
       "          10                    NaN         964877.96                NaN\n",
       "          11                    NaN         791801.55                NaN\n",
       "          12                    NaN         766068.15                NaN\n",
       "     2015 1                     NaN         746445.84                NaN\n",
       "          2                     NaN         815764.50                NaN\n",
       "          3                     NaN        1133577.23                NaN\n",
       "          4                     NaN        1263528.30                NaN\n",
       "          5                     NaN        1393836.75                NaN\n",
       "          6                     NaN        1408013.52                NaN\n",
       "          7                     NaN        1486681.59                NaN\n",
       "          8                     NaN        1468048.33                NaN\n",
       "          9                     NaN        1329651.46                NaN\n",
       "          10                    NaN        1197707.54                NaN\n",
       "          11                    NaN         982048.27                NaN\n",
       "          12                    NaN         913963.95                NaN\n",
       "     2016 1                     NaN        1020588.78                NaN\n",
       "          2                     NaN        1189469.53                NaN\n",
       "          3                     NaN        1582361.09                NaN\n",
       "          4                     NaN        1763404.74                NaN\n",
       "          5                     NaN        1944571.47                NaN\n",
       "          6                     NaN        1991456.73                NaN\n",
       "          7                     NaN        2065890.59                NaN\n",
       "          8                     NaN        2003636.20                NaN\n",
       "          9                     NaN        1789836.27                NaN\n",
       "          10                    NaN        1607185.85                NaN\n",
       "          11                    NaN        1306748.99                NaN\n",
       "          12                    NaN        1201677.95                NaN"
      ]
     },
     "execution_count": 26,
     "metadata": {},
     "output_type": "execute_result"
    }
   ],
   "source": [
    "eia_extra.loc[idx['DPV',:,:]]"
   ]
  },
  {
   "cell_type": "markdown",
   "metadata": {
    "deletable": true,
    "editable": true
   },
   "source": [
    "### Calculate extra electric fuel CO2 emissions"
   ]
  },
  {
   "cell_type": "code",
   "execution_count": 27,
   "metadata": {
    "ExecuteTime": {
     "end_time": "2017-03-23T15:42:44.157000",
     "start_time": "2017-03-23T15:42:44.138000"
    },
    "collapsed": true,
    "deletable": true,
    "editable": true
   },
   "outputs": [],
   "source": [
    "path = os.path.join('Final emission factors.csv')\n",
    "ef = pd.read_csv(path, index_col=0)"
   ]
  },
  {
   "cell_type": "markdown",
   "metadata": {},
   "source": [
    "We need to approximate some of the emission factors because the state-level EIA data is only available in the bulk download at an aggregated level. Natural gas usually makes up the bulk of this extra electric generation/fuel use (consumption not reported by facilities, estimated by EIA), and it is still a single fuel here."
   ]
  },
  {
   "cell_type": "code",
   "execution_count": 28,
   "metadata": {
    "ExecuteTime": {
     "end_time": "2017-03-23T15:42:45.910000",
     "start_time": "2017-03-23T15:42:45.821000"
    },
    "collapsed": false,
    "deletable": true,
    "editable": true
   },
   "outputs": [],
   "source": [
    "fuel_factors = {'NG' : ef.loc['NG', 'Fossil Factor'],\n",
    "                   'PEL': ef.loc[['DFO', 'RFO'], 'Fossil Factor'].mean(),\n",
    "                   'PC' : ef.loc['PC', 'Fossil Factor'], \n",
    "                   'COW' : ef.loc[['BIT', 'SUB'], 'Fossil Factor'].mean(),\n",
    "                   'OOG' : ef.loc['OG', 'Fossil Factor']}"
   ]
  },
  {
   "cell_type": "code",
   "execution_count": 29,
   "metadata": {
    "ExecuteTime": {
     "end_time": "2017-03-23T15:42:46.472000",
     "start_time": "2017-03-23T15:42:46.337000"
    },
    "collapsed": false,
    "deletable": true,
    "editable": true
   },
   "outputs": [],
   "source": [
    "# Start with 0 emissions in all rows\n",
    "# For fuels where we have an emission factor, replace the 0 with the calculated value\n",
    "eia_extra['all fuel CO2 (kg)'] = 0\n",
    "eia_extra['elec fuel CO2 (kg)'] = 0\n",
    "for fuel in fuel_factors.keys():\n",
    "    eia_extra.loc[idx[fuel,:,:],'all fuel CO2 (kg)'] = \\\n",
    "        eia_extra.loc[idx[fuel,:,:],'total fuel (mmbtu)'] * fuel_factors[fuel]\n",
    "        \n",
    "    eia_extra.loc[idx[fuel,:,:],'elec fuel CO2 (kg)'] = \\\n",
    "        eia_extra.loc[idx[fuel,:,:],'elec fuel (mmbtu)'] * fuel_factors[fuel]\n",
    "        \n",
    "# eia_extra.reset_index(inplace=True)\n",
    "# add_quarter(eia_extra)"
   ]
  },
  {
   "cell_type": "code",
   "execution_count": 30,
   "metadata": {
    "ExecuteTime": {
     "end_time": "2017-03-23T15:42:47.165000",
     "start_time": "2017-03-23T15:42:47.143000"
    },
    "collapsed": false,
    "deletable": true,
    "editable": true
   },
   "outputs": [
    {
     "data": {
      "text/html": [
       "<div>\n",
       "<table border=\"1\" class=\"dataframe\">\n",
       "  <thead>\n",
       "    <tr style=\"text-align: right;\">\n",
       "      <th></th>\n",
       "      <th></th>\n",
       "      <th></th>\n",
       "      <th>total fuel (mmbtu)</th>\n",
       "      <th>generation (MWh)</th>\n",
       "      <th>elec fuel (mmbtu)</th>\n",
       "      <th>all fuel CO2 (kg)</th>\n",
       "      <th>elec fuel CO2 (kg)</th>\n",
       "    </tr>\n",
       "    <tr>\n",
       "      <th>type</th>\n",
       "      <th>year</th>\n",
       "      <th>month</th>\n",
       "      <th></th>\n",
       "      <th></th>\n",
       "      <th></th>\n",
       "      <th></th>\n",
       "      <th></th>\n",
       "    </tr>\n",
       "  </thead>\n",
       "  <tbody>\n",
       "    <tr>\n",
       "      <th rowspan=\"5\" valign=\"top\">NG</th>\n",
       "      <th rowspan=\"5\" valign=\"top\">2016</th>\n",
       "      <th>8</th>\n",
       "      <td>113483580.0</td>\n",
       "      <td>8771123.171</td>\n",
       "      <td>76113078.0</td>\n",
       "      <td>6.022574e+09</td>\n",
       "      <td>4.039321e+09</td>\n",
       "    </tr>\n",
       "    <tr>\n",
       "      <th>9</th>\n",
       "      <td>92669757.0</td>\n",
       "      <td>6807972.734</td>\n",
       "      <td>58768974.0</td>\n",
       "      <td>4.917984e+09</td>\n",
       "      <td>3.118869e+09</td>\n",
       "    </tr>\n",
       "    <tr>\n",
       "      <th>10</th>\n",
       "      <td>81146370.0</td>\n",
       "      <td>5686910.460</td>\n",
       "      <td>49408994.0</td>\n",
       "      <td>4.306438e+09</td>\n",
       "      <td>2.622135e+09</td>\n",
       "    </tr>\n",
       "    <tr>\n",
       "      <th>11</th>\n",
       "      <td>79733264.0</td>\n",
       "      <td>5334036.489</td>\n",
       "      <td>46334703.0</td>\n",
       "      <td>4.231444e+09</td>\n",
       "      <td>2.458983e+09</td>\n",
       "    </tr>\n",
       "    <tr>\n",
       "      <th>12</th>\n",
       "      <td>83261980.0</td>\n",
       "      <td>5452905.893</td>\n",
       "      <td>47673785.0</td>\n",
       "      <td>4.418713e+09</td>\n",
       "      <td>2.530048e+09</td>\n",
       "    </tr>\n",
       "  </tbody>\n",
       "</table>\n",
       "</div>"
      ],
      "text/plain": [
       "                 total fuel (mmbtu)  generation (MWh)  elec fuel (mmbtu)  \\\n",
       "type year month                                                            \n",
       "NG   2016 8             113483580.0       8771123.171         76113078.0   \n",
       "          9              92669757.0       6807972.734         58768974.0   \n",
       "          10             81146370.0       5686910.460         49408994.0   \n",
       "          11             79733264.0       5334036.489         46334703.0   \n",
       "          12             83261980.0       5452905.893         47673785.0   \n",
       "\n",
       "                 all fuel CO2 (kg)  elec fuel CO2 (kg)  \n",
       "type year month                                         \n",
       "NG   2016 8           6.022574e+09        4.039321e+09  \n",
       "          9           4.917984e+09        3.118869e+09  \n",
       "          10          4.306438e+09        2.622135e+09  \n",
       "          11          4.231444e+09        2.458983e+09  \n",
       "          12          4.418713e+09        2.530048e+09  "
      ]
     },
     "execution_count": 30,
     "metadata": {},
     "output_type": "execute_result"
    }
   ],
   "source": [
    "eia_extra.loc[idx['NG',:,:],].tail()"
   ]
  },
  {
   "cell_type": "markdown",
   "metadata": {
    "deletable": true,
    "editable": true
   },
   "source": [
    "## Add EPA facility-level emissions back to the EIA facility df, use EIA emissions where EPA don't exist, add extra EIA emissions for state-level data\n",
    "The dataframes start at a facility level. Extra EIA emissions for estimated state-level data are added after they are aggregated by year/month in the \"Monthly Index\" section below."
   ]
  },
  {
   "cell_type": "code",
   "execution_count": 31,
   "metadata": {
    "ExecuteTime": {
     "end_time": "2017-03-23T15:42:58.365000",
     "start_time": "2017-03-23T15:42:50.221000"
    },
    "collapsed": false,
    "deletable": true,
    "editable": true
   },
   "outputs": [],
   "source": [
    "epa_cols = ['ORISPL_CODE', 'YEAR', 'MONTH', 'adj CO2 (kg)']\n",
    "final_co2_gen = eia_facility_grouped.merge(epa_adj.loc[:,epa_cols], left_on=['plant id', 'year', 'month'], \n",
    "                                         right_on=['ORISPL_CODE', 'YEAR', 'MONTH'], how='left')\n",
    "final_co2_gen.drop(['ORISPL_CODE', 'YEAR', 'MONTH'], axis=1, inplace=True)\n",
    "final_co2_gen['final CO2 (kg)'] = final_co2_gen['adj CO2 (kg)']\n",
    "final_co2_gen.loc[final_co2_gen['final CO2 (kg)'].isnull(), 'final CO2 (kg)'] = final_co2_gen.loc[final_co2_gen['final CO2 (kg)'].isnull(), 'elec fuel fossil CO2 (kg)']\n",
    "add_quarter(final_co2_gen)"
   ]
  },
  {
   "cell_type": "code",
   "execution_count": 32,
   "metadata": {
    "ExecuteTime": {
     "end_time": "2017-03-23T15:42:58.398000",
     "start_time": "2017-03-23T15:42:58.367000"
    },
    "collapsed": false,
    "deletable": true,
    "editable": true
   },
   "outputs": [
    {
     "data": {
      "text/html": [
       "<div>\n",
       "<table border=\"1\" class=\"dataframe\">\n",
       "  <thead>\n",
       "    <tr style=\"text-align: right;\">\n",
       "      <th></th>\n",
       "      <th>year</th>\n",
       "      <th>month</th>\n",
       "      <th>plant id</th>\n",
       "      <th>all fuel fossil CO2 (kg)</th>\n",
       "      <th>elec fuel fossil CO2 (kg)</th>\n",
       "      <th>all fuel total CO2 (kg)</th>\n",
       "      <th>elec fuel total CO2 (kg)</th>\n",
       "      <th>generation (MWh)</th>\n",
       "      <th>CO2 ratio</th>\n",
       "      <th>adj CO2 (kg)</th>\n",
       "      <th>final CO2 (kg)</th>\n",
       "      <th>datetime</th>\n",
       "      <th>quarter</th>\n",
       "    </tr>\n",
       "  </thead>\n",
       "  <tbody>\n",
       "    <tr>\n",
       "      <th>0</th>\n",
       "      <td>2001</td>\n",
       "      <td>1</td>\n",
       "      <td>2</td>\n",
       "      <td>0.000000e+00</td>\n",
       "      <td>0.000000e+00</td>\n",
       "      <td>0.000000e+00</td>\n",
       "      <td>0.000000e+00</td>\n",
       "      <td>18918.0</td>\n",
       "      <td>0.0</td>\n",
       "      <td>NaN</td>\n",
       "      <td>0.000000e+00</td>\n",
       "      <td>2001-01-01</td>\n",
       "      <td>1</td>\n",
       "    </tr>\n",
       "    <tr>\n",
       "      <th>1</th>\n",
       "      <td>2001</td>\n",
       "      <td>1</td>\n",
       "      <td>3</td>\n",
       "      <td>8.905017e+08</td>\n",
       "      <td>8.905017e+08</td>\n",
       "      <td>8.905017e+08</td>\n",
       "      <td>8.905017e+08</td>\n",
       "      <td>1158644.0</td>\n",
       "      <td>1.0</td>\n",
       "      <td>9.625411e+08</td>\n",
       "      <td>9.625411e+08</td>\n",
       "      <td>2001-01-01</td>\n",
       "      <td>1</td>\n",
       "    </tr>\n",
       "    <tr>\n",
       "      <th>2</th>\n",
       "      <td>2001</td>\n",
       "      <td>1</td>\n",
       "      <td>4</td>\n",
       "      <td>0.000000e+00</td>\n",
       "      <td>0.000000e+00</td>\n",
       "      <td>0.000000e+00</td>\n",
       "      <td>0.000000e+00</td>\n",
       "      <td>51843.0</td>\n",
       "      <td>0.0</td>\n",
       "      <td>NaN</td>\n",
       "      <td>0.000000e+00</td>\n",
       "      <td>2001-01-01</td>\n",
       "      <td>1</td>\n",
       "    </tr>\n",
       "    <tr>\n",
       "      <th>3</th>\n",
       "      <td>2001</td>\n",
       "      <td>1</td>\n",
       "      <td>7</td>\n",
       "      <td>5.501578e+07</td>\n",
       "      <td>5.501578e+07</td>\n",
       "      <td>5.501578e+07</td>\n",
       "      <td>5.501578e+07</td>\n",
       "      <td>46411.0</td>\n",
       "      <td>1.0</td>\n",
       "      <td>6.700092e+07</td>\n",
       "      <td>6.700092e+07</td>\n",
       "      <td>2001-01-01</td>\n",
       "      <td>1</td>\n",
       "    </tr>\n",
       "    <tr>\n",
       "      <th>4</th>\n",
       "      <td>2001</td>\n",
       "      <td>1</td>\n",
       "      <td>8</td>\n",
       "      <td>6.457039e+08</td>\n",
       "      <td>6.457039e+08</td>\n",
       "      <td>6.457039e+08</td>\n",
       "      <td>6.457039e+08</td>\n",
       "      <td>707902.0</td>\n",
       "      <td>1.0</td>\n",
       "      <td>7.530204e+08</td>\n",
       "      <td>7.530204e+08</td>\n",
       "      <td>2001-01-01</td>\n",
       "      <td>1</td>\n",
       "    </tr>\n",
       "  </tbody>\n",
       "</table>\n",
       "</div>"
      ],
      "text/plain": [
       "   year  month  plant id  all fuel fossil CO2 (kg)  elec fuel fossil CO2 (kg)  \\\n",
       "0  2001      1         2              0.000000e+00               0.000000e+00   \n",
       "1  2001      1         3              8.905017e+08               8.905017e+08   \n",
       "2  2001      1         4              0.000000e+00               0.000000e+00   \n",
       "3  2001      1         7              5.501578e+07               5.501578e+07   \n",
       "4  2001      1         8              6.457039e+08               6.457039e+08   \n",
       "\n",
       "   all fuel total CO2 (kg)  elec fuel total CO2 (kg)  generation (MWh)  \\\n",
       "0             0.000000e+00              0.000000e+00           18918.0   \n",
       "1             8.905017e+08              8.905017e+08         1158644.0   \n",
       "2             0.000000e+00              0.000000e+00           51843.0   \n",
       "3             5.501578e+07              5.501578e+07           46411.0   \n",
       "4             6.457039e+08              6.457039e+08          707902.0   \n",
       "\n",
       "   CO2 ratio  adj CO2 (kg)  final CO2 (kg)   datetime  quarter  \n",
       "0        0.0           NaN    0.000000e+00 2001-01-01        1  \n",
       "1        1.0  9.625411e+08    9.625411e+08 2001-01-01        1  \n",
       "2        0.0           NaN    0.000000e+00 2001-01-01        1  \n",
       "3        1.0  6.700092e+07    6.700092e+07 2001-01-01        1  \n",
       "4        1.0  7.530204e+08    7.530204e+08 2001-01-01        1  "
      ]
     },
     "execution_count": 32,
     "metadata": {},
     "output_type": "execute_result"
    }
   ],
   "source": [
    "final_co2_gen.head()"
   ]
  },
  {
   "cell_type": "markdown",
   "metadata": {
    "deletable": true,
    "editable": true
   },
   "source": [
    "## Final index values"
   ]
  },
  {
   "cell_type": "markdown",
   "metadata": {
    "deletable": true,
    "editable": true
   },
   "source": [
    "Start with some helper functions to convert units and calculate % change from 2005 annual value"
   ]
  },
  {
   "cell_type": "code",
   "execution_count": 33,
   "metadata": {
    "ExecuteTime": {
     "end_time": "2017-03-23T15:42:58.530000",
     "start_time": "2017-03-23T15:42:58.400000"
    },
    "collapsed": true,
    "deletable": true,
    "editable": true
   },
   "outputs": [],
   "source": [
    "def g2lb(df):\n",
    "    \"\"\"\n",
    "    Convert g/kWh to lb/MWh and add a column to the df\n",
    "    \"\"\"\n",
    "    kg2lb = 2.2046\n",
    "    df['index (lb/MWh)'] = df['index (g/kWh)'] * kg2lb\n",
    "    \n",
    "def change_since_2005(df):\n",
    "    \"\"\"\n",
    "    Calculate the % difference from 2005 and add as a column in the df\n",
    "    \"\"\"\n",
    "    # first calculate the index in 2005 \n",
    "    index_2005 = ((df.loc[df['year']==2005,'index (g/kWh)'] * \n",
    "                df.loc[df['year']==2005,'generation (MWh)']) / \n",
    "             df.loc[df['year']==2005,'generation (MWh)'].sum()).sum()\n",
    "    \n",
    "    # Calculated index value in 2005 is 599.8484560355034\n",
    "    # If the value above is different throw an error\n",
    "    if (index_2005 > 601) or (index_2005 < 599.5):\n",
    "        raise ValueError('Calculated 2005 index value', index_2005, \n",
    "                         'is outside expected range. Expected value is 599.848')\n",
    "    if type(index_2005) != float:\n",
    "        raise TypeError('index_2005 is', type(index_2005), 'rather than a float.')\n",
    "    \n",
    "    df['change since 2005'] = (df['index (g/kWh)'] - index_2005) / index_2005"
   ]
  },
  {
   "cell_type": "markdown",
   "metadata": {
    "deletable": true,
    "editable": true
   },
   "source": [
    "### Monthly Index\n",
    "Adding generation and emissions not captured in the facility-level data"
   ]
  },
  {
   "cell_type": "code",
   "execution_count": 34,
   "metadata": {
    "ExecuteTime": {
     "end_time": "2017-03-23T15:42:58.898000",
     "start_time": "2017-03-23T15:42:58.532000"
    },
    "collapsed": false,
    "deletable": true,
    "editable": true
   },
   "outputs": [],
   "source": [
    "monthly_index = final_co2_gen.groupby(['year', 'month'])['generation (MWh)', 'final CO2 (kg)'].sum()\n",
    "monthly_index.reset_index(inplace=True)\n",
    "\n",
    "# Add extra generation and emissions not captured by facility-level data\n",
    "monthly_index.loc[:,'final CO2 (kg)'] += eia_extra.reset_index().groupby(['year', 'month'])['elec fuel CO2 (kg)'].sum().values\n",
    "monthly_index.loc[:,'generation (MWh)'] += eia_extra.reset_index().groupby(['year', 'month'])['generation (MWh)'].sum().values\n",
    "add_quarter(monthly_index)\n",
    "monthly_index['index (g/kWh)'] = monthly_index.loc[:, 'final CO2 (kg)'] / monthly_index.loc[:, 'generation (MWh)']\n",
    "\n",
    "change_since_2005(monthly_index)\n",
    "g2lb(monthly_index)\n",
    "monthly_index.dropna(inplace=True)"
   ]
  },
  {
   "cell_type": "code",
   "execution_count": 36,
   "metadata": {
    "ExecuteTime": {
     "end_time": "2017-03-23T15:43:10.795000",
     "start_time": "2017-03-23T15:43:10.768000"
    },
    "collapsed": false,
    "deletable": true,
    "editable": true
   },
   "outputs": [
    {
     "data": {
      "text/html": [
       "<div>\n",
       "<table border=\"1\" class=\"dataframe\">\n",
       "  <thead>\n",
       "    <tr style=\"text-align: right;\">\n",
       "      <th></th>\n",
       "      <th>year</th>\n",
       "      <th>month</th>\n",
       "      <th>generation (MWh)</th>\n",
       "      <th>final CO2 (kg)</th>\n",
       "      <th>datetime</th>\n",
       "      <th>quarter</th>\n",
       "      <th>index (g/kWh)</th>\n",
       "      <th>change since 2005</th>\n",
       "      <th>index (lb/MWh)</th>\n",
       "    </tr>\n",
       "  </thead>\n",
       "  <tbody>\n",
       "    <tr>\n",
       "      <th>187</th>\n",
       "      <td>2016</td>\n",
       "      <td>8</td>\n",
       "      <td>4.121169e+08</td>\n",
       "      <td>2.075103e+11</td>\n",
       "      <td>2016-08-01</td>\n",
       "      <td>3</td>\n",
       "      <td>503.522947</td>\n",
       "      <td>-0.161845</td>\n",
       "      <td>1110.066690</td>\n",
       "    </tr>\n",
       "    <tr>\n",
       "      <th>188</th>\n",
       "      <td>2016</td>\n",
       "      <td>9</td>\n",
       "      <td>3.535587e+08</td>\n",
       "      <td>1.719623e+11</td>\n",
       "      <td>2016-09-01</td>\n",
       "      <td>3</td>\n",
       "      <td>486.375499</td>\n",
       "      <td>-0.190389</td>\n",
       "      <td>1072.263425</td>\n",
       "    </tr>\n",
       "    <tr>\n",
       "      <th>189</th>\n",
       "      <td>2016</td>\n",
       "      <td>10</td>\n",
       "      <td>3.144356e+08</td>\n",
       "      <td>1.454571e+11</td>\n",
       "      <td>2016-10-01</td>\n",
       "      <td>4</td>\n",
       "      <td>462.597438</td>\n",
       "      <td>-0.229969</td>\n",
       "      <td>1019.842313</td>\n",
       "    </tr>\n",
       "    <tr>\n",
       "      <th>190</th>\n",
       "      <td>2016</td>\n",
       "      <td>11</td>\n",
       "      <td>2.987341e+08</td>\n",
       "      <td>1.293222e+11</td>\n",
       "      <td>2016-11-01</td>\n",
       "      <td>4</td>\n",
       "      <td>432.900588</td>\n",
       "      <td>-0.279402</td>\n",
       "      <td>954.372636</td>\n",
       "    </tr>\n",
       "    <tr>\n",
       "      <th>191</th>\n",
       "      <td>2016</td>\n",
       "      <td>12</td>\n",
       "      <td>3.464400e+08</td>\n",
       "      <td>1.608125e+11</td>\n",
       "      <td>2016-12-01</td>\n",
       "      <td>4</td>\n",
       "      <td>464.185868</td>\n",
       "      <td>-0.227325</td>\n",
       "      <td>1023.344164</td>\n",
       "    </tr>\n",
       "  </tbody>\n",
       "</table>\n",
       "</div>"
      ],
      "text/plain": [
       "     year  month  generation (MWh)  final CO2 (kg)   datetime  quarter  \\\n",
       "187  2016      8      4.121169e+08    2.075103e+11 2016-08-01        3   \n",
       "188  2016      9      3.535587e+08    1.719623e+11 2016-09-01        3   \n",
       "189  2016     10      3.144356e+08    1.454571e+11 2016-10-01        4   \n",
       "190  2016     11      2.987341e+08    1.293222e+11 2016-11-01        4   \n",
       "191  2016     12      3.464400e+08    1.608125e+11 2016-12-01        4   \n",
       "\n",
       "     index (g/kWh)  change since 2005  index (lb/MWh)  \n",
       "187     503.522947          -0.161845     1110.066690  \n",
       "188     486.375499          -0.190389     1072.263425  \n",
       "189     462.597438          -0.229969     1019.842313  \n",
       "190     432.900588          -0.279402      954.372636  \n",
       "191     464.185868          -0.227325     1023.344164  "
      ]
     },
     "execution_count": 36,
     "metadata": {},
     "output_type": "execute_result"
    }
   ],
   "source": [
    "monthly_index.tail()"
   ]
  },
  {
   "cell_type": "code",
   "execution_count": 205,
   "metadata": {
    "ExecuteTime": {
     "end_time": "2017-03-15T15:32:44.893000",
     "start_time": "2017-03-15T15:32:44.848000"
    },
    "collapsed": true,
    "deletable": true,
    "editable": true
   },
   "outputs": [],
   "source": [
    "path = os.path.join('Data for plots', 'Monthly index.csv')\n",
    "monthly_index.to_csv(path, index=False)"
   ]
  },
  {
   "cell_type": "markdown",
   "metadata": {
    "deletable": true,
    "editable": true
   },
   "source": [
    "### Quarterly Index\n",
    "Built up from the monthly index"
   ]
  },
  {
   "cell_type": "code",
   "execution_count": 35,
   "metadata": {
    "ExecuteTime": {
     "end_time": "2017-03-23T15:43:06.591000",
     "start_time": "2017-03-23T15:43:06.573000"
    },
    "collapsed": false,
    "deletable": true,
    "editable": true
   },
   "outputs": [],
   "source": [
    "quarterly_index = monthly_index.groupby(['year', 'quarter'])['generation (MWh)', 'final CO2 (kg)'].sum()\n",
    "quarterly_index.reset_index(inplace=True)\n",
    "quarterly_index['index (g/kWh)'] = quarterly_index.loc[:, 'final CO2 (kg)'] / quarterly_index.loc[:, 'generation (MWh)']\n",
    "quarterly_index['year_quarter'] = quarterly_index['year'].astype(str) + ' Q' + quarterly_index['quarter'].astype(str)\n",
    "change_since_2005(quarterly_index)\n",
    "g2lb(quarterly_index)"
   ]
  },
  {
   "cell_type": "code",
   "execution_count": 37,
   "metadata": {
    "ExecuteTime": {
     "end_time": "2017-03-23T15:43:13.426000",
     "start_time": "2017-03-23T15:43:13.400000"
    },
    "collapsed": false,
    "deletable": true,
    "editable": true
   },
   "outputs": [
    {
     "data": {
      "text/html": [
       "<div>\n",
       "<table border=\"1\" class=\"dataframe\">\n",
       "  <thead>\n",
       "    <tr style=\"text-align: right;\">\n",
       "      <th></th>\n",
       "      <th>year</th>\n",
       "      <th>quarter</th>\n",
       "      <th>generation (MWh)</th>\n",
       "      <th>final CO2 (kg)</th>\n",
       "      <th>index (g/kWh)</th>\n",
       "      <th>year_quarter</th>\n",
       "      <th>change since 2005</th>\n",
       "      <th>index (lb/MWh)</th>\n",
       "    </tr>\n",
       "  </thead>\n",
       "  <tbody>\n",
       "    <tr>\n",
       "      <th>59</th>\n",
       "      <td>2015</td>\n",
       "      <td>4</td>\n",
       "      <td>9.402859e+08</td>\n",
       "      <td>4.234998e+11</td>\n",
       "      <td>450.394729</td>\n",
       "      <td>2015 Q4</td>\n",
       "      <td>-0.250281</td>\n",
       "      <td>992.940220</td>\n",
       "    </tr>\n",
       "    <tr>\n",
       "      <th>60</th>\n",
       "      <td>2016</td>\n",
       "      <td>1</td>\n",
       "      <td>9.742390e+08</td>\n",
       "      <td>4.186768e+11</td>\n",
       "      <td>429.747480</td>\n",
       "      <td>2016 Q1</td>\n",
       "      <td>-0.284650</td>\n",
       "      <td>947.421294</td>\n",
       "    </tr>\n",
       "    <tr>\n",
       "      <th>61</th>\n",
       "      <td>2016</td>\n",
       "      <td>2</td>\n",
       "      <td>9.840972e+08</td>\n",
       "      <td>4.274216e+11</td>\n",
       "      <td>434.328645</td>\n",
       "      <td>2016 Q2</td>\n",
       "      <td>-0.277025</td>\n",
       "      <td>957.520930</td>\n",
       "    </tr>\n",
       "    <tr>\n",
       "      <th>62</th>\n",
       "      <td>2016</td>\n",
       "      <td>3</td>\n",
       "      <td>1.180191e+09</td>\n",
       "      <td>5.866387e+11</td>\n",
       "      <td>497.070992</td>\n",
       "      <td>2016 Q3</td>\n",
       "      <td>-0.172585</td>\n",
       "      <td>1095.842710</td>\n",
       "    </tr>\n",
       "    <tr>\n",
       "      <th>63</th>\n",
       "      <td>2016</td>\n",
       "      <td>4</td>\n",
       "      <td>9.596097e+08</td>\n",
       "      <td>4.355918e+11</td>\n",
       "      <td>453.926031</td>\n",
       "      <td>2016 Q4</td>\n",
       "      <td>-0.244403</td>\n",
       "      <td>1000.725328</td>\n",
       "    </tr>\n",
       "  </tbody>\n",
       "</table>\n",
       "</div>"
      ],
      "text/plain": [
       "    year  quarter  generation (MWh)  final CO2 (kg)  index (g/kWh)  \\\n",
       "59  2015        4      9.402859e+08    4.234998e+11     450.394729   \n",
       "60  2016        1      9.742390e+08    4.186768e+11     429.747480   \n",
       "61  2016        2      9.840972e+08    4.274216e+11     434.328645   \n",
       "62  2016        3      1.180191e+09    5.866387e+11     497.070992   \n",
       "63  2016        4      9.596097e+08    4.355918e+11     453.926031   \n",
       "\n",
       "   year_quarter  change since 2005  index (lb/MWh)  \n",
       "59      2015 Q4          -0.250281      992.940220  \n",
       "60      2016 Q1          -0.284650      947.421294  \n",
       "61      2016 Q2          -0.277025      957.520930  \n",
       "62      2016 Q3          -0.172585     1095.842710  \n",
       "63      2016 Q4          -0.244403     1000.725328  "
      ]
     },
     "execution_count": 37,
     "metadata": {},
     "output_type": "execute_result"
    }
   ],
   "source": [
    "quarterly_index.tail()"
   ]
  },
  {
   "cell_type": "code",
   "execution_count": 209,
   "metadata": {
    "ExecuteTime": {
     "end_time": "2017-03-15T15:33:12.769000",
     "start_time": "2017-03-15T15:33:12.747000"
    },
    "collapsed": true,
    "deletable": true,
    "editable": true
   },
   "outputs": [],
   "source": [
    "path = os.path.join('Data for plots', 'Quarterly index.csv')\n",
    "quarterly_index.to_csv(path, index=False)"
   ]
  },
  {
   "cell_type": "markdown",
   "metadata": {
    "deletable": true,
    "editable": true
   },
   "source": [
    "### Annual Index"
   ]
  },
  {
   "cell_type": "code",
   "execution_count": 38,
   "metadata": {
    "ExecuteTime": {
     "end_time": "2017-03-23T15:43:23.626000",
     "start_time": "2017-03-23T15:43:23.596000"
    },
    "collapsed": false,
    "deletable": true,
    "editable": true,
    "scrolled": false
   },
   "outputs": [
    {
     "data": {
      "text/html": [
       "<div>\n",
       "<table border=\"1\" class=\"dataframe\">\n",
       "  <thead>\n",
       "    <tr style=\"text-align: right;\">\n",
       "      <th></th>\n",
       "      <th>year</th>\n",
       "      <th>generation (MWh)</th>\n",
       "      <th>final CO2 (kg)</th>\n",
       "      <th>index (g/kWh)</th>\n",
       "      <th>change since 2005</th>\n",
       "      <th>index (lb/MWh)</th>\n",
       "    </tr>\n",
       "  </thead>\n",
       "  <tbody>\n",
       "    <tr>\n",
       "      <th>11</th>\n",
       "      <td>2012</td>\n",
       "      <td>4.047765e+09</td>\n",
       "      <td>2.084286e+12</td>\n",
       "      <td>514.922581</td>\n",
       "      <td>-0.142870</td>\n",
       "      <td>1135.198322</td>\n",
       "    </tr>\n",
       "    <tr>\n",
       "      <th>12</th>\n",
       "      <td>2013</td>\n",
       "      <td>4.065964e+09</td>\n",
       "      <td>2.102529e+12</td>\n",
       "      <td>517.104642</td>\n",
       "      <td>-0.139237</td>\n",
       "      <td>1140.008893</td>\n",
       "    </tr>\n",
       "    <tr>\n",
       "      <th>13</th>\n",
       "      <td>2014</td>\n",
       "      <td>4.104839e+09</td>\n",
       "      <td>2.098239e+12</td>\n",
       "      <td>511.162336</td>\n",
       "      <td>-0.149129</td>\n",
       "      <td>1126.908485</td>\n",
       "    </tr>\n",
       "    <tr>\n",
       "      <th>14</th>\n",
       "      <td>2015</td>\n",
       "      <td>4.091740e+09</td>\n",
       "      <td>1.973193e+12</td>\n",
       "      <td>482.238163</td>\n",
       "      <td>-0.197275</td>\n",
       "      <td>1063.142253</td>\n",
       "    </tr>\n",
       "    <tr>\n",
       "      <th>15</th>\n",
       "      <td>2016</td>\n",
       "      <td>4.098137e+09</td>\n",
       "      <td>1.868329e+12</td>\n",
       "      <td>455.897140</td>\n",
       "      <td>-0.241122</td>\n",
       "      <td>1005.070835</td>\n",
       "    </tr>\n",
       "  </tbody>\n",
       "</table>\n",
       "</div>"
      ],
      "text/plain": [
       "    year  generation (MWh)  final CO2 (kg)  index (g/kWh)  change since 2005  \\\n",
       "11  2012      4.047765e+09    2.084286e+12     514.922581          -0.142870   \n",
       "12  2013      4.065964e+09    2.102529e+12     517.104642          -0.139237   \n",
       "13  2014      4.104839e+09    2.098239e+12     511.162336          -0.149129   \n",
       "14  2015      4.091740e+09    1.973193e+12     482.238163          -0.197275   \n",
       "15  2016      4.098137e+09    1.868329e+12     455.897140          -0.241122   \n",
       "\n",
       "    index (lb/MWh)  \n",
       "11     1135.198322  \n",
       "12     1140.008893  \n",
       "13     1126.908485  \n",
       "14     1063.142253  \n",
       "15     1005.070835  "
      ]
     },
     "execution_count": 38,
     "metadata": {},
     "output_type": "execute_result"
    }
   ],
   "source": [
    "annual_index = quarterly_index.groupby('year')['generation (MWh)', 'final CO2 (kg)'].sum()\n",
    "annual_index.reset_index(inplace=True)\n",
    "\n",
    "annual_index['index (g/kWh)'] = annual_index.loc[:, 'final CO2 (kg)'] / annual_index.loc[:, 'generation (MWh)']\n",
    "\n",
    "change_since_2005(annual_index)\n",
    "g2lb(annual_index)\n",
    "\n",
    "annual_index.tail()"
   ]
  },
  {
   "cell_type": "code",
   "execution_count": 211,
   "metadata": {
    "ExecuteTime": {
     "end_time": "2017-03-15T15:33:24.543000",
     "start_time": "2017-03-15T15:33:24.531000"
    },
    "collapsed": true,
    "deletable": true,
    "editable": true
   },
   "outputs": [],
   "source": [
    "path = os.path.join('Data for plots', 'Annual index.csv')\n",
    "annual_index.to_csv(path, index=False)"
   ]
  },
  {
   "cell_type": "markdown",
   "metadata": {},
   "source": [
    "#### Export to Excel file"
   ]
  },
  {
   "cell_type": "code",
   "execution_count": 41,
   "metadata": {
    "ExecuteTime": {
     "end_time": "2017-03-23T15:46:12.813000",
     "start_time": "2017-03-23T15:46:12.808000"
    },
    "collapsed": false
   },
   "outputs": [
    {
     "data": {
      "text/plain": [
       "'Us Power Sector Co2 Emissions Intensity'"
      ]
     },
     "execution_count": 41,
     "metadata": {},
     "output_type": "execute_result"
    }
   ],
   "source": [
    "'US POWER SECTOR CO2 EMISSIONS INTENSITY'.title()"
   ]
  },
  {
   "cell_type": "code",
   "execution_count": 44,
   "metadata": {
    "ExecuteTime": {
     "end_time": "2017-03-23T15:53:01.533000",
     "start_time": "2017-03-23T15:53:01.361000"
    },
    "collapsed": true
   },
   "outputs": [],
   "source": [
    "path = os.path.join('..', 'Calculated values', 'US Power Sector CO2 Emissions Intensity.xlsx')\n",
    "writer = pd.ExcelWriter(path)\n",
    "\n",
    "monthly_index.to_excel(writer, sheet_name='Monthly', index=False)\n",
    "quarterly_index.to_excel(writer, sheet_name='Quarterly', index=False)\n",
    "annual_index.to_excel(writer, sheet_name='Annual', index=False)\n",
    "writer.save()"
   ]
  },
  {
   "cell_type": "markdown",
   "metadata": {
    "deletable": true,
    "editable": true
   },
   "source": [
    "## Generation by fuel"
   ]
  },
  {
   "cell_type": "code",
   "execution_count": 46,
   "metadata": {
    "ExecuteTime": {
     "end_time": "2017-03-23T15:55:03.259000",
     "start_time": "2017-03-23T15:55:03.253000"
    },
    "collapsed": false,
    "deletable": true,
    "editable": true
   },
   "outputs": [],
   "source": [
    "fuel_cats = {'Coal' : [u'COW'], \n",
    "             'Natural Gas' : [u'NG'],\n",
    "             'Nuclear' : ['NUC'],\n",
    "             'Renewables' : [u'GEO', u'HYC', u'SUN', 'DPV', \n",
    "                             u'WAS', u'WND', u'WWW'],\n",
    "             'Other' : [u'OOG', u'PC', u'PEL', u'OTH', u'HPS']\n",
    "             }\n",
    "keep_types = [u'WWW', u'WND', u'WAS', u'SUN', 'DPV', u'NUC', u'NG',\n",
    "       u'PEL', u'PC', u'OTH', u'COW', u'OOG', u'HPS', u'HYC', u'GEO']"
   ]
  },
  {
   "cell_type": "code",
   "execution_count": 94,
   "metadata": {
    "ExecuteTime": {
     "end_time": "2017-03-23T22:32:02.966000",
     "start_time": "2017-03-23T22:32:02.895000"
    },
    "collapsed": false,
    "deletable": true,
    "editable": true
   },
   "outputs": [],
   "source": [
    "eia_gen_monthly = eia_total.loc[eia_total['type'].isin(keep_types)].groupby(['type', 'year', 'month']).sum()\n",
    "eia_gen_monthly.reset_index(inplace=True)\n",
    "eia_gen_monthly.drop(['end', 'sector', 'start'], inplace=True, axis=1)\n",
    "\n",
    "for key, values in fuel_cats.iteritems():\n",
    "    eia_gen_monthly.loc[eia_gen_monthly['type'].isin(values),'fuel category'] = key\n",
    "\n",
    "eia_gen_monthly = eia_gen_monthly.groupby(['fuel category', 'year', 'month']).sum()\n",
    "eia_gen_monthly.reset_index(inplace=True)  \n",
    "\n",
    "add_quarter(eia_gen_monthly)\n",
    "\n",
    "eia_gen_quarterly = eia_gen_monthly.groupby(['fuel category', 'year', 'quarter']).sum()\n",
    "eia_gen_quarterly.reset_index(inplace=True)\n",
    "eia_gen_quarterly['year_quarter'] = (eia_gen_quarterly['year'].astype(str) + \n",
    "                                     ' Q' + eia_gen_quarterly['quarter'].astype(str))\n",
    "eia_gen_quarterly.drop('month', axis=1, inplace=True)\n",
    "\n",
    "eia_gen_annual = eia_gen_monthly.groupby(['fuel category', 'year']).sum()\n",
    "eia_gen_annual.reset_index(inplace=True)\n",
    "eia_gen_annual.drop(['month', 'quarter'], axis=1, inplace=True)"
   ]
  },
  {
   "cell_type": "markdown",
   "metadata": {},
   "source": [
    "### A function to estimate the emissions intensity of each fuel over time, making sure that they add up to the total emissions intensity."
   ]
  },
  {
   "cell_type": "code",
   "execution_count": 95,
   "metadata": {
    "ExecuteTime": {
     "end_time": "2017-03-23T22:32:03.715000",
     "start_time": "2017-03-23T22:32:03.699000"
    },
    "collapsed": false,
    "deletable": true,
    "editable": true
   },
   "outputs": [],
   "source": [
    "def generation_index(gen_df, index_df, group_by='year'):\n",
    "    \"\"\"\n",
    "    Calculate the emissions intensity of each fuel in each time period. Use the\n",
    "    adjusted total emissions from the index dataframe to ensure that the weighted\n",
    "    sum of fuel emission intensities will equal the total index value.\n",
    "    \"\"\"\n",
    "    final_adj_co2 = index_df.loc[:,'final CO2 (kg)'].copy()\n",
    "    \n",
    "    calc_total_co2 = gen_df.groupby(group_by)['elec fuel CO2 (kg)'].sum().values\n",
    "#     calc_total_co2 = calc_total_co2.reset_index()\n",
    "    \n",
    "    \n",
    "    for fuel in gen_df['fuel category'].unique():\n",
    "        gen_df.loc[gen_df['fuel category']==fuel, 'adjusted CO2 (kg)'] = (gen_df.loc[gen_df['fuel category']==fuel, \n",
    "                                                                                     'elec fuel CO2 (kg)'] / \n",
    "                                                                           calc_total_co2 * \n",
    "                                                                           final_adj_co2.values)\n",
    "    \n",
    "    gen_df['adjusted index (g/kWh)'] = gen_df['adjusted CO2 (kg)']  /  gen_df['generation (MWh)']\n",
    "    gen_df['adjusted index (lb/MWh)'] = gen_df['adjusted index (g/kWh)'] * 2.2046\n",
    "        \n",
    "    \n",
    "    "
   ]
  },
  {
   "cell_type": "markdown",
   "metadata": {},
   "source": [
    "Apply the function above to each generation dataframe"
   ]
  },
  {
   "cell_type": "code",
   "execution_count": 96,
   "metadata": {
    "ExecuteTime": {
     "end_time": "2017-03-23T22:32:04.081000",
     "start_time": "2017-03-23T22:32:04.061000"
    },
    "collapsed": true,
    "deletable": true,
    "editable": true
   },
   "outputs": [],
   "source": [
    "generation_index(eia_gen_annual, annual_index, 'year')"
   ]
  },
  {
   "cell_type": "code",
   "execution_count": 97,
   "metadata": {
    "ExecuteTime": {
     "end_time": "2017-03-23T22:32:04.746000",
     "start_time": "2017-03-23T22:32:04.708000"
    },
    "collapsed": false,
    "deletable": true,
    "editable": true
   },
   "outputs": [],
   "source": [
    "generation_index(eia_gen_monthly, monthly_index, ['year', 'month'])"
   ]
  },
  {
   "cell_type": "code",
   "execution_count": 98,
   "metadata": {
    "ExecuteTime": {
     "end_time": "2017-03-23T22:32:04.882000",
     "start_time": "2017-03-23T22:32:04.844000"
    },
    "collapsed": false,
    "deletable": true,
    "editable": true
   },
   "outputs": [],
   "source": [
    "generation_index(eia_gen_quarterly, quarterly_index, 'year_quarter')"
   ]
  },
  {
   "cell_type": "code",
   "execution_count": 100,
   "metadata": {
    "ExecuteTime": {
     "end_time": "2017-03-23T22:32:09.312000",
     "start_time": "2017-03-23T22:32:09.286000"
    },
    "collapsed": false
   },
   "outputs": [
    {
     "data": {
      "text/html": [
       "<div>\n",
       "<table border=\"1\" class=\"dataframe\">\n",
       "  <thead>\n",
       "    <tr style=\"text-align: right;\">\n",
       "      <th></th>\n",
       "      <th>fuel category</th>\n",
       "      <th>year</th>\n",
       "      <th>generation (MWh)</th>\n",
       "      <th>total fuel (mmbtu)</th>\n",
       "      <th>elec fuel (mmbtu)</th>\n",
       "      <th>all fuel CO2 (kg)</th>\n",
       "      <th>elec fuel CO2 (kg)</th>\n",
       "      <th>adjusted CO2 (kg)</th>\n",
       "      <th>adjusted index (g/kWh)</th>\n",
       "      <th>adjusted index (lb/MWh)</th>\n",
       "    </tr>\n",
       "  </thead>\n",
       "  <tbody>\n",
       "    <tr>\n",
       "      <th>0</th>\n",
       "      <td>Coal</td>\n",
       "      <td>2001</td>\n",
       "      <td>1.903956e+09</td>\n",
       "      <td>2.023230e+10</td>\n",
       "      <td>1.978945e+10</td>\n",
       "      <td>1.927126e+12</td>\n",
       "      <td>1.884945e+12</td>\n",
       "      <td>1.926002e+12</td>\n",
       "      <td>1011.578855</td>\n",
       "      <td>2230.126744</td>\n",
       "    </tr>\n",
       "    <tr>\n",
       "      <th>1</th>\n",
       "      <td>Coal</td>\n",
       "      <td>2002</td>\n",
       "      <td>1.933130e+09</td>\n",
       "      <td>2.041797e+10</td>\n",
       "      <td>1.999689e+10</td>\n",
       "      <td>1.944812e+12</td>\n",
       "      <td>1.904704e+12</td>\n",
       "      <td>1.957361e+12</td>\n",
       "      <td>1012.534282</td>\n",
       "      <td>2232.233077</td>\n",
       "    </tr>\n",
       "    <tr>\n",
       "      <th>2</th>\n",
       "      <td>Coal</td>\n",
       "      <td>2003</td>\n",
       "      <td>1.973737e+09</td>\n",
       "      <td>2.078358e+10</td>\n",
       "      <td>2.036688e+10</td>\n",
       "      <td>1.979636e+12</td>\n",
       "      <td>1.939945e+12</td>\n",
       "      <td>1.991106e+12</td>\n",
       "      <td>1008.800426</td>\n",
       "      <td>2224.001420</td>\n",
       "    </tr>\n",
       "    <tr>\n",
       "      <th>3</th>\n",
       "      <td>Coal</td>\n",
       "      <td>2004</td>\n",
       "      <td>1.978301e+09</td>\n",
       "      <td>2.094025e+10</td>\n",
       "      <td>2.037575e+10</td>\n",
       "      <td>1.994559e+12</td>\n",
       "      <td>1.940790e+12</td>\n",
       "      <td>1.974951e+12</td>\n",
       "      <td>998.306910</td>\n",
       "      <td>2200.867414</td>\n",
       "    </tr>\n",
       "    <tr>\n",
       "      <th>4</th>\n",
       "      <td>Coal</td>\n",
       "      <td>2005</td>\n",
       "      <td>2.012873e+09</td>\n",
       "      <td>2.135038e+10</td>\n",
       "      <td>2.080172e+10</td>\n",
       "      <td>2.033624e+12</td>\n",
       "      <td>1.981363e+12</td>\n",
       "      <td>2.000007e+12</td>\n",
       "      <td>993.608155</td>\n",
       "      <td>2190.508538</td>\n",
       "    </tr>\n",
       "  </tbody>\n",
       "</table>\n",
       "</div>"
      ],
      "text/plain": [
       "  fuel category  year  generation (MWh)  total fuel (mmbtu)  \\\n",
       "0          Coal  2001      1.903956e+09        2.023230e+10   \n",
       "1          Coal  2002      1.933130e+09        2.041797e+10   \n",
       "2          Coal  2003      1.973737e+09        2.078358e+10   \n",
       "3          Coal  2004      1.978301e+09        2.094025e+10   \n",
       "4          Coal  2005      2.012873e+09        2.135038e+10   \n",
       "\n",
       "   elec fuel (mmbtu)  all fuel CO2 (kg)  elec fuel CO2 (kg)  \\\n",
       "0       1.978945e+10       1.927126e+12        1.884945e+12   \n",
       "1       1.999689e+10       1.944812e+12        1.904704e+12   \n",
       "2       2.036688e+10       1.979636e+12        1.939945e+12   \n",
       "3       2.037575e+10       1.994559e+12        1.940790e+12   \n",
       "4       2.080172e+10       2.033624e+12        1.981363e+12   \n",
       "\n",
       "   adjusted CO2 (kg)  adjusted index (g/kWh)  adjusted index (lb/MWh)  \n",
       "0       1.926002e+12             1011.578855              2230.126744  \n",
       "1       1.957361e+12             1012.534282              2232.233077  \n",
       "2       1.991106e+12             1008.800426              2224.001420  \n",
       "3       1.974951e+12              998.306910              2200.867414  \n",
       "4       2.000007e+12              993.608155              2190.508538  "
      ]
     },
     "execution_count": 100,
     "metadata": {},
     "output_type": "execute_result"
    }
   ],
   "source": [
    "eia_gen_annual.head()"
   ]
  },
  {
   "cell_type": "markdown",
   "metadata": {},
   "source": [
    "#### Export files"
   ]
  },
  {
   "cell_type": "code",
   "execution_count": null,
   "metadata": {
    "ExecuteTime": {
     "end_time": "2017-03-15T15:33:56.189000",
     "start_time": "2017-03-15T15:33:56.168000"
    },
    "collapsed": true,
    "deletable": true,
    "editable": true
   },
   "outputs": [],
   "source": [
    "path = os.path.join('Data for plots', 'Monthly generation.csv')\n",
    "eia_gen_monthly.to_csv(path, index=False)"
   ]
  },
  {
   "cell_type": "code",
   "execution_count": 219,
   "metadata": {
    "ExecuteTime": {
     "end_time": "2017-03-15T15:33:56.676000",
     "start_time": "2017-03-15T15:33:56.642000"
    },
    "collapsed": true,
    "deletable": true,
    "editable": true
   },
   "outputs": [],
   "source": [
    "path = os.path.join('Data for plots', 'Quarterly generation.csv')\n",
    "eia_gen_quarterly.to_csv(path, index=False)"
   ]
  },
  {
   "cell_type": "code",
   "execution_count": 220,
   "metadata": {
    "ExecuteTime": {
     "end_time": "2017-03-15T15:33:56.981000",
     "start_time": "2017-03-15T15:33:56.976000"
    },
    "collapsed": true,
    "deletable": true,
    "editable": true
   },
   "outputs": [],
   "source": [
    "path = os.path.join('Data for plots', 'Annual generation.csv')\n",
    "eia_gen_annual.to_csv(path, index=False)"
   ]
  },
  {
   "cell_type": "markdown",
   "metadata": {
    "deletable": true,
    "editable": true
   },
   "source": [
    "#### Export to Excel file"
   ]
  },
  {
   "cell_type": "code",
   "execution_count": 75,
   "metadata": {
    "ExecuteTime": {
     "end_time": "2017-03-23T18:06:59.123000",
     "start_time": "2017-03-23T18:06:58.376000"
    },
    "collapsed": false,
    "deletable": true,
    "editable": true
   },
   "outputs": [],
   "source": [
    "path = os.path.join('..', 'Calculated values', 'US Generation By Fuel Type.xlsx')\n",
    "writer = pd.ExcelWriter(path, engine='xlsxwriter')\n",
    "\n",
    "eia_gen_monthly.to_excel(writer, sheet_name='Monthly', index=False)\n",
    "\n",
    "eia_gen_quarterly.to_excel(writer, sheet_name='Quarterly', index=False)\n",
    "\n",
    "eia_gen_annual.to_excel(writer, sheet_name='Annual', index=False)\n",
    "writer.save()"
   ]
  }
 ],
 "metadata": {
  "_draft": {
   "nbviewer_url": "https://gist.github.com/115df6626a90662795ac75a00d95a103"
  },
  "anaconda-cloud": {},
  "gist": {
   "data": {
    "description": "Initial index and generation plots",
    "public": false
   },
   "id": "115df6626a90662795ac75a00d95a103"
  },
  "kernelspec": {
   "display_name": "Python [conda root]",
   "language": "python",
   "name": "conda-root-py"
  },
  "language_info": {
   "codemirror_mode": {
    "name": "ipython",
    "version": 2
   },
   "file_extension": ".py",
   "mimetype": "text/x-python",
   "name": "python",
   "nbconvert_exporter": "python",
   "pygments_lexer": "ipython2",
   "version": "2.7.12"
  }
 },
 "nbformat": 4,
 "nbformat_minor": 1
}

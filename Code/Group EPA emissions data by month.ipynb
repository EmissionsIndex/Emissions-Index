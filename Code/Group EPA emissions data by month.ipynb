{
 "cells": [
  {
   "cell_type": "markdown",
   "metadata": {},
   "source": [
    "# Compile EPA emissions data\n",
    "Convert the data from hourly to monthly and export all years as a single file."
   ]
  },
  {
   "cell_type": "code",
   "execution_count": 1,
   "metadata": {
    "ExecuteTime": {
     "end_time": "2017-03-15T12:21:14.677000",
     "start_time": "2017-03-15T12:21:13.652000"
    },
    "collapsed": true,
    "deletable": true,
    "editable": true
   },
   "outputs": [],
   "source": [
    "%matplotlib inline\n",
    "import pandas as pd\n",
    "import numpy as np\n",
    "import matplotlib.pyplot as plt\n",
    "import seaborn as sns\n",
    "import os\n",
    "from scripts import import_group_epa, unit_conversion\n",
    "from joblib import Parallel, delayed"
   ]
  },
  {
   "cell_type": "code",
   "execution_count": 6,
   "metadata": {
    "ExecuteTime": {
     "end_time": "2017-03-15T14:42:00.093000",
     "start_time": "2017-03-15T13:50:59.107000"
    },
    "collapsed": true,
    "deletable": true,
    "editable": true
   },
   "outputs": [],
   "source": [
    "if __name__ == '__main__':\n",
    "    base_path = os.path.join('Clean data', 'EPA emissions')\n",
    "    paths = [os.path.join(base_path, 'EPA emissions ' + str(year) + '.csv') for year in range(2001, 2017)]\n",
    "    \n",
    "    df_list = Parallel(n_jobs=-1)(delayed(import_group_epa)(path) for path in paths)"
   ]
  },
  {
   "cell_type": "code",
   "execution_count": 7,
   "metadata": {
    "ExecuteTime": {
     "end_time": "2017-03-15T14:56:54.117000",
     "start_time": "2017-03-15T14:56:53.062000"
    },
    "collapsed": true,
    "deletable": true,
    "editable": true
   },
   "outputs": [],
   "source": [
    "df = pd.concat(df_list)"
   ]
  },
  {
   "cell_type": "code",
   "execution_count": 8,
   "metadata": {
    "ExecuteTime": {
     "end_time": "2017-03-15T14:56:56.517000",
     "start_time": "2017-03-15T14:56:55.948000"
    },
    "collapsed": false,
    "deletable": true,
    "editable": true
   },
   "outputs": [
    {
     "data": {
      "text/html": [
       "<div>\n",
       "<table border=\"1\" class=\"dataframe\">\n",
       "  <thead>\n",
       "    <tr style=\"text-align: right;\">\n",
       "      <th></th>\n",
       "      <th>CO2_MASS (kg)</th>\n",
       "      <th>GLOAD (MW)</th>\n",
       "      <th>HEAT_INPUT (mmBtu)</th>\n",
       "      <th>MONTH</th>\n",
       "      <th>OP_TIME</th>\n",
       "      <th>ORISPL_CODE</th>\n",
       "      <th>SLOAD (1000lb/hr)</th>\n",
       "      <th>YEAR</th>\n",
       "    </tr>\n",
       "  </thead>\n",
       "  <tbody>\n",
       "    <tr>\n",
       "      <th>0</th>\n",
       "      <td>9.625411e+08</td>\n",
       "      <td>1167596.0</td>\n",
       "      <td>1.113000e+07</td>\n",
       "      <td>1</td>\n",
       "      <td>4348.25</td>\n",
       "      <td>3</td>\n",
       "      <td>NaN</td>\n",
       "      <td>2001</td>\n",
       "    </tr>\n",
       "    <tr>\n",
       "      <th>1</th>\n",
       "      <td>8.208495e+08</td>\n",
       "      <td>880517.0</td>\n",
       "      <td>8.951275e+06</td>\n",
       "      <td>2</td>\n",
       "      <td>3391.00</td>\n",
       "      <td>3</td>\n",
       "      <td>NaN</td>\n",
       "      <td>2001</td>\n",
       "    </tr>\n",
       "    <tr>\n",
       "      <th>2</th>\n",
       "      <td>6.402928e+08</td>\n",
       "      <td>735523.0</td>\n",
       "      <td>7.175850e+06</td>\n",
       "      <td>3</td>\n",
       "      <td>3846.50</td>\n",
       "      <td>3</td>\n",
       "      <td>NaN</td>\n",
       "      <td>2001</td>\n",
       "    </tr>\n",
       "    <tr>\n",
       "      <th>3</th>\n",
       "      <td>7.417879e+08</td>\n",
       "      <td>898023.0</td>\n",
       "      <td>8.519262e+06</td>\n",
       "      <td>4</td>\n",
       "      <td>4292.75</td>\n",
       "      <td>3</td>\n",
       "      <td>NaN</td>\n",
       "      <td>2001</td>\n",
       "    </tr>\n",
       "    <tr>\n",
       "      <th>4</th>\n",
       "      <td>9.767243e+08</td>\n",
       "      <td>1230441.0</td>\n",
       "      <td>1.138663e+07</td>\n",
       "      <td>5</td>\n",
       "      <td>5029.75</td>\n",
       "      <td>3</td>\n",
       "      <td>NaN</td>\n",
       "      <td>2001</td>\n",
       "    </tr>\n",
       "  </tbody>\n",
       "</table>\n",
       "</div>"
      ],
      "text/plain": [
       "   CO2_MASS (kg)  GLOAD (MW)  HEAT_INPUT (mmBtu)  MONTH  OP_TIME  ORISPL_CODE  \\\n",
       "0   9.625411e+08   1167596.0        1.113000e+07      1  4348.25            3   \n",
       "1   8.208495e+08    880517.0        8.951275e+06      2  3391.00            3   \n",
       "2   6.402928e+08    735523.0        7.175850e+06      3  3846.50            3   \n",
       "3   7.417879e+08    898023.0        8.519262e+06      4  4292.75            3   \n",
       "4   9.767243e+08   1230441.0        1.138663e+07      5  5029.75            3   \n",
       "\n",
       "   SLOAD (1000lb/hr)  YEAR  \n",
       "0                NaN  2001  \n",
       "1                NaN  2001  \n",
       "2                NaN  2001  \n",
       "3                NaN  2001  \n",
       "4                NaN  2001  "
      ]
     },
     "execution_count": 8,
     "metadata": {},
     "output_type": "execute_result"
    }
   ],
   "source": [
    "df.head()"
   ]
  },
  {
   "cell_type": "code",
   "execution_count": 9,
   "metadata": {
    "ExecuteTime": {
     "end_time": "2017-03-15T14:56:57.606000",
     "start_time": "2017-03-15T14:56:57.461000"
    },
    "collapsed": false,
    "deletable": true,
    "editable": true
   },
   "outputs": [
    {
     "data": {
      "text/html": [
       "<div>\n",
       "<table border=\"1\" class=\"dataframe\">\n",
       "  <thead>\n",
       "    <tr style=\"text-align: right;\">\n",
       "      <th></th>\n",
       "      <th>CO2_MASS (kg)</th>\n",
       "      <th>GLOAD (MW)</th>\n",
       "      <th>HEAT_INPUT (mmBtu)</th>\n",
       "      <th>MONTH</th>\n",
       "      <th>OP_TIME</th>\n",
       "      <th>ORISPL_CODE</th>\n",
       "      <th>SLOAD (1000lb/hr)</th>\n",
       "      <th>YEAR</th>\n",
       "    </tr>\n",
       "  </thead>\n",
       "  <tbody>\n",
       "    <tr>\n",
       "      <th>16834</th>\n",
       "      <td>NaN</td>\n",
       "      <td>NaN</td>\n",
       "      <td>200880.000</td>\n",
       "      <td>8</td>\n",
       "      <td>744.00</td>\n",
       "      <td>880101</td>\n",
       "      <td>148800.0</td>\n",
       "      <td>2016</td>\n",
       "    </tr>\n",
       "    <tr>\n",
       "      <th>16835</th>\n",
       "      <td>NaN</td>\n",
       "      <td>NaN</td>\n",
       "      <td>194400.000</td>\n",
       "      <td>9</td>\n",
       "      <td>720.00</td>\n",
       "      <td>880101</td>\n",
       "      <td>144000.0</td>\n",
       "      <td>2016</td>\n",
       "    </tr>\n",
       "    <tr>\n",
       "      <th>16836</th>\n",
       "      <td>NaN</td>\n",
       "      <td>NaN</td>\n",
       "      <td>204042.596</td>\n",
       "      <td>10</td>\n",
       "      <td>1033.20</td>\n",
       "      <td>880107</td>\n",
       "      <td>140575.0</td>\n",
       "      <td>2016</td>\n",
       "    </tr>\n",
       "    <tr>\n",
       "      <th>16837</th>\n",
       "      <td>NaN</td>\n",
       "      <td>NaN</td>\n",
       "      <td>211593.368</td>\n",
       "      <td>11</td>\n",
       "      <td>1092.96</td>\n",
       "      <td>880107</td>\n",
       "      <td>137779.0</td>\n",
       "      <td>2016</td>\n",
       "    </tr>\n",
       "    <tr>\n",
       "      <th>16838</th>\n",
       "      <td>NaN</td>\n",
       "      <td>NaN</td>\n",
       "      <td>337872.708</td>\n",
       "      <td>12</td>\n",
       "      <td>1492.09</td>\n",
       "      <td>880107</td>\n",
       "      <td>230323.0</td>\n",
       "      <td>2016</td>\n",
       "    </tr>\n",
       "  </tbody>\n",
       "</table>\n",
       "</div>"
      ],
      "text/plain": [
       "       CO2_MASS (kg)  GLOAD (MW)  HEAT_INPUT (mmBtu)  MONTH  OP_TIME  \\\n",
       "16834            NaN         NaN          200880.000      8   744.00   \n",
       "16835            NaN         NaN          194400.000      9   720.00   \n",
       "16836            NaN         NaN          204042.596     10  1033.20   \n",
       "16837            NaN         NaN          211593.368     11  1092.96   \n",
       "16838            NaN         NaN          337872.708     12  1492.09   \n",
       "\n",
       "       ORISPL_CODE  SLOAD (1000lb/hr)  YEAR  \n",
       "16834       880101           148800.0  2016  \n",
       "16835       880101           144000.0  2016  \n",
       "16836       880107           140575.0  2016  \n",
       "16837       880107           137779.0  2016  \n",
       "16838       880107           230323.0  2016  "
      ]
     },
     "execution_count": 9,
     "metadata": {},
     "output_type": "execute_result"
    }
   ],
   "source": [
    "df.tail()"
   ]
  },
  {
   "cell_type": "code",
   "execution_count": 10,
   "metadata": {
    "ExecuteTime": {
     "end_time": "2017-03-15T14:57:13.961000",
     "start_time": "2017-03-15T14:57:12.029000"
    },
    "collapsed": true,
    "deletable": true,
    "editable": true
   },
   "outputs": [],
   "source": [
    "path = os.path.join('Clean data', 'Monthly EPA emissions.csv')\n",
    "df.to_csv(path, index=False)"
   ]
  }
 ],
 "metadata": {
  "kernelspec": {
   "display_name": "Python [conda root]",
   "language": "python",
   "name": "conda-root-py"
  },
  "language_info": {
   "codemirror_mode": {
    "name": "ipython",
    "version": 2
   },
   "file_extension": ".py",
   "mimetype": "text/x-python",
   "name": "python",
   "nbconvert_exporter": "python",
   "pygments_lexer": "ipython2",
   "version": "2.7.12"
  }
 },
 "nbformat": 4,
 "nbformat_minor": 1
}

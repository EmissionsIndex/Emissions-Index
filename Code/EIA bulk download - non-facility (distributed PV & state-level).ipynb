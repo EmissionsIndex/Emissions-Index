{
 "cells": [
  {
   "cell_type": "markdown",
   "metadata": {
    "deletable": true,
    "editable": true
   },
   "source": [
    "# National generation and fuel consumption\n",
    "The data in this notebook is generation and consumption by fuel type for the entire US. These values are larger than what would be calculated by summing facility-level data. Note that the fuel types are somewhat aggregated (coal rather than BIT, SUB, LIG, etc). So when we multiply the fuel consumption by an emissions factor there will be some level of error.\n",
    "\n",
    "The code assumes that you have already downloaded an `ELEC.txt` file from [EIA's bulk download website](https://www.eia.gov/opendata/bulkfiles.php)."
   ]
  },
  {
   "cell_type": "code",
   "execution_count": 2,
   "metadata": {
    "ExecuteTime": {
     "end_time": "2017-03-15T15:28:18.621000",
     "start_time": "2017-03-15T15:28:17.612000"
    },
    "collapsed": true,
    "deletable": true,
    "editable": true
   },
   "outputs": [],
   "source": [
    "%matplotlib inline\n",
    "import matplotlib.pyplot as plt\n",
    "import seaborn as sns\n",
    "import io, time, json\n",
    "import pandas as pd\n",
    "import os\n",
    "import numpy as np\n",
    "import math"
   ]
  },
  {
   "cell_type": "markdown",
   "metadata": {
    "deletable": true,
    "editable": true
   },
   "source": [
    "## Read ELECT.txt file"
   ]
  },
  {
   "cell_type": "code",
   "execution_count": 3,
   "metadata": {
    "ExecuteTime": {
     "end_time": "2017-03-15T15:28:22.795000",
     "start_time": "2017-03-15T15:28:19.791000"
    },
    "collapsed": false,
    "deletable": true,
    "editable": true
   },
   "outputs": [],
   "source": [
    "path = os.path.join('Raw data', 'Electricity data', '2017-03-15 ELEC.txt')\n",
    "with open(path, 'rb') as f:\n",
    "    raw_txt = f.readlines()"
   ]
  },
  {
   "cell_type": "markdown",
   "metadata": {
    "deletable": true,
    "editable": true
   },
   "source": [
    "## Filter lines to only include total generation and fuel use\n",
    "Only want monthly US data for all sectors\n",
    "- US-99.M\n",
    "- ELEC.GEN, ELEC.CONS_TOT_BTU, ELEC.CONS_EG_BTU\n",
    "- not ALL"
   ]
  },
  {
   "cell_type": "markdown",
   "metadata": {
    "deletable": true,
    "editable": true
   },
   "source": [
    "Fuel codes:\n",
    "- WWW, wood and wood derived fuels\n",
    "- WND, wind\n",
    "- STH, solar thermal\n",
    "- WAS, other biomass\n",
    "- TSN, all solar\n",
    "- SUN, utility-scale solar\n",
    "- NUC, nuclear\n",
    "- NG, natural gas\n",
    "- PEL, petroleum liquids\n",
    "- SPV, utility-scale solar photovoltaic\n",
    "- PC, petroluem coke\n",
    "- OTH, other\n",
    "- COW, coal,\n",
    "- DPV, distributed photovoltaic\n",
    "- OOG, other gases\n",
    "- HPS, hydro pumped storage\n",
    "- HYC, conventional hydroelectric\n",
    "- GEO, geothermal\n",
    "- AOR, other renewables (total)"
   ]
  },
  {
   "cell_type": "code",
   "execution_count": 4,
   "metadata": {
    "ExecuteTime": {
     "end_time": "2017-03-15T15:28:24.080000",
     "start_time": "2017-03-15T15:28:24.062000"
    },
    "collapsed": true,
    "deletable": true,
    "editable": true
   },
   "outputs": [],
   "source": [
    "def line_to_df(line):\n",
    "    \"\"\"\n",
    "    Takes in a line (dictionary), returns a dataframe\n",
    "    \"\"\"\n",
    "    for key in ['latlon', 'source', 'copyright', 'description', \n",
    "                'geoset_id', 'iso3166', 'name', 'state']:\n",
    "        line.pop(key, None)\n",
    "\n",
    "    # Split the series_id up to extract information\n",
    "    # Example: ELEC.PLANT.GEN.388-WAT-ALL.M\n",
    "    series_id = line['series_id']\n",
    "    series_id_list = series_id.split('.')\n",
    "    # Use the second to last item in list rather than third\n",
    "    plant_fuel_mover = series_id_list[-2].split('-')\n",
    "    line['type'] = plant_fuel_mover[0]\n",
    "#     line['state'] = plant_fuel_mover[1]\n",
    "    line['sector'] = plant_fuel_mover[2]\n",
    "    temp_df = pd.DataFrame(line)\n",
    "\n",
    "    try:\n",
    "        temp_df['year'] = temp_df.apply(lambda x: x['data'][0][:4], axis=1).astype(int)\n",
    "        temp_df['month'] = temp_df.apply(lambda x: x['data'][0][-2:], axis=1).astype(int)\n",
    "        temp_df['value'] = temp_df.apply(lambda x: x['data'][1], axis=1)\n",
    "        temp_df.drop('data', axis=1, inplace=True)\n",
    "        return temp_df\n",
    "    except:\n",
    "        exception_list.append(line)\n",
    "        pass"
   ]
  },
  {
   "cell_type": "code",
   "execution_count": 5,
   "metadata": {
    "ExecuteTime": {
     "end_time": "2017-03-15T15:28:26.182000",
     "start_time": "2017-03-15T15:28:24.581000"
    },
    "collapsed": false,
    "deletable": true,
    "editable": true
   },
   "outputs": [],
   "source": [
    "exception_list = []\n",
    "gen_rows = [row for row in raw_txt if 'ELEC.GEN' in row and 'series_id' in row and 'US-99.M' in row and 'ALL' not in row]\n",
    "total_fuel_rows = [row for row in raw_txt if 'ELEC.CONS_TOT_BTU' in row and 'series_id' in row and 'US-99.M' in row and 'ALL' not in row]\n",
    "eg_fuel_rows = [row for row in raw_txt if 'ELEC.CONS_EG_BTU' in row and 'series_id' in row and 'US-99.M' in row and 'ALL' not in row]"
   ]
  },
  {
   "cell_type": "markdown",
   "metadata": {
    "deletable": true,
    "editable": true
   },
   "source": [
    "## All generation by fuel"
   ]
  },
  {
   "cell_type": "code",
   "execution_count": 6,
   "metadata": {
    "ExecuteTime": {
     "end_time": "2017-03-15T15:28:27.620000",
     "start_time": "2017-03-15T15:28:27.141000"
    },
    "collapsed": true,
    "deletable": true,
    "editable": true
   },
   "outputs": [],
   "source": [
    "gen_df = pd.concat([line_to_df(json.loads(row)) for row in gen_rows])"
   ]
  },
  {
   "cell_type": "code",
   "execution_count": 7,
   "metadata": {
    "ExecuteTime": {
     "end_time": "2017-03-15T15:28:27.660000",
     "start_time": "2017-03-15T15:28:27.623000"
    },
    "collapsed": false,
    "deletable": true,
    "editable": true
   },
   "outputs": [
    {
     "data": {
      "text/html": [
       "<div>\n",
       "<table border=\"1\" class=\"dataframe\">\n",
       "  <thead>\n",
       "    <tr style=\"text-align: right;\">\n",
       "      <th></th>\n",
       "      <th>end</th>\n",
       "      <th>f</th>\n",
       "      <th>geography</th>\n",
       "      <th>last_updated</th>\n",
       "      <th>sector</th>\n",
       "      <th>series_id</th>\n",
       "      <th>start</th>\n",
       "      <th>type</th>\n",
       "      <th>units</th>\n",
       "      <th>year</th>\n",
       "      <th>month</th>\n",
       "      <th>value</th>\n",
       "    </tr>\n",
       "  </thead>\n",
       "  <tbody>\n",
       "    <tr>\n",
       "      <th>0</th>\n",
       "      <td>201612</td>\n",
       "      <td>M</td>\n",
       "      <td>USA</td>\n",
       "      <td>2017-03-03T09:16:27-05:00</td>\n",
       "      <td>99</td>\n",
       "      <td>ELEC.GEN.AOR-US-99.M</td>\n",
       "      <td>200101</td>\n",
       "      <td>AOR</td>\n",
       "      <td>thousand megawatthours</td>\n",
       "      <td>2016</td>\n",
       "      <td>12</td>\n",
       "      <td>32426.66031</td>\n",
       "    </tr>\n",
       "    <tr>\n",
       "      <th>1</th>\n",
       "      <td>201612</td>\n",
       "      <td>M</td>\n",
       "      <td>USA</td>\n",
       "      <td>2017-03-03T09:16:27-05:00</td>\n",
       "      <td>99</td>\n",
       "      <td>ELEC.GEN.AOR-US-99.M</td>\n",
       "      <td>200101</td>\n",
       "      <td>AOR</td>\n",
       "      <td>thousand megawatthours</td>\n",
       "      <td>2016</td>\n",
       "      <td>11</td>\n",
       "      <td>28579.08298</td>\n",
       "    </tr>\n",
       "    <tr>\n",
       "      <th>2</th>\n",
       "      <td>201612</td>\n",
       "      <td>M</td>\n",
       "      <td>USA</td>\n",
       "      <td>2017-03-03T09:16:27-05:00</td>\n",
       "      <td>99</td>\n",
       "      <td>ELEC.GEN.AOR-US-99.M</td>\n",
       "      <td>200101</td>\n",
       "      <td>AOR</td>\n",
       "      <td>thousand megawatthours</td>\n",
       "      <td>2016</td>\n",
       "      <td>10</td>\n",
       "      <td>29919.29294</td>\n",
       "    </tr>\n",
       "    <tr>\n",
       "      <th>3</th>\n",
       "      <td>201612</td>\n",
       "      <td>M</td>\n",
       "      <td>USA</td>\n",
       "      <td>2017-03-03T09:16:27-05:00</td>\n",
       "      <td>99</td>\n",
       "      <td>ELEC.GEN.AOR-US-99.M</td>\n",
       "      <td>200101</td>\n",
       "      <td>AOR</td>\n",
       "      <td>thousand megawatthours</td>\n",
       "      <td>2016</td>\n",
       "      <td>9</td>\n",
       "      <td>26695.98579</td>\n",
       "    </tr>\n",
       "    <tr>\n",
       "      <th>4</th>\n",
       "      <td>201612</td>\n",
       "      <td>M</td>\n",
       "      <td>USA</td>\n",
       "      <td>2017-03-03T09:16:27-05:00</td>\n",
       "      <td>99</td>\n",
       "      <td>ELEC.GEN.AOR-US-99.M</td>\n",
       "      <td>200101</td>\n",
       "      <td>AOR</td>\n",
       "      <td>thousand megawatthours</td>\n",
       "      <td>2016</td>\n",
       "      <td>8</td>\n",
       "      <td>24509.79210</td>\n",
       "    </tr>\n",
       "  </tbody>\n",
       "</table>\n",
       "</div>"
      ],
      "text/plain": [
       "      end  f geography               last_updated sector  \\\n",
       "0  201612  M       USA  2017-03-03T09:16:27-05:00     99   \n",
       "1  201612  M       USA  2017-03-03T09:16:27-05:00     99   \n",
       "2  201612  M       USA  2017-03-03T09:16:27-05:00     99   \n",
       "3  201612  M       USA  2017-03-03T09:16:27-05:00     99   \n",
       "4  201612  M       USA  2017-03-03T09:16:27-05:00     99   \n",
       "\n",
       "              series_id   start type                   units  year  month  \\\n",
       "0  ELEC.GEN.AOR-US-99.M  200101  AOR  thousand megawatthours  2016     12   \n",
       "1  ELEC.GEN.AOR-US-99.M  200101  AOR  thousand megawatthours  2016     11   \n",
       "2  ELEC.GEN.AOR-US-99.M  200101  AOR  thousand megawatthours  2016     10   \n",
       "3  ELEC.GEN.AOR-US-99.M  200101  AOR  thousand megawatthours  2016      9   \n",
       "4  ELEC.GEN.AOR-US-99.M  200101  AOR  thousand megawatthours  2016      8   \n",
       "\n",
       "         value  \n",
       "0  32426.66031  \n",
       "1  28579.08298  \n",
       "2  29919.29294  \n",
       "3  26695.98579  \n",
       "4  24509.79210  "
      ]
     },
     "execution_count": 7,
     "metadata": {},
     "output_type": "execute_result"
    }
   ],
   "source": [
    "#drop\n",
    "gen_df.head()"
   ]
  },
  {
   "cell_type": "markdown",
   "metadata": {
    "deletable": true,
    "editable": true
   },
   "source": [
    "Multiply generation values by 1000 and change the units to MWh"
   ]
  },
  {
   "cell_type": "code",
   "execution_count": 8,
   "metadata": {
    "ExecuteTime": {
     "end_time": "2017-03-15T15:28:29.203000",
     "start_time": "2017-03-15T15:28:29.197000"
    },
    "collapsed": true,
    "deletable": true,
    "editable": true
   },
   "outputs": [],
   "source": [
    "gen_df.loc[:,'value'] *= 1000\n",
    "gen_df.loc[:,'units'] = 'megawatthours'"
   ]
  },
  {
   "cell_type": "code",
   "execution_count": 9,
   "metadata": {
    "ExecuteTime": {
     "end_time": "2017-03-15T15:28:30.448000",
     "start_time": "2017-03-15T15:28:30.419000"
    },
    "collapsed": false,
    "deletable": true,
    "editable": true
   },
   "outputs": [],
   "source": [
    "gen_df['datetime'] = pd.to_datetime(gen_df['year'].astype(str) + '-' + gen_df['month'].astype(str), format='%Y-%m')\n",
    "gen_df['quarter'] = gen_df['datetime'].dt.quarter\n",
    "gen_df.rename_axis({'value':'generation (MWh)'}, axis=1, inplace=True)"
   ]
  },
  {
   "cell_type": "code",
   "execution_count": 10,
   "metadata": {
    "ExecuteTime": {
     "end_time": "2017-03-15T15:28:31.186000",
     "start_time": "2017-03-15T15:28:31.154000"
    },
    "collapsed": false,
    "deletable": true,
    "editable": true
   },
   "outputs": [
    {
     "data": {
      "text/html": [
       "<div>\n",
       "<table border=\"1\" class=\"dataframe\">\n",
       "  <thead>\n",
       "    <tr style=\"text-align: right;\">\n",
       "      <th></th>\n",
       "      <th>end</th>\n",
       "      <th>f</th>\n",
       "      <th>geography</th>\n",
       "      <th>last_updated</th>\n",
       "      <th>sector</th>\n",
       "      <th>series_id</th>\n",
       "      <th>start</th>\n",
       "      <th>type</th>\n",
       "      <th>units</th>\n",
       "      <th>year</th>\n",
       "      <th>month</th>\n",
       "      <th>generation (MWh)</th>\n",
       "      <th>datetime</th>\n",
       "      <th>quarter</th>\n",
       "    </tr>\n",
       "  </thead>\n",
       "  <tbody>\n",
       "    <tr>\n",
       "      <th>0</th>\n",
       "      <td>201612</td>\n",
       "      <td>M</td>\n",
       "      <td>USA</td>\n",
       "      <td>2017-03-03T09:16:27-05:00</td>\n",
       "      <td>99</td>\n",
       "      <td>ELEC.GEN.AOR-US-99.M</td>\n",
       "      <td>200101</td>\n",
       "      <td>AOR</td>\n",
       "      <td>megawatthours</td>\n",
       "      <td>2016</td>\n",
       "      <td>12</td>\n",
       "      <td>32426660.31</td>\n",
       "      <td>2016-12-01</td>\n",
       "      <td>4</td>\n",
       "    </tr>\n",
       "    <tr>\n",
       "      <th>1</th>\n",
       "      <td>201612</td>\n",
       "      <td>M</td>\n",
       "      <td>USA</td>\n",
       "      <td>2017-03-03T09:16:27-05:00</td>\n",
       "      <td>99</td>\n",
       "      <td>ELEC.GEN.AOR-US-99.M</td>\n",
       "      <td>200101</td>\n",
       "      <td>AOR</td>\n",
       "      <td>megawatthours</td>\n",
       "      <td>2016</td>\n",
       "      <td>11</td>\n",
       "      <td>28579082.98</td>\n",
       "      <td>2016-11-01</td>\n",
       "      <td>4</td>\n",
       "    </tr>\n",
       "    <tr>\n",
       "      <th>2</th>\n",
       "      <td>201612</td>\n",
       "      <td>M</td>\n",
       "      <td>USA</td>\n",
       "      <td>2017-03-03T09:16:27-05:00</td>\n",
       "      <td>99</td>\n",
       "      <td>ELEC.GEN.AOR-US-99.M</td>\n",
       "      <td>200101</td>\n",
       "      <td>AOR</td>\n",
       "      <td>megawatthours</td>\n",
       "      <td>2016</td>\n",
       "      <td>10</td>\n",
       "      <td>29919292.94</td>\n",
       "      <td>2016-10-01</td>\n",
       "      <td>4</td>\n",
       "    </tr>\n",
       "    <tr>\n",
       "      <th>3</th>\n",
       "      <td>201612</td>\n",
       "      <td>M</td>\n",
       "      <td>USA</td>\n",
       "      <td>2017-03-03T09:16:27-05:00</td>\n",
       "      <td>99</td>\n",
       "      <td>ELEC.GEN.AOR-US-99.M</td>\n",
       "      <td>200101</td>\n",
       "      <td>AOR</td>\n",
       "      <td>megawatthours</td>\n",
       "      <td>2016</td>\n",
       "      <td>9</td>\n",
       "      <td>26695985.79</td>\n",
       "      <td>2016-09-01</td>\n",
       "      <td>3</td>\n",
       "    </tr>\n",
       "    <tr>\n",
       "      <th>4</th>\n",
       "      <td>201612</td>\n",
       "      <td>M</td>\n",
       "      <td>USA</td>\n",
       "      <td>2017-03-03T09:16:27-05:00</td>\n",
       "      <td>99</td>\n",
       "      <td>ELEC.GEN.AOR-US-99.M</td>\n",
       "      <td>200101</td>\n",
       "      <td>AOR</td>\n",
       "      <td>megawatthours</td>\n",
       "      <td>2016</td>\n",
       "      <td>8</td>\n",
       "      <td>24509792.10</td>\n",
       "      <td>2016-08-01</td>\n",
       "      <td>3</td>\n",
       "    </tr>\n",
       "  </tbody>\n",
       "</table>\n",
       "</div>"
      ],
      "text/plain": [
       "      end  f geography               last_updated sector  \\\n",
       "0  201612  M       USA  2017-03-03T09:16:27-05:00     99   \n",
       "1  201612  M       USA  2017-03-03T09:16:27-05:00     99   \n",
       "2  201612  M       USA  2017-03-03T09:16:27-05:00     99   \n",
       "3  201612  M       USA  2017-03-03T09:16:27-05:00     99   \n",
       "4  201612  M       USA  2017-03-03T09:16:27-05:00     99   \n",
       "\n",
       "              series_id   start type          units  year  month  \\\n",
       "0  ELEC.GEN.AOR-US-99.M  200101  AOR  megawatthours  2016     12   \n",
       "1  ELEC.GEN.AOR-US-99.M  200101  AOR  megawatthours  2016     11   \n",
       "2  ELEC.GEN.AOR-US-99.M  200101  AOR  megawatthours  2016     10   \n",
       "3  ELEC.GEN.AOR-US-99.M  200101  AOR  megawatthours  2016      9   \n",
       "4  ELEC.GEN.AOR-US-99.M  200101  AOR  megawatthours  2016      8   \n",
       "\n",
       "   generation (MWh)   datetime  quarter  \n",
       "0       32426660.31 2016-12-01        4  \n",
       "1       28579082.98 2016-11-01        4  \n",
       "2       29919292.94 2016-10-01        4  \n",
       "3       26695985.79 2016-09-01        3  \n",
       "4       24509792.10 2016-08-01        3  "
      ]
     },
     "execution_count": 10,
     "metadata": {},
     "output_type": "execute_result"
    }
   ],
   "source": [
    "#drop\n",
    "gen_df.head()"
   ]
  },
  {
   "cell_type": "code",
   "execution_count": 11,
   "metadata": {
    "ExecuteTime": {
     "end_time": "2017-03-15T15:28:31.854000",
     "start_time": "2017-03-15T15:28:31.817000"
    },
    "collapsed": false,
    "deletable": true,
    "editable": true
   },
   "outputs": [
    {
     "data": {
      "text/html": [
       "<div>\n",
       "<table border=\"1\" class=\"dataframe\">\n",
       "  <thead>\n",
       "    <tr style=\"text-align: right;\">\n",
       "      <th></th>\n",
       "      <th>end</th>\n",
       "      <th>f</th>\n",
       "      <th>geography</th>\n",
       "      <th>last_updated</th>\n",
       "      <th>sector</th>\n",
       "      <th>series_id</th>\n",
       "      <th>start</th>\n",
       "      <th>type</th>\n",
       "      <th>units</th>\n",
       "      <th>year</th>\n",
       "      <th>month</th>\n",
       "      <th>generation (MWh)</th>\n",
       "      <th>datetime</th>\n",
       "      <th>quarter</th>\n",
       "    </tr>\n",
       "  </thead>\n",
       "  <tbody>\n",
       "    <tr>\n",
       "      <th>0</th>\n",
       "      <td>201612</td>\n",
       "      <td>M</td>\n",
       "      <td>USA</td>\n",
       "      <td>2017-03-03T09:16:27-05:00</td>\n",
       "      <td>99</td>\n",
       "      <td>ELEC.GEN.OOG-US-99.M</td>\n",
       "      <td>200101</td>\n",
       "      <td>OOG</td>\n",
       "      <td>megawatthours</td>\n",
       "      <td>2016</td>\n",
       "      <td>12</td>\n",
       "      <td>1007405.42</td>\n",
       "      <td>2016-12-01</td>\n",
       "      <td>4</td>\n",
       "    </tr>\n",
       "    <tr>\n",
       "      <th>1</th>\n",
       "      <td>201612</td>\n",
       "      <td>M</td>\n",
       "      <td>USA</td>\n",
       "      <td>2017-03-03T09:16:27-05:00</td>\n",
       "      <td>99</td>\n",
       "      <td>ELEC.GEN.OOG-US-99.M</td>\n",
       "      <td>200101</td>\n",
       "      <td>OOG</td>\n",
       "      <td>megawatthours</td>\n",
       "      <td>2016</td>\n",
       "      <td>11</td>\n",
       "      <td>1001151.99</td>\n",
       "      <td>2016-11-01</td>\n",
       "      <td>4</td>\n",
       "    </tr>\n",
       "    <tr>\n",
       "      <th>2</th>\n",
       "      <td>201612</td>\n",
       "      <td>M</td>\n",
       "      <td>USA</td>\n",
       "      <td>2017-03-03T09:16:27-05:00</td>\n",
       "      <td>99</td>\n",
       "      <td>ELEC.GEN.OOG-US-99.M</td>\n",
       "      <td>200101</td>\n",
       "      <td>OOG</td>\n",
       "      <td>megawatthours</td>\n",
       "      <td>2016</td>\n",
       "      <td>10</td>\n",
       "      <td>891165.18</td>\n",
       "      <td>2016-10-01</td>\n",
       "      <td>4</td>\n",
       "    </tr>\n",
       "    <tr>\n",
       "      <th>3</th>\n",
       "      <td>201612</td>\n",
       "      <td>M</td>\n",
       "      <td>USA</td>\n",
       "      <td>2017-03-03T09:16:27-05:00</td>\n",
       "      <td>99</td>\n",
       "      <td>ELEC.GEN.OOG-US-99.M</td>\n",
       "      <td>200101</td>\n",
       "      <td>OOG</td>\n",
       "      <td>megawatthours</td>\n",
       "      <td>2016</td>\n",
       "      <td>9</td>\n",
       "      <td>1050049.21</td>\n",
       "      <td>2016-09-01</td>\n",
       "      <td>3</td>\n",
       "    </tr>\n",
       "    <tr>\n",
       "      <th>4</th>\n",
       "      <td>201612</td>\n",
       "      <td>M</td>\n",
       "      <td>USA</td>\n",
       "      <td>2017-03-03T09:16:27-05:00</td>\n",
       "      <td>99</td>\n",
       "      <td>ELEC.GEN.OOG-US-99.M</td>\n",
       "      <td>200101</td>\n",
       "      <td>OOG</td>\n",
       "      <td>megawatthours</td>\n",
       "      <td>2016</td>\n",
       "      <td>8</td>\n",
       "      <td>1101829.28</td>\n",
       "      <td>2016-08-01</td>\n",
       "      <td>3</td>\n",
       "    </tr>\n",
       "  </tbody>\n",
       "</table>\n",
       "</div>"
      ],
      "text/plain": [
       "      end  f geography               last_updated sector  \\\n",
       "0  201612  M       USA  2017-03-03T09:16:27-05:00     99   \n",
       "1  201612  M       USA  2017-03-03T09:16:27-05:00     99   \n",
       "2  201612  M       USA  2017-03-03T09:16:27-05:00     99   \n",
       "3  201612  M       USA  2017-03-03T09:16:27-05:00     99   \n",
       "4  201612  M       USA  2017-03-03T09:16:27-05:00     99   \n",
       "\n",
       "              series_id   start type          units  year  month  \\\n",
       "0  ELEC.GEN.OOG-US-99.M  200101  OOG  megawatthours  2016     12   \n",
       "1  ELEC.GEN.OOG-US-99.M  200101  OOG  megawatthours  2016     11   \n",
       "2  ELEC.GEN.OOG-US-99.M  200101  OOG  megawatthours  2016     10   \n",
       "3  ELEC.GEN.OOG-US-99.M  200101  OOG  megawatthours  2016      9   \n",
       "4  ELEC.GEN.OOG-US-99.M  200101  OOG  megawatthours  2016      8   \n",
       "\n",
       "   generation (MWh)   datetime  quarter  \n",
       "0        1007405.42 2016-12-01        4  \n",
       "1        1001151.99 2016-11-01        4  \n",
       "2         891165.18 2016-10-01        4  \n",
       "3        1050049.21 2016-09-01        3  \n",
       "4        1101829.28 2016-08-01        3  "
      ]
     },
     "execution_count": 11,
     "metadata": {},
     "output_type": "execute_result"
    }
   ],
   "source": [
    "#drop\n",
    "gen_df.loc[gen_df['type']=='OOG'].head()"
   ]
  },
  {
   "cell_type": "markdown",
   "metadata": {
    "deletable": true,
    "editable": true
   },
   "source": [
    "## Total fuel consumption"
   ]
  },
  {
   "cell_type": "code",
   "execution_count": 12,
   "metadata": {
    "ExecuteTime": {
     "end_time": "2017-03-15T15:28:34.581000",
     "start_time": "2017-03-15T15:28:34.474000"
    },
    "collapsed": true,
    "deletable": true,
    "editable": true
   },
   "outputs": [],
   "source": [
    "total_fuel_df = pd.concat([line_to_df(json.loads(row)) for row in total_fuel_rows])"
   ]
  },
  {
   "cell_type": "code",
   "execution_count": 13,
   "metadata": {
    "ExecuteTime": {
     "end_time": "2017-03-15T15:28:37.951000",
     "start_time": "2017-03-15T15:28:37.919000"
    },
    "collapsed": false,
    "deletable": true,
    "editable": true
   },
   "outputs": [
    {
     "data": {
      "text/html": [
       "<div>\n",
       "<table border=\"1\" class=\"dataframe\">\n",
       "  <thead>\n",
       "    <tr style=\"text-align: right;\">\n",
       "      <th></th>\n",
       "      <th>end</th>\n",
       "      <th>f</th>\n",
       "      <th>geography</th>\n",
       "      <th>last_updated</th>\n",
       "      <th>sector</th>\n",
       "      <th>series_id</th>\n",
       "      <th>start</th>\n",
       "      <th>type</th>\n",
       "      <th>units</th>\n",
       "      <th>year</th>\n",
       "      <th>month</th>\n",
       "      <th>value</th>\n",
       "    </tr>\n",
       "  </thead>\n",
       "  <tbody>\n",
       "    <tr>\n",
       "      <th>0</th>\n",
       "      <td>201612</td>\n",
       "      <td>M</td>\n",
       "      <td>USA</td>\n",
       "      <td>2017-03-03T09:16:27-05:00</td>\n",
       "      <td>99</td>\n",
       "      <td>ELEC.CONS_TOT_BTU.COW-US-99.M</td>\n",
       "      <td>200101</td>\n",
       "      <td>COW</td>\n",
       "      <td>million MMBtu</td>\n",
       "      <td>2016</td>\n",
       "      <td>12</td>\n",
       "      <td>1260.87651</td>\n",
       "    </tr>\n",
       "    <tr>\n",
       "      <th>1</th>\n",
       "      <td>201612</td>\n",
       "      <td>M</td>\n",
       "      <td>USA</td>\n",
       "      <td>2017-03-03T09:16:27-05:00</td>\n",
       "      <td>99</td>\n",
       "      <td>ELEC.CONS_TOT_BTU.COW-US-99.M</td>\n",
       "      <td>200101</td>\n",
       "      <td>COW</td>\n",
       "      <td>million MMBtu</td>\n",
       "      <td>2016</td>\n",
       "      <td>11</td>\n",
       "      <td>934.68259</td>\n",
       "    </tr>\n",
       "    <tr>\n",
       "      <th>2</th>\n",
       "      <td>201612</td>\n",
       "      <td>M</td>\n",
       "      <td>USA</td>\n",
       "      <td>2017-03-03T09:16:27-05:00</td>\n",
       "      <td>99</td>\n",
       "      <td>ELEC.CONS_TOT_BTU.COW-US-99.M</td>\n",
       "      <td>200101</td>\n",
       "      <td>COW</td>\n",
       "      <td>million MMBtu</td>\n",
       "      <td>2016</td>\n",
       "      <td>10</td>\n",
       "      <td>1057.00563</td>\n",
       "    </tr>\n",
       "    <tr>\n",
       "      <th>3</th>\n",
       "      <td>201612</td>\n",
       "      <td>M</td>\n",
       "      <td>USA</td>\n",
       "      <td>2017-03-03T09:16:27-05:00</td>\n",
       "      <td>99</td>\n",
       "      <td>ELEC.CONS_TOT_BTU.COW-US-99.M</td>\n",
       "      <td>200101</td>\n",
       "      <td>COW</td>\n",
       "      <td>million MMBtu</td>\n",
       "      <td>2016</td>\n",
       "      <td>9</td>\n",
       "      <td>1216.53859</td>\n",
       "    </tr>\n",
       "    <tr>\n",
       "      <th>4</th>\n",
       "      <td>201612</td>\n",
       "      <td>M</td>\n",
       "      <td>USA</td>\n",
       "      <td>2017-03-03T09:16:27-05:00</td>\n",
       "      <td>99</td>\n",
       "      <td>ELEC.CONS_TOT_BTU.COW-US-99.M</td>\n",
       "      <td>200101</td>\n",
       "      <td>COW</td>\n",
       "      <td>million MMBtu</td>\n",
       "      <td>2016</td>\n",
       "      <td>8</td>\n",
       "      <td>1450.03624</td>\n",
       "    </tr>\n",
       "  </tbody>\n",
       "</table>\n",
       "</div>"
      ],
      "text/plain": [
       "      end  f geography               last_updated sector  \\\n",
       "0  201612  M       USA  2017-03-03T09:16:27-05:00     99   \n",
       "1  201612  M       USA  2017-03-03T09:16:27-05:00     99   \n",
       "2  201612  M       USA  2017-03-03T09:16:27-05:00     99   \n",
       "3  201612  M       USA  2017-03-03T09:16:27-05:00     99   \n",
       "4  201612  M       USA  2017-03-03T09:16:27-05:00     99   \n",
       "\n",
       "                       series_id   start type          units  year  month  \\\n",
       "0  ELEC.CONS_TOT_BTU.COW-US-99.M  200101  COW  million MMBtu  2016     12   \n",
       "1  ELEC.CONS_TOT_BTU.COW-US-99.M  200101  COW  million MMBtu  2016     11   \n",
       "2  ELEC.CONS_TOT_BTU.COW-US-99.M  200101  COW  million MMBtu  2016     10   \n",
       "3  ELEC.CONS_TOT_BTU.COW-US-99.M  200101  COW  million MMBtu  2016      9   \n",
       "4  ELEC.CONS_TOT_BTU.COW-US-99.M  200101  COW  million MMBtu  2016      8   \n",
       "\n",
       "        value  \n",
       "0  1260.87651  \n",
       "1   934.68259  \n",
       "2  1057.00563  \n",
       "3  1216.53859  \n",
       "4  1450.03624  "
      ]
     },
     "execution_count": 13,
     "metadata": {},
     "output_type": "execute_result"
    }
   ],
   "source": [
    "#drop\n",
    "total_fuel_df.head()"
   ]
  },
  {
   "cell_type": "markdown",
   "metadata": {
    "deletable": true,
    "editable": true
   },
   "source": [
    "Multiply generation values by 1,000,000 and change the units to MMBtu"
   ]
  },
  {
   "cell_type": "code",
   "execution_count": 14,
   "metadata": {
    "ExecuteTime": {
     "end_time": "2017-03-15T15:28:39.050000",
     "start_time": "2017-03-15T15:28:39.044000"
    },
    "collapsed": true,
    "deletable": true,
    "editable": true
   },
   "outputs": [],
   "source": [
    "total_fuel_df.loc[:,'value'] *= 1E6\n",
    "total_fuel_df.loc[:,'units'] = 'mmbtu'"
   ]
  },
  {
   "cell_type": "code",
   "execution_count": 15,
   "metadata": {
    "ExecuteTime": {
     "end_time": "2017-03-15T15:28:39.786000",
     "start_time": "2017-03-15T15:28:39.773000"
    },
    "collapsed": false,
    "deletable": true,
    "editable": true
   },
   "outputs": [],
   "source": [
    "total_fuel_df['datetime'] = pd.to_datetime(total_fuel_df['year'].astype(str) + '-' + total_fuel_df['month'].astype(str), format='%Y-%m')\n",
    "total_fuel_df['quarter'] = total_fuel_df['datetime'].dt.quarter\n",
    "total_fuel_df.rename_axis({'value':'total fuel (mmbtu)'}, axis=1, inplace=True)"
   ]
  },
  {
   "cell_type": "code",
   "execution_count": 16,
   "metadata": {
    "ExecuteTime": {
     "end_time": "2017-03-15T15:28:40.445000",
     "start_time": "2017-03-15T15:28:40.415000"
    },
    "collapsed": false,
    "deletable": true,
    "editable": true
   },
   "outputs": [
    {
     "data": {
      "text/html": [
       "<div>\n",
       "<table border=\"1\" class=\"dataframe\">\n",
       "  <thead>\n",
       "    <tr style=\"text-align: right;\">\n",
       "      <th></th>\n",
       "      <th>end</th>\n",
       "      <th>f</th>\n",
       "      <th>geography</th>\n",
       "      <th>last_updated</th>\n",
       "      <th>sector</th>\n",
       "      <th>series_id</th>\n",
       "      <th>start</th>\n",
       "      <th>type</th>\n",
       "      <th>units</th>\n",
       "      <th>year</th>\n",
       "      <th>month</th>\n",
       "      <th>total fuel (mmbtu)</th>\n",
       "      <th>datetime</th>\n",
       "      <th>quarter</th>\n",
       "    </tr>\n",
       "  </thead>\n",
       "  <tbody>\n",
       "    <tr>\n",
       "      <th>0</th>\n",
       "      <td>201612</td>\n",
       "      <td>M</td>\n",
       "      <td>USA</td>\n",
       "      <td>2017-03-03T09:16:27-05:00</td>\n",
       "      <td>99</td>\n",
       "      <td>ELEC.CONS_TOT_BTU.COW-US-99.M</td>\n",
       "      <td>200101</td>\n",
       "      <td>COW</td>\n",
       "      <td>mmbtu</td>\n",
       "      <td>2016</td>\n",
       "      <td>12</td>\n",
       "      <td>1.260877e+09</td>\n",
       "      <td>2016-12-01</td>\n",
       "      <td>4</td>\n",
       "    </tr>\n",
       "    <tr>\n",
       "      <th>1</th>\n",
       "      <td>201612</td>\n",
       "      <td>M</td>\n",
       "      <td>USA</td>\n",
       "      <td>2017-03-03T09:16:27-05:00</td>\n",
       "      <td>99</td>\n",
       "      <td>ELEC.CONS_TOT_BTU.COW-US-99.M</td>\n",
       "      <td>200101</td>\n",
       "      <td>COW</td>\n",
       "      <td>mmbtu</td>\n",
       "      <td>2016</td>\n",
       "      <td>11</td>\n",
       "      <td>9.346826e+08</td>\n",
       "      <td>2016-11-01</td>\n",
       "      <td>4</td>\n",
       "    </tr>\n",
       "    <tr>\n",
       "      <th>2</th>\n",
       "      <td>201612</td>\n",
       "      <td>M</td>\n",
       "      <td>USA</td>\n",
       "      <td>2017-03-03T09:16:27-05:00</td>\n",
       "      <td>99</td>\n",
       "      <td>ELEC.CONS_TOT_BTU.COW-US-99.M</td>\n",
       "      <td>200101</td>\n",
       "      <td>COW</td>\n",
       "      <td>mmbtu</td>\n",
       "      <td>2016</td>\n",
       "      <td>10</td>\n",
       "      <td>1.057006e+09</td>\n",
       "      <td>2016-10-01</td>\n",
       "      <td>4</td>\n",
       "    </tr>\n",
       "    <tr>\n",
       "      <th>3</th>\n",
       "      <td>201612</td>\n",
       "      <td>M</td>\n",
       "      <td>USA</td>\n",
       "      <td>2017-03-03T09:16:27-05:00</td>\n",
       "      <td>99</td>\n",
       "      <td>ELEC.CONS_TOT_BTU.COW-US-99.M</td>\n",
       "      <td>200101</td>\n",
       "      <td>COW</td>\n",
       "      <td>mmbtu</td>\n",
       "      <td>2016</td>\n",
       "      <td>9</td>\n",
       "      <td>1.216539e+09</td>\n",
       "      <td>2016-09-01</td>\n",
       "      <td>3</td>\n",
       "    </tr>\n",
       "    <tr>\n",
       "      <th>4</th>\n",
       "      <td>201612</td>\n",
       "      <td>M</td>\n",
       "      <td>USA</td>\n",
       "      <td>2017-03-03T09:16:27-05:00</td>\n",
       "      <td>99</td>\n",
       "      <td>ELEC.CONS_TOT_BTU.COW-US-99.M</td>\n",
       "      <td>200101</td>\n",
       "      <td>COW</td>\n",
       "      <td>mmbtu</td>\n",
       "      <td>2016</td>\n",
       "      <td>8</td>\n",
       "      <td>1.450036e+09</td>\n",
       "      <td>2016-08-01</td>\n",
       "      <td>3</td>\n",
       "    </tr>\n",
       "  </tbody>\n",
       "</table>\n",
       "</div>"
      ],
      "text/plain": [
       "      end  f geography               last_updated sector  \\\n",
       "0  201612  M       USA  2017-03-03T09:16:27-05:00     99   \n",
       "1  201612  M       USA  2017-03-03T09:16:27-05:00     99   \n",
       "2  201612  M       USA  2017-03-03T09:16:27-05:00     99   \n",
       "3  201612  M       USA  2017-03-03T09:16:27-05:00     99   \n",
       "4  201612  M       USA  2017-03-03T09:16:27-05:00     99   \n",
       "\n",
       "                       series_id   start type  units  year  month  \\\n",
       "0  ELEC.CONS_TOT_BTU.COW-US-99.M  200101  COW  mmbtu  2016     12   \n",
       "1  ELEC.CONS_TOT_BTU.COW-US-99.M  200101  COW  mmbtu  2016     11   \n",
       "2  ELEC.CONS_TOT_BTU.COW-US-99.M  200101  COW  mmbtu  2016     10   \n",
       "3  ELEC.CONS_TOT_BTU.COW-US-99.M  200101  COW  mmbtu  2016      9   \n",
       "4  ELEC.CONS_TOT_BTU.COW-US-99.M  200101  COW  mmbtu  2016      8   \n",
       "\n",
       "   total fuel (mmbtu)   datetime  quarter  \n",
       "0        1.260877e+09 2016-12-01        4  \n",
       "1        9.346826e+08 2016-11-01        4  \n",
       "2        1.057006e+09 2016-10-01        4  \n",
       "3        1.216539e+09 2016-09-01        3  \n",
       "4        1.450036e+09 2016-08-01        3  "
      ]
     },
     "execution_count": 16,
     "metadata": {},
     "output_type": "execute_result"
    }
   ],
   "source": [
    "#drop\n",
    "total_fuel_df.head()"
   ]
  },
  {
   "cell_type": "code",
   "execution_count": 17,
   "metadata": {
    "ExecuteTime": {
     "end_time": "2017-03-15T15:28:40.878000",
     "start_time": "2017-03-15T15:28:40.863000"
    },
    "collapsed": false,
    "deletable": true,
    "editable": true
   },
   "outputs": [
    {
     "data": {
      "text/html": [
       "<div>\n",
       "<table border=\"1\" class=\"dataframe\">\n",
       "  <thead>\n",
       "    <tr style=\"text-align: right;\">\n",
       "      <th></th>\n",
       "      <th>end</th>\n",
       "      <th>f</th>\n",
       "      <th>geography</th>\n",
       "      <th>last_updated</th>\n",
       "      <th>sector</th>\n",
       "      <th>series_id</th>\n",
       "      <th>start</th>\n",
       "      <th>type</th>\n",
       "      <th>units</th>\n",
       "      <th>year</th>\n",
       "      <th>month</th>\n",
       "      <th>total fuel (mmbtu)</th>\n",
       "      <th>datetime</th>\n",
       "      <th>quarter</th>\n",
       "    </tr>\n",
       "  </thead>\n",
       "  <tbody>\n",
       "  </tbody>\n",
       "</table>\n",
       "</div>"
      ],
      "text/plain": [
       "Empty DataFrame\n",
       "Columns: [end, f, geography, last_updated, sector, series_id, start, type, units, year, month, total fuel (mmbtu), datetime, quarter]\n",
       "Index: []"
      ]
     },
     "execution_count": 17,
     "metadata": {},
     "output_type": "execute_result"
    }
   ],
   "source": [
    "#drop\n",
    "total_fuel_df.loc[total_fuel_df['type']=='OOG'].head()"
   ]
  },
  {
   "cell_type": "markdown",
   "metadata": {
    "deletable": true,
    "editable": true
   },
   "source": [
    "## Electric generation fuel consumption"
   ]
  },
  {
   "cell_type": "code",
   "execution_count": 18,
   "metadata": {
    "ExecuteTime": {
     "end_time": "2017-03-15T15:28:42.024000",
     "start_time": "2017-03-15T15:28:41.910000"
    },
    "collapsed": true,
    "deletable": true,
    "editable": true
   },
   "outputs": [],
   "source": [
    "eg_fuel_df = pd.concat([line_to_df(json.loads(row)) for row in eg_fuel_rows])"
   ]
  },
  {
   "cell_type": "code",
   "execution_count": 19,
   "metadata": {
    "ExecuteTime": {
     "end_time": "2017-03-15T15:28:42.145000",
     "start_time": "2017-03-15T15:28:42.112000"
    },
    "collapsed": false,
    "deletable": true,
    "editable": true
   },
   "outputs": [
    {
     "data": {
      "text/html": [
       "<div>\n",
       "<table border=\"1\" class=\"dataframe\">\n",
       "  <thead>\n",
       "    <tr style=\"text-align: right;\">\n",
       "      <th></th>\n",
       "      <th>end</th>\n",
       "      <th>f</th>\n",
       "      <th>geography</th>\n",
       "      <th>last_updated</th>\n",
       "      <th>sector</th>\n",
       "      <th>series_id</th>\n",
       "      <th>start</th>\n",
       "      <th>type</th>\n",
       "      <th>units</th>\n",
       "      <th>year</th>\n",
       "      <th>month</th>\n",
       "      <th>value</th>\n",
       "    </tr>\n",
       "  </thead>\n",
       "  <tbody>\n",
       "    <tr>\n",
       "      <th>0</th>\n",
       "      <td>201612</td>\n",
       "      <td>M</td>\n",
       "      <td>USA</td>\n",
       "      <td>2017-03-03T09:16:27-05:00</td>\n",
       "      <td>99</td>\n",
       "      <td>ELEC.CONS_EG_BTU.COW-US-99.M</td>\n",
       "      <td>200101</td>\n",
       "      <td>COW</td>\n",
       "      <td>million MMBtu</td>\n",
       "      <td>2016</td>\n",
       "      <td>12</td>\n",
       "      <td>1236.23483</td>\n",
       "    </tr>\n",
       "    <tr>\n",
       "      <th>1</th>\n",
       "      <td>201612</td>\n",
       "      <td>M</td>\n",
       "      <td>USA</td>\n",
       "      <td>2017-03-03T09:16:27-05:00</td>\n",
       "      <td>99</td>\n",
       "      <td>ELEC.CONS_EG_BTU.COW-US-99.M</td>\n",
       "      <td>200101</td>\n",
       "      <td>COW</td>\n",
       "      <td>million MMBtu</td>\n",
       "      <td>2016</td>\n",
       "      <td>11</td>\n",
       "      <td>913.35719</td>\n",
       "    </tr>\n",
       "    <tr>\n",
       "      <th>2</th>\n",
       "      <td>201612</td>\n",
       "      <td>M</td>\n",
       "      <td>USA</td>\n",
       "      <td>2017-03-03T09:16:27-05:00</td>\n",
       "      <td>99</td>\n",
       "      <td>ELEC.CONS_EG_BTU.COW-US-99.M</td>\n",
       "      <td>200101</td>\n",
       "      <td>COW</td>\n",
       "      <td>million MMBtu</td>\n",
       "      <td>2016</td>\n",
       "      <td>10</td>\n",
       "      <td>1036.24820</td>\n",
       "    </tr>\n",
       "    <tr>\n",
       "      <th>3</th>\n",
       "      <td>201612</td>\n",
       "      <td>M</td>\n",
       "      <td>USA</td>\n",
       "      <td>2017-03-03T09:16:27-05:00</td>\n",
       "      <td>99</td>\n",
       "      <td>ELEC.CONS_EG_BTU.COW-US-99.M</td>\n",
       "      <td>200101</td>\n",
       "      <td>COW</td>\n",
       "      <td>million MMBtu</td>\n",
       "      <td>2016</td>\n",
       "      <td>9</td>\n",
       "      <td>1195.13663</td>\n",
       "    </tr>\n",
       "    <tr>\n",
       "      <th>4</th>\n",
       "      <td>201612</td>\n",
       "      <td>M</td>\n",
       "      <td>USA</td>\n",
       "      <td>2017-03-03T09:16:27-05:00</td>\n",
       "      <td>99</td>\n",
       "      <td>ELEC.CONS_EG_BTU.COW-US-99.M</td>\n",
       "      <td>200101</td>\n",
       "      <td>COW</td>\n",
       "      <td>million MMBtu</td>\n",
       "      <td>2016</td>\n",
       "      <td>8</td>\n",
       "      <td>1426.01303</td>\n",
       "    </tr>\n",
       "  </tbody>\n",
       "</table>\n",
       "</div>"
      ],
      "text/plain": [
       "      end  f geography               last_updated sector  \\\n",
       "0  201612  M       USA  2017-03-03T09:16:27-05:00     99   \n",
       "1  201612  M       USA  2017-03-03T09:16:27-05:00     99   \n",
       "2  201612  M       USA  2017-03-03T09:16:27-05:00     99   \n",
       "3  201612  M       USA  2017-03-03T09:16:27-05:00     99   \n",
       "4  201612  M       USA  2017-03-03T09:16:27-05:00     99   \n",
       "\n",
       "                      series_id   start type          units  year  month  \\\n",
       "0  ELEC.CONS_EG_BTU.COW-US-99.M  200101  COW  million MMBtu  2016     12   \n",
       "1  ELEC.CONS_EG_BTU.COW-US-99.M  200101  COW  million MMBtu  2016     11   \n",
       "2  ELEC.CONS_EG_BTU.COW-US-99.M  200101  COW  million MMBtu  2016     10   \n",
       "3  ELEC.CONS_EG_BTU.COW-US-99.M  200101  COW  million MMBtu  2016      9   \n",
       "4  ELEC.CONS_EG_BTU.COW-US-99.M  200101  COW  million MMBtu  2016      8   \n",
       "\n",
       "        value  \n",
       "0  1236.23483  \n",
       "1   913.35719  \n",
       "2  1036.24820  \n",
       "3  1195.13663  \n",
       "4  1426.01303  "
      ]
     },
     "execution_count": 19,
     "metadata": {},
     "output_type": "execute_result"
    }
   ],
   "source": [
    "#drop\n",
    "eg_fuel_df.head()"
   ]
  },
  {
   "cell_type": "markdown",
   "metadata": {
    "deletable": true,
    "editable": true
   },
   "source": [
    "Multiply generation values by 1,000,000 and change the units to MMBtu"
   ]
  },
  {
   "cell_type": "code",
   "execution_count": 20,
   "metadata": {
    "ExecuteTime": {
     "end_time": "2017-03-15T15:28:42.898000",
     "start_time": "2017-03-15T15:28:42.893000"
    },
    "collapsed": true,
    "deletable": true,
    "editable": true
   },
   "outputs": [],
   "source": [
    "eg_fuel_df.loc[:,'value'] *= 1E6\n",
    "eg_fuel_df.loc[:,'units'] = 'mmbtu'"
   ]
  },
  {
   "cell_type": "code",
   "execution_count": 21,
   "metadata": {
    "ExecuteTime": {
     "end_time": "2017-03-15T15:28:43.165000",
     "start_time": "2017-03-15T15:28:43.118000"
    },
    "collapsed": false,
    "deletable": true,
    "editable": true
   },
   "outputs": [],
   "source": [
    "eg_fuel_df['datetime'] = pd.to_datetime(eg_fuel_df['year'].astype(str) + '-' + eg_fuel_df['month'].astype(str), format='%Y-%m')\n",
    "eg_fuel_df['quarter'] = eg_fuel_df['datetime'].dt.quarter\n",
    "eg_fuel_df.rename_axis({'value':'elec fuel (mmbtu)'}, axis=1, inplace=True)"
   ]
  },
  {
   "cell_type": "code",
   "execution_count": 22,
   "metadata": {
    "ExecuteTime": {
     "end_time": "2017-03-15T15:28:43.552000",
     "start_time": "2017-03-15T15:28:43.520000"
    },
    "collapsed": false,
    "deletable": true,
    "editable": true
   },
   "outputs": [
    {
     "data": {
      "text/html": [
       "<div>\n",
       "<table border=\"1\" class=\"dataframe\">\n",
       "  <thead>\n",
       "    <tr style=\"text-align: right;\">\n",
       "      <th></th>\n",
       "      <th>end</th>\n",
       "      <th>f</th>\n",
       "      <th>geography</th>\n",
       "      <th>last_updated</th>\n",
       "      <th>sector</th>\n",
       "      <th>series_id</th>\n",
       "      <th>start</th>\n",
       "      <th>type</th>\n",
       "      <th>units</th>\n",
       "      <th>year</th>\n",
       "      <th>month</th>\n",
       "      <th>elec fuel (mmbtu)</th>\n",
       "      <th>datetime</th>\n",
       "      <th>quarter</th>\n",
       "    </tr>\n",
       "  </thead>\n",
       "  <tbody>\n",
       "    <tr>\n",
       "      <th>0</th>\n",
       "      <td>201612</td>\n",
       "      <td>M</td>\n",
       "      <td>USA</td>\n",
       "      <td>2017-03-03T09:16:27-05:00</td>\n",
       "      <td>99</td>\n",
       "      <td>ELEC.CONS_EG_BTU.COW-US-99.M</td>\n",
       "      <td>200101</td>\n",
       "      <td>COW</td>\n",
       "      <td>mmbtu</td>\n",
       "      <td>2016</td>\n",
       "      <td>12</td>\n",
       "      <td>1.236235e+09</td>\n",
       "      <td>2016-12-01</td>\n",
       "      <td>4</td>\n",
       "    </tr>\n",
       "    <tr>\n",
       "      <th>1</th>\n",
       "      <td>201612</td>\n",
       "      <td>M</td>\n",
       "      <td>USA</td>\n",
       "      <td>2017-03-03T09:16:27-05:00</td>\n",
       "      <td>99</td>\n",
       "      <td>ELEC.CONS_EG_BTU.COW-US-99.M</td>\n",
       "      <td>200101</td>\n",
       "      <td>COW</td>\n",
       "      <td>mmbtu</td>\n",
       "      <td>2016</td>\n",
       "      <td>11</td>\n",
       "      <td>9.133572e+08</td>\n",
       "      <td>2016-11-01</td>\n",
       "      <td>4</td>\n",
       "    </tr>\n",
       "    <tr>\n",
       "      <th>2</th>\n",
       "      <td>201612</td>\n",
       "      <td>M</td>\n",
       "      <td>USA</td>\n",
       "      <td>2017-03-03T09:16:27-05:00</td>\n",
       "      <td>99</td>\n",
       "      <td>ELEC.CONS_EG_BTU.COW-US-99.M</td>\n",
       "      <td>200101</td>\n",
       "      <td>COW</td>\n",
       "      <td>mmbtu</td>\n",
       "      <td>2016</td>\n",
       "      <td>10</td>\n",
       "      <td>1.036248e+09</td>\n",
       "      <td>2016-10-01</td>\n",
       "      <td>4</td>\n",
       "    </tr>\n",
       "    <tr>\n",
       "      <th>3</th>\n",
       "      <td>201612</td>\n",
       "      <td>M</td>\n",
       "      <td>USA</td>\n",
       "      <td>2017-03-03T09:16:27-05:00</td>\n",
       "      <td>99</td>\n",
       "      <td>ELEC.CONS_EG_BTU.COW-US-99.M</td>\n",
       "      <td>200101</td>\n",
       "      <td>COW</td>\n",
       "      <td>mmbtu</td>\n",
       "      <td>2016</td>\n",
       "      <td>9</td>\n",
       "      <td>1.195137e+09</td>\n",
       "      <td>2016-09-01</td>\n",
       "      <td>3</td>\n",
       "    </tr>\n",
       "    <tr>\n",
       "      <th>4</th>\n",
       "      <td>201612</td>\n",
       "      <td>M</td>\n",
       "      <td>USA</td>\n",
       "      <td>2017-03-03T09:16:27-05:00</td>\n",
       "      <td>99</td>\n",
       "      <td>ELEC.CONS_EG_BTU.COW-US-99.M</td>\n",
       "      <td>200101</td>\n",
       "      <td>COW</td>\n",
       "      <td>mmbtu</td>\n",
       "      <td>2016</td>\n",
       "      <td>8</td>\n",
       "      <td>1.426013e+09</td>\n",
       "      <td>2016-08-01</td>\n",
       "      <td>3</td>\n",
       "    </tr>\n",
       "  </tbody>\n",
       "</table>\n",
       "</div>"
      ],
      "text/plain": [
       "      end  f geography               last_updated sector  \\\n",
       "0  201612  M       USA  2017-03-03T09:16:27-05:00     99   \n",
       "1  201612  M       USA  2017-03-03T09:16:27-05:00     99   \n",
       "2  201612  M       USA  2017-03-03T09:16:27-05:00     99   \n",
       "3  201612  M       USA  2017-03-03T09:16:27-05:00     99   \n",
       "4  201612  M       USA  2017-03-03T09:16:27-05:00     99   \n",
       "\n",
       "                      series_id   start type  units  year  month  \\\n",
       "0  ELEC.CONS_EG_BTU.COW-US-99.M  200101  COW  mmbtu  2016     12   \n",
       "1  ELEC.CONS_EG_BTU.COW-US-99.M  200101  COW  mmbtu  2016     11   \n",
       "2  ELEC.CONS_EG_BTU.COW-US-99.M  200101  COW  mmbtu  2016     10   \n",
       "3  ELEC.CONS_EG_BTU.COW-US-99.M  200101  COW  mmbtu  2016      9   \n",
       "4  ELEC.CONS_EG_BTU.COW-US-99.M  200101  COW  mmbtu  2016      8   \n",
       "\n",
       "   elec fuel (mmbtu)   datetime  quarter  \n",
       "0       1.236235e+09 2016-12-01        4  \n",
       "1       9.133572e+08 2016-11-01        4  \n",
       "2       1.036248e+09 2016-10-01        4  \n",
       "3       1.195137e+09 2016-09-01        3  \n",
       "4       1.426013e+09 2016-08-01        3  "
      ]
     },
     "execution_count": 22,
     "metadata": {},
     "output_type": "execute_result"
    }
   ],
   "source": [
    "#drop\n",
    "eg_fuel_df.head()"
   ]
  },
  {
   "cell_type": "markdown",
   "metadata": {
    "deletable": true,
    "editable": true
   },
   "source": [
    "## Combine three datasets\n",
    "Need to estimate fuel use for OOG, because EIA doesn't include any (this is only ~2% of OOG fuel for electricity in 2015)."
   ]
  },
  {
   "cell_type": "code",
   "execution_count": 23,
   "metadata": {
    "ExecuteTime": {
     "end_time": "2017-03-15T15:28:45.402000",
     "start_time": "2017-03-15T15:28:45.357000"
    },
    "collapsed": false,
    "deletable": true,
    "editable": true
   },
   "outputs": [
    {
     "data": {
      "text/html": [
       "<div>\n",
       "<table border=\"1\" class=\"dataframe\">\n",
       "  <thead>\n",
       "    <tr style=\"text-align: right;\">\n",
       "      <th></th>\n",
       "      <th>end</th>\n",
       "      <th>f</th>\n",
       "      <th>geography</th>\n",
       "      <th>last_updated</th>\n",
       "      <th>sector</th>\n",
       "      <th>series_id</th>\n",
       "      <th>start</th>\n",
       "      <th>type</th>\n",
       "      <th>units</th>\n",
       "      <th>year</th>\n",
       "      <th>month</th>\n",
       "      <th>total fuel (mmbtu)</th>\n",
       "      <th>datetime</th>\n",
       "      <th>quarter</th>\n",
       "      <th>elec fuel (mmbtu)</th>\n",
       "    </tr>\n",
       "  </thead>\n",
       "  <tbody>\n",
       "    <tr>\n",
       "      <th>0</th>\n",
       "      <td>201612</td>\n",
       "      <td>M</td>\n",
       "      <td>USA</td>\n",
       "      <td>2017-03-03T09:16:27-05:00</td>\n",
       "      <td>99</td>\n",
       "      <td>ELEC.CONS_TOT_BTU.COW-US-99.M</td>\n",
       "      <td>200101</td>\n",
       "      <td>COW</td>\n",
       "      <td>mmbtu</td>\n",
       "      <td>2016</td>\n",
       "      <td>12</td>\n",
       "      <td>1.260877e+09</td>\n",
       "      <td>2016-12-01</td>\n",
       "      <td>4</td>\n",
       "      <td>1.236235e+09</td>\n",
       "    </tr>\n",
       "    <tr>\n",
       "      <th>1</th>\n",
       "      <td>201612</td>\n",
       "      <td>M</td>\n",
       "      <td>USA</td>\n",
       "      <td>2017-03-03T09:16:27-05:00</td>\n",
       "      <td>99</td>\n",
       "      <td>ELEC.CONS_TOT_BTU.COW-US-99.M</td>\n",
       "      <td>200101</td>\n",
       "      <td>COW</td>\n",
       "      <td>mmbtu</td>\n",
       "      <td>2016</td>\n",
       "      <td>11</td>\n",
       "      <td>9.346826e+08</td>\n",
       "      <td>2016-11-01</td>\n",
       "      <td>4</td>\n",
       "      <td>9.133572e+08</td>\n",
       "    </tr>\n",
       "    <tr>\n",
       "      <th>2</th>\n",
       "      <td>201612</td>\n",
       "      <td>M</td>\n",
       "      <td>USA</td>\n",
       "      <td>2017-03-03T09:16:27-05:00</td>\n",
       "      <td>99</td>\n",
       "      <td>ELEC.CONS_TOT_BTU.COW-US-99.M</td>\n",
       "      <td>200101</td>\n",
       "      <td>COW</td>\n",
       "      <td>mmbtu</td>\n",
       "      <td>2016</td>\n",
       "      <td>10</td>\n",
       "      <td>1.057006e+09</td>\n",
       "      <td>2016-10-01</td>\n",
       "      <td>4</td>\n",
       "      <td>1.036248e+09</td>\n",
       "    </tr>\n",
       "    <tr>\n",
       "      <th>3</th>\n",
       "      <td>201612</td>\n",
       "      <td>M</td>\n",
       "      <td>USA</td>\n",
       "      <td>2017-03-03T09:16:27-05:00</td>\n",
       "      <td>99</td>\n",
       "      <td>ELEC.CONS_TOT_BTU.COW-US-99.M</td>\n",
       "      <td>200101</td>\n",
       "      <td>COW</td>\n",
       "      <td>mmbtu</td>\n",
       "      <td>2016</td>\n",
       "      <td>9</td>\n",
       "      <td>1.216539e+09</td>\n",
       "      <td>2016-09-01</td>\n",
       "      <td>3</td>\n",
       "      <td>1.195137e+09</td>\n",
       "    </tr>\n",
       "    <tr>\n",
       "      <th>4</th>\n",
       "      <td>201612</td>\n",
       "      <td>M</td>\n",
       "      <td>USA</td>\n",
       "      <td>2017-03-03T09:16:27-05:00</td>\n",
       "      <td>99</td>\n",
       "      <td>ELEC.CONS_TOT_BTU.COW-US-99.M</td>\n",
       "      <td>200101</td>\n",
       "      <td>COW</td>\n",
       "      <td>mmbtu</td>\n",
       "      <td>2016</td>\n",
       "      <td>8</td>\n",
       "      <td>1.450036e+09</td>\n",
       "      <td>2016-08-01</td>\n",
       "      <td>3</td>\n",
       "      <td>1.426013e+09</td>\n",
       "    </tr>\n",
       "  </tbody>\n",
       "</table>\n",
       "</div>"
      ],
      "text/plain": [
       "      end  f geography               last_updated sector  \\\n",
       "0  201612  M       USA  2017-03-03T09:16:27-05:00     99   \n",
       "1  201612  M       USA  2017-03-03T09:16:27-05:00     99   \n",
       "2  201612  M       USA  2017-03-03T09:16:27-05:00     99   \n",
       "3  201612  M       USA  2017-03-03T09:16:27-05:00     99   \n",
       "4  201612  M       USA  2017-03-03T09:16:27-05:00     99   \n",
       "\n",
       "                       series_id   start type  units  year  month  \\\n",
       "0  ELEC.CONS_TOT_BTU.COW-US-99.M  200101  COW  mmbtu  2016     12   \n",
       "1  ELEC.CONS_TOT_BTU.COW-US-99.M  200101  COW  mmbtu  2016     11   \n",
       "2  ELEC.CONS_TOT_BTU.COW-US-99.M  200101  COW  mmbtu  2016     10   \n",
       "3  ELEC.CONS_TOT_BTU.COW-US-99.M  200101  COW  mmbtu  2016      9   \n",
       "4  ELEC.CONS_TOT_BTU.COW-US-99.M  200101  COW  mmbtu  2016      8   \n",
       "\n",
       "   total fuel (mmbtu)   datetime  quarter  elec fuel (mmbtu)  \n",
       "0        1.260877e+09 2016-12-01        4       1.236235e+09  \n",
       "1        9.346826e+08 2016-11-01        4       9.133572e+08  \n",
       "2        1.057006e+09 2016-10-01        4       1.036248e+09  \n",
       "3        1.216539e+09 2016-09-01        3       1.195137e+09  \n",
       "4        1.450036e+09 2016-08-01        3       1.426013e+09  "
      ]
     },
     "execution_count": 23,
     "metadata": {},
     "output_type": "execute_result"
    }
   ],
   "source": [
    "merge_cols = ['type', 'year', 'month']\n",
    "\n",
    "fuel_df = total_fuel_df.merge(eg_fuel_df[merge_cols+['elec fuel (mmbtu)']], \n",
    "                              how='outer', on=merge_cols)\n",
    "fuel_df.head()"
   ]
  },
  {
   "cell_type": "markdown",
   "metadata": {
    "deletable": true,
    "editable": true
   },
   "source": [
    "Not seeing the issue that shows up with facilities, where some facilities have positive total fuel consumption but no elec fuel consumption"
   ]
  },
  {
   "cell_type": "code",
   "execution_count": 24,
   "metadata": {
    "ExecuteTime": {
     "end_time": "2017-03-15T15:28:46.823000",
     "start_time": "2017-03-15T15:28:46.806000"
    },
    "collapsed": false,
    "deletable": true,
    "editable": true
   },
   "outputs": [
    {
     "data": {
      "text/html": [
       "<div>\n",
       "<table border=\"1\" class=\"dataframe\">\n",
       "  <thead>\n",
       "    <tr style=\"text-align: right;\">\n",
       "      <th></th>\n",
       "      <th>end</th>\n",
       "      <th>f</th>\n",
       "      <th>geography</th>\n",
       "      <th>last_updated</th>\n",
       "      <th>sector</th>\n",
       "      <th>series_id</th>\n",
       "      <th>start</th>\n",
       "      <th>type</th>\n",
       "      <th>units</th>\n",
       "      <th>year</th>\n",
       "      <th>month</th>\n",
       "      <th>total fuel (mmbtu)</th>\n",
       "      <th>datetime</th>\n",
       "      <th>quarter</th>\n",
       "      <th>elec fuel (mmbtu)</th>\n",
       "    </tr>\n",
       "  </thead>\n",
       "  <tbody>\n",
       "  </tbody>\n",
       "</table>\n",
       "</div>"
      ],
      "text/plain": [
       "Empty DataFrame\n",
       "Columns: [end, f, geography, last_updated, sector, series_id, start, type, units, year, month, total fuel (mmbtu), datetime, quarter, elec fuel (mmbtu)]\n",
       "Index: []"
      ]
     },
     "execution_count": 24,
     "metadata": {},
     "output_type": "execute_result"
    }
   ],
   "source": [
    "#drop\n",
    "fuel_df.loc[~(fuel_df['elec fuel (mmbtu)']>=0)]"
   ]
  },
  {
   "cell_type": "code",
   "execution_count": 25,
   "metadata": {
    "ExecuteTime": {
     "end_time": "2017-03-15T15:28:47.841000",
     "start_time": "2017-03-15T15:28:47.793000"
    },
    "collapsed": false,
    "deletable": true,
    "editable": true
   },
   "outputs": [
    {
     "data": {
      "text/html": [
       "<div>\n",
       "<table border=\"1\" class=\"dataframe\">\n",
       "  <thead>\n",
       "    <tr style=\"text-align: right;\">\n",
       "      <th></th>\n",
       "      <th>end</th>\n",
       "      <th>f</th>\n",
       "      <th>geography</th>\n",
       "      <th>last_updated</th>\n",
       "      <th>sector</th>\n",
       "      <th>series_id</th>\n",
       "      <th>start</th>\n",
       "      <th>type</th>\n",
       "      <th>units</th>\n",
       "      <th>year</th>\n",
       "      <th>month</th>\n",
       "      <th>generation (MWh)</th>\n",
       "      <th>datetime</th>\n",
       "      <th>quarter</th>\n",
       "      <th>total fuel (mmbtu)</th>\n",
       "      <th>elec fuel (mmbtu)</th>\n",
       "    </tr>\n",
       "  </thead>\n",
       "  <tbody>\n",
       "    <tr>\n",
       "      <th>0</th>\n",
       "      <td>201612</td>\n",
       "      <td>M</td>\n",
       "      <td>USA</td>\n",
       "      <td>2017-03-03T09:16:27-05:00</td>\n",
       "      <td>99</td>\n",
       "      <td>ELEC.GEN.AOR-US-99.M</td>\n",
       "      <td>200101</td>\n",
       "      <td>AOR</td>\n",
       "      <td>megawatthours</td>\n",
       "      <td>2016</td>\n",
       "      <td>12</td>\n",
       "      <td>32426660.31</td>\n",
       "      <td>2016-12-01</td>\n",
       "      <td>4</td>\n",
       "      <td>NaN</td>\n",
       "      <td>NaN</td>\n",
       "    </tr>\n",
       "    <tr>\n",
       "      <th>1</th>\n",
       "      <td>201612</td>\n",
       "      <td>M</td>\n",
       "      <td>USA</td>\n",
       "      <td>2017-03-03T09:16:27-05:00</td>\n",
       "      <td>99</td>\n",
       "      <td>ELEC.GEN.AOR-US-99.M</td>\n",
       "      <td>200101</td>\n",
       "      <td>AOR</td>\n",
       "      <td>megawatthours</td>\n",
       "      <td>2016</td>\n",
       "      <td>11</td>\n",
       "      <td>28579082.98</td>\n",
       "      <td>2016-11-01</td>\n",
       "      <td>4</td>\n",
       "      <td>NaN</td>\n",
       "      <td>NaN</td>\n",
       "    </tr>\n",
       "    <tr>\n",
       "      <th>2</th>\n",
       "      <td>201612</td>\n",
       "      <td>M</td>\n",
       "      <td>USA</td>\n",
       "      <td>2017-03-03T09:16:27-05:00</td>\n",
       "      <td>99</td>\n",
       "      <td>ELEC.GEN.AOR-US-99.M</td>\n",
       "      <td>200101</td>\n",
       "      <td>AOR</td>\n",
       "      <td>megawatthours</td>\n",
       "      <td>2016</td>\n",
       "      <td>10</td>\n",
       "      <td>29919292.94</td>\n",
       "      <td>2016-10-01</td>\n",
       "      <td>4</td>\n",
       "      <td>NaN</td>\n",
       "      <td>NaN</td>\n",
       "    </tr>\n",
       "    <tr>\n",
       "      <th>3</th>\n",
       "      <td>201612</td>\n",
       "      <td>M</td>\n",
       "      <td>USA</td>\n",
       "      <td>2017-03-03T09:16:27-05:00</td>\n",
       "      <td>99</td>\n",
       "      <td>ELEC.GEN.AOR-US-99.M</td>\n",
       "      <td>200101</td>\n",
       "      <td>AOR</td>\n",
       "      <td>megawatthours</td>\n",
       "      <td>2016</td>\n",
       "      <td>9</td>\n",
       "      <td>26695985.79</td>\n",
       "      <td>2016-09-01</td>\n",
       "      <td>3</td>\n",
       "      <td>NaN</td>\n",
       "      <td>NaN</td>\n",
       "    </tr>\n",
       "    <tr>\n",
       "      <th>4</th>\n",
       "      <td>201612</td>\n",
       "      <td>M</td>\n",
       "      <td>USA</td>\n",
       "      <td>2017-03-03T09:16:27-05:00</td>\n",
       "      <td>99</td>\n",
       "      <td>ELEC.GEN.AOR-US-99.M</td>\n",
       "      <td>200101</td>\n",
       "      <td>AOR</td>\n",
       "      <td>megawatthours</td>\n",
       "      <td>2016</td>\n",
       "      <td>8</td>\n",
       "      <td>24509792.10</td>\n",
       "      <td>2016-08-01</td>\n",
       "      <td>3</td>\n",
       "      <td>NaN</td>\n",
       "      <td>NaN</td>\n",
       "    </tr>\n",
       "  </tbody>\n",
       "</table>\n",
       "</div>"
      ],
      "text/plain": [
       "      end  f geography               last_updated sector  \\\n",
       "0  201612  M       USA  2017-03-03T09:16:27-05:00     99   \n",
       "1  201612  M       USA  2017-03-03T09:16:27-05:00     99   \n",
       "2  201612  M       USA  2017-03-03T09:16:27-05:00     99   \n",
       "3  201612  M       USA  2017-03-03T09:16:27-05:00     99   \n",
       "4  201612  M       USA  2017-03-03T09:16:27-05:00     99   \n",
       "\n",
       "              series_id   start type          units  year  month  \\\n",
       "0  ELEC.GEN.AOR-US-99.M  200101  AOR  megawatthours  2016     12   \n",
       "1  ELEC.GEN.AOR-US-99.M  200101  AOR  megawatthours  2016     11   \n",
       "2  ELEC.GEN.AOR-US-99.M  200101  AOR  megawatthours  2016     10   \n",
       "3  ELEC.GEN.AOR-US-99.M  200101  AOR  megawatthours  2016      9   \n",
       "4  ELEC.GEN.AOR-US-99.M  200101  AOR  megawatthours  2016      8   \n",
       "\n",
       "   generation (MWh)   datetime  quarter  total fuel (mmbtu)  elec fuel (mmbtu)  \n",
       "0       32426660.31 2016-12-01        4                 NaN                NaN  \n",
       "1       28579082.98 2016-11-01        4                 NaN                NaN  \n",
       "2       29919292.94 2016-10-01        4                 NaN                NaN  \n",
       "3       26695985.79 2016-09-01        3                 NaN                NaN  \n",
       "4       24509792.10 2016-08-01        3                 NaN                NaN  "
      ]
     },
     "execution_count": 25,
     "metadata": {},
     "output_type": "execute_result"
    }
   ],
   "source": [
    "gen_fuel_df = gen_df.merge(fuel_df[merge_cols+['total fuel (mmbtu)', 'elec fuel (mmbtu)']], \n",
    "                           how='outer', on=merge_cols)\n",
    "gen_fuel_df.head()"
   ]
  },
  {
   "cell_type": "markdown",
   "metadata": {
    "deletable": true,
    "editable": true
   },
   "source": [
    "No records with positive fuel use but no generation"
   ]
  },
  {
   "cell_type": "code",
   "execution_count": 26,
   "metadata": {
    "ExecuteTime": {
     "end_time": "2017-03-15T15:28:49.396000",
     "start_time": "2017-03-15T15:28:49.382000"
    },
    "collapsed": false,
    "deletable": true,
    "editable": true
   },
   "outputs": [
    {
     "data": {
      "text/html": [
       "<div>\n",
       "<table border=\"1\" class=\"dataframe\">\n",
       "  <thead>\n",
       "    <tr style=\"text-align: right;\">\n",
       "      <th></th>\n",
       "      <th>end</th>\n",
       "      <th>f</th>\n",
       "      <th>geography</th>\n",
       "      <th>last_updated</th>\n",
       "      <th>sector</th>\n",
       "      <th>series_id</th>\n",
       "      <th>start</th>\n",
       "      <th>type</th>\n",
       "      <th>units</th>\n",
       "      <th>year</th>\n",
       "      <th>month</th>\n",
       "      <th>generation (MWh)</th>\n",
       "      <th>datetime</th>\n",
       "      <th>quarter</th>\n",
       "      <th>total fuel (mmbtu)</th>\n",
       "      <th>elec fuel (mmbtu)</th>\n",
       "    </tr>\n",
       "  </thead>\n",
       "  <tbody>\n",
       "  </tbody>\n",
       "</table>\n",
       "</div>"
      ],
      "text/plain": [
       "Empty DataFrame\n",
       "Columns: [end, f, geography, last_updated, sector, series_id, start, type, units, year, month, generation (MWh), datetime, quarter, total fuel (mmbtu), elec fuel (mmbtu)]\n",
       "Index: []"
      ]
     },
     "execution_count": 26,
     "metadata": {},
     "output_type": "execute_result"
    }
   ],
   "source": [
    "#drop\n",
    "gen_fuel_df.loc[gen_fuel_df['generation (MWh)'].isnull()]"
   ]
  },
  {
   "cell_type": "markdown",
   "metadata": {
    "deletable": true,
    "editable": true
   },
   "source": [
    "## Add CO<sub>2</sub> emissions\n",
    "\n",
    "The difficulty here is that EIA combines all types of coal fuel consumption together in the bulk download and API. Fortunately the emission factors for different coal types aren't too far off on an energy basis (BIT is 93.3 kg/mmbtu, SUB is 97.2 kg/mmbtu). I'm going to average the BIT and SUB factors rather than trying to do something more complicated. In 2015 BIT represented 45% of coal energy for electricity and SUB represented 48%.\n",
    "\n",
    "Same issue with petroleum liquids. Using the average of DFO and RFO, which were the two largest share of petroleum liquids."
   ]
  },
  {
   "cell_type": "code",
   "execution_count": 27,
   "metadata": {
    "ExecuteTime": {
     "end_time": "2017-03-15T15:28:50.739000",
     "start_time": "2017-03-15T15:28:50.733000"
    },
    "collapsed": true,
    "deletable": true,
    "editable": true
   },
   "outputs": [],
   "source": [
    "path = os.path.join('Clean data', 'Final emission factors.csv')\n",
    "ef = pd.read_csv(path, index_col=0)"
   ]
  },
  {
   "cell_type": "code",
   "execution_count": 28,
   "metadata": {
    "ExecuteTime": {
     "end_time": "2017-03-15T15:28:51.565000",
     "start_time": "2017-03-15T15:28:51.559000"
    },
    "collapsed": false,
    "deletable": true,
    "editable": true
   },
   "outputs": [
    {
     "data": {
      "text/plain": [
       "Index([u'BIT', u'DFO', u'GEO', u'JF', u'KER', u'LIG', u'MSW', u'NG', u'PC',\n",
       "       u'PG', u'RC', u'RFO', u'SGC', u'SGP', u'SUB', u'TDF', u'WC', u'WO',\n",
       "       u'BFG', u'MSN', u'SC', u'OG', u'AB', u'BLQ', u'LFG', u'MSB', u'NUC',\n",
       "       u'OBG', u'OBL', u'OBS', u'OTH', u'PUR', u'SLW', u'SUN', u'WAT', u'WDL',\n",
       "       u'WDS', u'WH', u'WND'],\n",
       "      dtype='object', name=u'EIA Fuel Code')"
      ]
     },
     "execution_count": 28,
     "metadata": {},
     "output_type": "execute_result"
    }
   ],
   "source": [
    "#drop\n",
    "ef.index"
   ]
  },
  {
   "cell_type": "code",
   "execution_count": 29,
   "metadata": {
    "ExecuteTime": {
     "end_time": "2017-03-15T15:28:52.412000",
     "start_time": "2017-03-15T15:28:52.407000"
    },
    "collapsed": false,
    "deletable": true,
    "editable": true
   },
   "outputs": [
    {
     "data": {
      "text/plain": [
       "array([u'AOR', u'DPV', u'GEO', u'HPS', u'HYC', u'PC', u'COW', u'OOG',\n",
       "       u'OTH', u'NUC', u'NG', u'WAS', u'STH', u'SPV', u'PEL', u'TSN',\n",
       "       u'SUN', u'WWW', u'WND'], dtype=object)"
      ]
     },
     "execution_count": 29,
     "metadata": {},
     "output_type": "execute_result"
    }
   ],
   "source": [
    "#drop\n",
    "gen_fuel_df['type'].unique()"
   ]
  },
  {
   "cell_type": "markdown",
   "metadata": {
    "deletable": true,
    "editable": true
   },
   "source": [
    "### Match general types with specific fuel codes"
   ]
  },
  {
   "cell_type": "markdown",
   "metadata": {
    "deletable": true,
    "editable": true
   },
   "source": [
    "Fuel codes:\n",
    "- WWW, wood and wood derived fuels\n",
    "- WND, wind\n",
    "- STH, solar thermal\n",
    "- WAS, other biomass\n",
    "- TSN, all solar\n",
    "- SUN, utility-scale solar\n",
    "- NUC, nuclear\n",
    "- NG, natural gas\n",
    "- PEL, petroleum liquids\n",
    "- SPV, utility-scale solar photovoltaic\n",
    "- PC, petroluem coke\n",
    "- OTH, other\n",
    "- COW, coal,\n",
    "- DPV, distributed photovoltaic\n",
    "- OOG, other gases\n",
    "- HPS, hydro pumped storage\n",
    "- HYC, conventional hydroelectric\n",
    "- GEO, geothermal\n",
    "- AOR, other renewables (total)"
   ]
  },
  {
   "cell_type": "code",
   "execution_count": 30,
   "metadata": {
    "ExecuteTime": {
     "end_time": "2017-03-15T15:28:55.974000",
     "start_time": "2017-03-15T15:28:55.968000"
    },
    "collapsed": false,
    "deletable": true,
    "editable": true
   },
   "outputs": [
    {
     "data": {
      "text/plain": [
       "53.07"
      ]
     },
     "execution_count": 30,
     "metadata": {},
     "output_type": "execute_result"
    }
   ],
   "source": [
    "#drop\n",
    "ef.loc['NG', 'Fossil Factor']"
   ]
  },
  {
   "cell_type": "code",
   "execution_count": 31,
   "metadata": {
    "ExecuteTime": {
     "end_time": "2017-03-15T15:28:56.680000",
     "start_time": "2017-03-15T15:28:56.671000"
    },
    "collapsed": true,
    "deletable": true,
    "editable": true
   },
   "outputs": [],
   "source": [
    "fuel_factors = {'NG' : ef.loc['NG', 'Fossil Factor'],\n",
    "                   'PEL': ef.loc[['DFO', 'RFO'], 'Fossil Factor'].mean(),\n",
    "                   'PC' : ef.loc['PC', 'Fossil Factor'], \n",
    "                   'COW' : ef.loc[['BIT', 'SUB'], 'Fossil Factor'].mean(),\n",
    "                   'OOG' : ef.loc['OG', 'Fossil Factor']}"
   ]
  },
  {
   "cell_type": "code",
   "execution_count": 32,
   "metadata": {
    "ExecuteTime": {
     "end_time": "2017-03-15T15:28:57.525000",
     "start_time": "2017-03-15T15:28:57.519000"
    },
    "collapsed": false,
    "deletable": true,
    "editable": true
   },
   "outputs": [
    {
     "data": {
      "text/plain": [
       "{'COW': 95.25,\n",
       " 'NG': 53.07,\n",
       " 'OOG': 59.0,\n",
       " 'PC': 102.09999999999999,\n",
       " 'PEL': 75.975}"
      ]
     },
     "execution_count": 32,
     "metadata": {},
     "output_type": "execute_result"
    }
   ],
   "source": [
    "#drop\n",
    "fuel_factors"
   ]
  },
  {
   "cell_type": "code",
   "execution_count": 33,
   "metadata": {
    "ExecuteTime": {
     "end_time": "2017-03-15T15:28:57.993000",
     "start_time": "2017-03-15T15:28:57.942000"
    },
    "collapsed": false,
    "deletable": true,
    "editable": true
   },
   "outputs": [],
   "source": [
    "# Start with 0 emissions in all rows\n",
    "# For fuels where we have an emission factor, replace the 0 with the calculated value\n",
    "gen_fuel_df['all fuel CO2 (kg)'] = 0\n",
    "gen_fuel_df['elec fuel CO2 (kg)'] = 0\n",
    "for fuel in fuel_factors.keys():\n",
    "    gen_fuel_df.loc[gen_fuel_df['type']==fuel,'all fuel CO2 (kg)'] = \\\n",
    "        gen_fuel_df.loc[gen_fuel_df['type']==fuel,'total fuel (mmbtu)'] * fuel_factors[fuel]\n",
    "        \n",
    "    gen_fuel_df.loc[gen_fuel_df['type']==fuel,'elec fuel CO2 (kg)'] = \\\n",
    "        gen_fuel_df.loc[gen_fuel_df['type']==fuel,'elec fuel (mmbtu)'] * fuel_factors[fuel]"
   ]
  },
  {
   "cell_type": "code",
   "execution_count": 34,
   "metadata": {
    "ExecuteTime": {
     "end_time": "2017-03-15T15:28:58.815000",
     "start_time": "2017-03-15T15:28:58.770000"
    },
    "collapsed": false,
    "deletable": true,
    "editable": true
   },
   "outputs": [
    {
     "data": {
      "text/html": [
       "<div>\n",
       "<table border=\"1\" class=\"dataframe\">\n",
       "  <thead>\n",
       "    <tr style=\"text-align: right;\">\n",
       "      <th></th>\n",
       "      <th>end</th>\n",
       "      <th>f</th>\n",
       "      <th>geography</th>\n",
       "      <th>last_updated</th>\n",
       "      <th>sector</th>\n",
       "      <th>series_id</th>\n",
       "      <th>start</th>\n",
       "      <th>type</th>\n",
       "      <th>units</th>\n",
       "      <th>year</th>\n",
       "      <th>month</th>\n",
       "      <th>generation (MWh)</th>\n",
       "      <th>datetime</th>\n",
       "      <th>quarter</th>\n",
       "      <th>total fuel (mmbtu)</th>\n",
       "      <th>elec fuel (mmbtu)</th>\n",
       "      <th>all fuel CO2 (kg)</th>\n",
       "      <th>elec fuel CO2 (kg)</th>\n",
       "    </tr>\n",
       "  </thead>\n",
       "  <tbody>\n",
       "    <tr>\n",
       "      <th>996</th>\n",
       "      <td>201612</td>\n",
       "      <td>M</td>\n",
       "      <td>USA</td>\n",
       "      <td>2017-03-03T09:16:27-05:00</td>\n",
       "      <td>99</td>\n",
       "      <td>ELEC.GEN.COW-US-99.M</td>\n",
       "      <td>200101</td>\n",
       "      <td>COW</td>\n",
       "      <td>megawatthours</td>\n",
       "      <td>2016</td>\n",
       "      <td>12</td>\n",
       "      <td>1.187902e+08</td>\n",
       "      <td>2016-12-01</td>\n",
       "      <td>4</td>\n",
       "      <td>1.260877e+09</td>\n",
       "      <td>1.236235e+09</td>\n",
       "      <td>1.200985e+11</td>\n",
       "      <td>1.177514e+11</td>\n",
       "    </tr>\n",
       "    <tr>\n",
       "      <th>997</th>\n",
       "      <td>201612</td>\n",
       "      <td>M</td>\n",
       "      <td>USA</td>\n",
       "      <td>2017-03-03T09:16:27-05:00</td>\n",
       "      <td>99</td>\n",
       "      <td>ELEC.GEN.COW-US-99.M</td>\n",
       "      <td>200101</td>\n",
       "      <td>COW</td>\n",
       "      <td>megawatthours</td>\n",
       "      <td>2016</td>\n",
       "      <td>11</td>\n",
       "      <td>8.699971e+07</td>\n",
       "      <td>2016-11-01</td>\n",
       "      <td>4</td>\n",
       "      <td>9.346826e+08</td>\n",
       "      <td>9.133572e+08</td>\n",
       "      <td>8.902852e+10</td>\n",
       "      <td>8.699727e+10</td>\n",
       "    </tr>\n",
       "    <tr>\n",
       "      <th>998</th>\n",
       "      <td>201612</td>\n",
       "      <td>M</td>\n",
       "      <td>USA</td>\n",
       "      <td>2017-03-03T09:16:27-05:00</td>\n",
       "      <td>99</td>\n",
       "      <td>ELEC.GEN.COW-US-99.M</td>\n",
       "      <td>200101</td>\n",
       "      <td>COW</td>\n",
       "      <td>megawatthours</td>\n",
       "      <td>2016</td>\n",
       "      <td>10</td>\n",
       "      <td>9.933756e+07</td>\n",
       "      <td>2016-10-01</td>\n",
       "      <td>4</td>\n",
       "      <td>1.057006e+09</td>\n",
       "      <td>1.036248e+09</td>\n",
       "      <td>1.006798e+11</td>\n",
       "      <td>9.870264e+10</td>\n",
       "    </tr>\n",
       "    <tr>\n",
       "      <th>999</th>\n",
       "      <td>201612</td>\n",
       "      <td>M</td>\n",
       "      <td>USA</td>\n",
       "      <td>2017-03-03T09:16:27-05:00</td>\n",
       "      <td>99</td>\n",
       "      <td>ELEC.GEN.COW-US-99.M</td>\n",
       "      <td>200101</td>\n",
       "      <td>COW</td>\n",
       "      <td>megawatthours</td>\n",
       "      <td>2016</td>\n",
       "      <td>9</td>\n",
       "      <td>1.142817e+08</td>\n",
       "      <td>2016-09-01</td>\n",
       "      <td>3</td>\n",
       "      <td>1.216539e+09</td>\n",
       "      <td>1.195137e+09</td>\n",
       "      <td>1.158753e+11</td>\n",
       "      <td>1.138368e+11</td>\n",
       "    </tr>\n",
       "    <tr>\n",
       "      <th>1000</th>\n",
       "      <td>201612</td>\n",
       "      <td>M</td>\n",
       "      <td>USA</td>\n",
       "      <td>2017-03-03T09:16:27-05:00</td>\n",
       "      <td>99</td>\n",
       "      <td>ELEC.GEN.COW-US-99.M</td>\n",
       "      <td>200101</td>\n",
       "      <td>COW</td>\n",
       "      <td>megawatthours</td>\n",
       "      <td>2016</td>\n",
       "      <td>8</td>\n",
       "      <td>1.358110e+08</td>\n",
       "      <td>2016-08-01</td>\n",
       "      <td>3</td>\n",
       "      <td>1.450036e+09</td>\n",
       "      <td>1.426013e+09</td>\n",
       "      <td>1.381160e+11</td>\n",
       "      <td>1.358277e+11</td>\n",
       "    </tr>\n",
       "  </tbody>\n",
       "</table>\n",
       "</div>"
      ],
      "text/plain": [
       "         end  f geography               last_updated sector  \\\n",
       "996   201612  M       USA  2017-03-03T09:16:27-05:00     99   \n",
       "997   201612  M       USA  2017-03-03T09:16:27-05:00     99   \n",
       "998   201612  M       USA  2017-03-03T09:16:27-05:00     99   \n",
       "999   201612  M       USA  2017-03-03T09:16:27-05:00     99   \n",
       "1000  201612  M       USA  2017-03-03T09:16:27-05:00     99   \n",
       "\n",
       "                 series_id   start type          units  year  month  \\\n",
       "996   ELEC.GEN.COW-US-99.M  200101  COW  megawatthours  2016     12   \n",
       "997   ELEC.GEN.COW-US-99.M  200101  COW  megawatthours  2016     11   \n",
       "998   ELEC.GEN.COW-US-99.M  200101  COW  megawatthours  2016     10   \n",
       "999   ELEC.GEN.COW-US-99.M  200101  COW  megawatthours  2016      9   \n",
       "1000  ELEC.GEN.COW-US-99.M  200101  COW  megawatthours  2016      8   \n",
       "\n",
       "      generation (MWh)   datetime  quarter  total fuel (mmbtu)  \\\n",
       "996       1.187902e+08 2016-12-01        4        1.260877e+09   \n",
       "997       8.699971e+07 2016-11-01        4        9.346826e+08   \n",
       "998       9.933756e+07 2016-10-01        4        1.057006e+09   \n",
       "999       1.142817e+08 2016-09-01        3        1.216539e+09   \n",
       "1000      1.358110e+08 2016-08-01        3        1.450036e+09   \n",
       "\n",
       "      elec fuel (mmbtu)  all fuel CO2 (kg)  elec fuel CO2 (kg)  \n",
       "996        1.236235e+09       1.200985e+11        1.177514e+11  \n",
       "997        9.133572e+08       8.902852e+10        8.699727e+10  \n",
       "998        1.036248e+09       1.006798e+11        9.870264e+10  \n",
       "999        1.195137e+09       1.158753e+11        1.138368e+11  \n",
       "1000       1.426013e+09       1.381160e+11        1.358277e+11  "
      ]
     },
     "execution_count": 34,
     "metadata": {},
     "output_type": "execute_result"
    }
   ],
   "source": [
    "gen_fuel_df.loc[gen_fuel_df['type']=='COW',:].head()"
   ]
  },
  {
   "cell_type": "code",
   "execution_count": 35,
   "metadata": {
    "ExecuteTime": {
     "end_time": "2017-03-15T15:29:02.291000",
     "start_time": "2017-03-15T15:29:02.242000"
    },
    "collapsed": false,
    "deletable": true,
    "editable": true
   },
   "outputs": [
    {
     "data": {
      "text/html": [
       "<div>\n",
       "<table border=\"1\" class=\"dataframe\">\n",
       "  <thead>\n",
       "    <tr style=\"text-align: right;\">\n",
       "      <th></th>\n",
       "      <th>end</th>\n",
       "      <th>f</th>\n",
       "      <th>geography</th>\n",
       "      <th>last_updated</th>\n",
       "      <th>sector</th>\n",
       "      <th>series_id</th>\n",
       "      <th>start</th>\n",
       "      <th>type</th>\n",
       "      <th>units</th>\n",
       "      <th>year</th>\n",
       "      <th>month</th>\n",
       "      <th>generation (MWh)</th>\n",
       "      <th>datetime</th>\n",
       "      <th>quarter</th>\n",
       "      <th>total fuel (mmbtu)</th>\n",
       "      <th>elec fuel (mmbtu)</th>\n",
       "      <th>all fuel CO2 (kg)</th>\n",
       "      <th>elec fuel CO2 (kg)</th>\n",
       "    </tr>\n",
       "  </thead>\n",
       "  <tbody>\n",
       "    <tr>\n",
       "      <th>1188</th>\n",
       "      <td>201612</td>\n",
       "      <td>M</td>\n",
       "      <td>USA</td>\n",
       "      <td>2017-03-03T09:16:27-05:00</td>\n",
       "      <td>99</td>\n",
       "      <td>ELEC.GEN.OOG-US-99.M</td>\n",
       "      <td>200101</td>\n",
       "      <td>OOG</td>\n",
       "      <td>megawatthours</td>\n",
       "      <td>2016</td>\n",
       "      <td>12</td>\n",
       "      <td>1007405.42</td>\n",
       "      <td>2016-12-01</td>\n",
       "      <td>4</td>\n",
       "      <td>NaN</td>\n",
       "      <td>NaN</td>\n",
       "      <td>NaN</td>\n",
       "      <td>NaN</td>\n",
       "    </tr>\n",
       "    <tr>\n",
       "      <th>1189</th>\n",
       "      <td>201612</td>\n",
       "      <td>M</td>\n",
       "      <td>USA</td>\n",
       "      <td>2017-03-03T09:16:27-05:00</td>\n",
       "      <td>99</td>\n",
       "      <td>ELEC.GEN.OOG-US-99.M</td>\n",
       "      <td>200101</td>\n",
       "      <td>OOG</td>\n",
       "      <td>megawatthours</td>\n",
       "      <td>2016</td>\n",
       "      <td>11</td>\n",
       "      <td>1001151.99</td>\n",
       "      <td>2016-11-01</td>\n",
       "      <td>4</td>\n",
       "      <td>NaN</td>\n",
       "      <td>NaN</td>\n",
       "      <td>NaN</td>\n",
       "      <td>NaN</td>\n",
       "    </tr>\n",
       "    <tr>\n",
       "      <th>1190</th>\n",
       "      <td>201612</td>\n",
       "      <td>M</td>\n",
       "      <td>USA</td>\n",
       "      <td>2017-03-03T09:16:27-05:00</td>\n",
       "      <td>99</td>\n",
       "      <td>ELEC.GEN.OOG-US-99.M</td>\n",
       "      <td>200101</td>\n",
       "      <td>OOG</td>\n",
       "      <td>megawatthours</td>\n",
       "      <td>2016</td>\n",
       "      <td>10</td>\n",
       "      <td>891165.18</td>\n",
       "      <td>2016-10-01</td>\n",
       "      <td>4</td>\n",
       "      <td>NaN</td>\n",
       "      <td>NaN</td>\n",
       "      <td>NaN</td>\n",
       "      <td>NaN</td>\n",
       "    </tr>\n",
       "    <tr>\n",
       "      <th>1191</th>\n",
       "      <td>201612</td>\n",
       "      <td>M</td>\n",
       "      <td>USA</td>\n",
       "      <td>2017-03-03T09:16:27-05:00</td>\n",
       "      <td>99</td>\n",
       "      <td>ELEC.GEN.OOG-US-99.M</td>\n",
       "      <td>200101</td>\n",
       "      <td>OOG</td>\n",
       "      <td>megawatthours</td>\n",
       "      <td>2016</td>\n",
       "      <td>9</td>\n",
       "      <td>1050049.21</td>\n",
       "      <td>2016-09-01</td>\n",
       "      <td>3</td>\n",
       "      <td>NaN</td>\n",
       "      <td>NaN</td>\n",
       "      <td>NaN</td>\n",
       "      <td>NaN</td>\n",
       "    </tr>\n",
       "    <tr>\n",
       "      <th>1192</th>\n",
       "      <td>201612</td>\n",
       "      <td>M</td>\n",
       "      <td>USA</td>\n",
       "      <td>2017-03-03T09:16:27-05:00</td>\n",
       "      <td>99</td>\n",
       "      <td>ELEC.GEN.OOG-US-99.M</td>\n",
       "      <td>200101</td>\n",
       "      <td>OOG</td>\n",
       "      <td>megawatthours</td>\n",
       "      <td>2016</td>\n",
       "      <td>8</td>\n",
       "      <td>1101829.28</td>\n",
       "      <td>2016-08-01</td>\n",
       "      <td>3</td>\n",
       "      <td>NaN</td>\n",
       "      <td>NaN</td>\n",
       "      <td>NaN</td>\n",
       "      <td>NaN</td>\n",
       "    </tr>\n",
       "  </tbody>\n",
       "</table>\n",
       "</div>"
      ],
      "text/plain": [
       "         end  f geography               last_updated sector  \\\n",
       "1188  201612  M       USA  2017-03-03T09:16:27-05:00     99   \n",
       "1189  201612  M       USA  2017-03-03T09:16:27-05:00     99   \n",
       "1190  201612  M       USA  2017-03-03T09:16:27-05:00     99   \n",
       "1191  201612  M       USA  2017-03-03T09:16:27-05:00     99   \n",
       "1192  201612  M       USA  2017-03-03T09:16:27-05:00     99   \n",
       "\n",
       "                 series_id   start type          units  year  month  \\\n",
       "1188  ELEC.GEN.OOG-US-99.M  200101  OOG  megawatthours  2016     12   \n",
       "1189  ELEC.GEN.OOG-US-99.M  200101  OOG  megawatthours  2016     11   \n",
       "1190  ELEC.GEN.OOG-US-99.M  200101  OOG  megawatthours  2016     10   \n",
       "1191  ELEC.GEN.OOG-US-99.M  200101  OOG  megawatthours  2016      9   \n",
       "1192  ELEC.GEN.OOG-US-99.M  200101  OOG  megawatthours  2016      8   \n",
       "\n",
       "      generation (MWh)   datetime  quarter  total fuel (mmbtu)  \\\n",
       "1188        1007405.42 2016-12-01        4                 NaN   \n",
       "1189        1001151.99 2016-11-01        4                 NaN   \n",
       "1190         891165.18 2016-10-01        4                 NaN   \n",
       "1191        1050049.21 2016-09-01        3                 NaN   \n",
       "1192        1101829.28 2016-08-01        3                 NaN   \n",
       "\n",
       "      elec fuel (mmbtu)  all fuel CO2 (kg)  elec fuel CO2 (kg)  \n",
       "1188                NaN                NaN                 NaN  \n",
       "1189                NaN                NaN                 NaN  \n",
       "1190                NaN                NaN                 NaN  \n",
       "1191                NaN                NaN                 NaN  \n",
       "1192                NaN                NaN                 NaN  "
      ]
     },
     "execution_count": 35,
     "metadata": {},
     "output_type": "execute_result"
    }
   ],
   "source": [
    "#drop\n",
    "gen_fuel_df.loc[gen_fuel_df['type']=='OOG'].head()"
   ]
  },
  {
   "cell_type": "markdown",
   "metadata": {
    "deletable": true,
    "editable": true
   },
   "source": [
    "### Export data"
   ]
  },
  {
   "cell_type": "code",
   "execution_count": 36,
   "metadata": {
    "ExecuteTime": {
     "end_time": "2017-03-15T15:29:05.950000",
     "start_time": "2017-03-15T15:29:05.814000"
    },
    "collapsed": true,
    "deletable": true,
    "editable": true
   },
   "outputs": [],
   "source": [
    "path = os.path.join('Clean data', 'EIA country-wide gen fuel CO2.csv')\n",
    "gen_fuel_df.to_csv(path, index=False)"
   ]
  },
  {
   "cell_type": "code",
   "execution_count": null,
   "metadata": {
    "collapsed": true,
    "deletable": true,
    "editable": true
   },
   "outputs": [],
   "source": []
  },
  {
   "cell_type": "code",
   "execution_count": null,
   "metadata": {
    "collapsed": true,
    "deletable": true,
    "editable": true
   },
   "outputs": [],
   "source": []
  }
 ],
 "metadata": {
  "kernelspec": {
   "display_name": "Python [conda root]",
   "language": "python",
   "name": "conda-root-py"
  },
  "language_info": {
   "codemirror_mode": {
    "name": "ipython",
    "version": 2
   },
   "file_extension": ".py",
   "mimetype": "text/x-python",
   "name": "python",
   "nbconvert_exporter": "python",
   "pygments_lexer": "ipython2",
   "version": "2.7.12"
  }
 },
 "nbformat": 4,
 "nbformat_minor": 1
}
